{
 "cells": [
  {
   "cell_type": "code",
   "execution_count": 1,
   "id": "c2078f64",
   "metadata": {},
   "outputs": [],
   "source": [
    "# s-> word, i ->position\n",
    "def q3(s,i):\n",
    "    print(\"Q3\")\n",
    "    if (i == len(s)): \n",
    "        print(\"SUCCESS\")\n",
    "        return\n",
    "    # transition\n",
    "    # change the state to q1\n",
    "    if (s[i] == \"i\"): q1(s, i+1)\n",
    "    # change the state to q0\n",
    "    else: q0(s, i+1)"
   ]
  },
  {
   "cell_type": "code",
   "execution_count": 2,
   "id": "5fc4f172",
   "metadata": {},
   "outputs": [],
   "source": [
    "# s-> word, i ->position\n",
    "def q2(s,i):\n",
    "    print(\"Q2\")\n",
    "    if (i == len(s)): \n",
    "        print(\"NO\")\n",
    "        return\n",
    "    # transition\n",
    "    # change the state to q3\n",
    "    if (s[i] == \"g\"): q3(s, i+1)\n",
    "    # change the state to q1\n",
    "    elif (s[i] == \"i\"): q1(s, i+1)\n",
    "    # change the state to q0\n",
    "    else: q0(s, i+1)"
   ]
  },
  {
   "cell_type": "code",
   "execution_count": 3,
   "id": "2d9a8c15",
   "metadata": {},
   "outputs": [],
   "source": [
    "# s-> word, i ->position\n",
    "def q1(s,i):\n",
    "    print(\"Q1\")\n",
    "    if (i == len(s)): \n",
    "        print(\"NO\")\n",
    "        return\n",
    "    # transition\n",
    "    # change the state to q2\n",
    "    if (s[i] == \"n\"): q2(s, i+1)\n",
    "    # change the state to q1\n",
    "    elif (s[i] == \"i\"): q1(s, i+1)\n",
    "    # change the state to q0\n",
    "    else: q0(s, i+1)"
   ]
  },
  {
   "cell_type": "code",
   "execution_count": 4,
   "id": "12f24689",
   "metadata": {},
   "outputs": [],
   "source": [
    "# s-> word, i ->position\n",
    "def q0(s,i):\n",
    "    print(\"Q0\")\n",
    "    if (i == len(s)): \n",
    "        print(\"NO\")\n",
    "        return\n",
    "    # transition\n",
    "    # change the state to q1\n",
    "    if (s[i] == \"i\"): q1(s, i+1)\n",
    "    # change the state to q0\n",
    "    else: q0(s, i+1)"
   ]
  },
  {
   "cell_type": "code",
   "execution_count": 5,
   "id": "71445da4",
   "metadata": {},
   "outputs": [
    {
     "name": "stdout",
     "output_type": "stream",
     "text": [
      "Q0\n",
      "Q0\n",
      "Q0\n",
      "Q0\n",
      "Q0\n",
      "Q1\n",
      "Q2\n",
      "Q3\n",
      "SUCCESS\n"
     ]
    }
   ],
   "source": [
    "input = \"running\"\n",
    "q0(input,0)"
   ]
  },
  {
   "cell_type": "code",
   "execution_count": 6,
   "id": "4f0d7d53",
   "metadata": {},
   "outputs": [
    {
     "name": "stdout",
     "output_type": "stream",
     "text": [
      "Q0\n",
      "Q0\n",
      "Q0\n",
      "Q0\n",
      "Q0\n",
      "Q1\n",
      "Q2\n",
      "Q3\n",
      "Q0\n",
      "NO\n"
     ]
    }
   ],
   "source": [
    "input = \"runninga\"\n",
    "q0(input,0)"
   ]
  },
  {
   "cell_type": "code",
   "execution_count": 7,
   "id": "0f384526",
   "metadata": {},
   "outputs": [
    {
     "name": "stdout",
     "output_type": "stream",
     "text": [
      "Q0\n",
      "Q1\n",
      "Q2\n",
      "Q3\n",
      "SUCCESS\n"
     ]
    }
   ],
   "source": [
    "input = \"ing\"\n",
    "q0(input,0)"
   ]
  },
  {
   "cell_type": "code",
   "execution_count": null,
   "id": "650d03ff",
   "metadata": {},
   "outputs": [],
   "source": []
  }
 ],
 "metadata": {
  "kernelspec": {
   "display_name": "Python 3 (ipykernel)",
   "language": "python",
   "name": "python3"
  },
  "language_info": {
   "codemirror_mode": {
    "name": "ipython",
    "version": 3
   },
   "file_extension": ".py",
   "mimetype": "text/x-python",
   "name": "python",
   "nbconvert_exporter": "python",
   "pygments_lexer": "ipython3",
   "version": "3.11.4"
  }
 },
 "nbformat": 4,
 "nbformat_minor": 5
}
