{
 "cells": [
  {
   "cell_type": "code",
   "execution_count": null,
   "metadata": {},
   "outputs": [],
   "source": [
    "import nltk\n",
    "from nltk.wsd import lesk\n",
    "from nltk.tokenize import word_tokenize\n",
    "\n",
    "nltk.download('punkt')\n",
    "nltk.download('wordnet')"
   ]
  },
  {
   "cell_type": "code",
   "execution_count": 3,
   "metadata": {},
   "outputs": [
    {
     "name": "stdout",
     "output_type": "stream",
     "text": [
      "a number of sheets (ticket or stamps etc.) bound together on one edge\n",
      "arrange for and reserve (something for someone else) in advance\n"
     ]
    }
   ],
   "source": [
    "sentence1 = 'I love reading books on coding.'.split()\n",
    "sentence2 = 'The table was already booked by someone else.'.split()\n",
    "\n",
    "wsd1 = lesk(sentence1, 'book')\n",
    "print(wsd1.definition())\n",
    "\n",
    "wsd2 = lesk(sentence2, 'book')\n",
    "print(wsd2.definition())"
   ]
  },
  {
   "cell_type": "code",
   "execution_count": 10,
   "metadata": {},
   "outputs": [
    {
     "name": "stdout",
     "output_type": "stream",
     "text": [
      "press tightly together or cram\n",
      "deliberate radiation or reflection of electromagnetic energy for the purpose of disrupting enemy use of electronic devices or systems\n"
     ]
    }
   ],
   "source": [
    "seq1a = 'my mother prepares very yummy jam.'.split()\n",
    "seq2a = 'Signal jammers are the reason for no signal'.split()\n",
    "\n",
    "wsd1a = lesk(seq1a, 'jam')\n",
    "print(wsd1a.definition())\n",
    "\n",
    "wsd2a = lesk(seq2a, 'jam')\n",
    "print(wsd2a.definition())"
   ]
  },
  {
   "cell_type": "code",
   "execution_count": 11,
   "metadata": {},
   "outputs": [
    {
     "name": "stdout",
     "output_type": "stream",
     "text": [
      "a financial institution that accepts deposits and channels the money into lending activities\n",
      "a container (usually with a slot in the top) for keeping money at home\n",
      "a slope in the turn of a road or track; the outside is higher than the inside in order to reduce the effects of centrifugal force\n"
     ]
    }
   ],
   "source": [
    "seq11 = \"The fisherman jumped off the bank and into the water.\".split()\n",
    "seq21 = \"The bank down the street was robbed!\".split()\n",
    "seq31 = \"Back in the day, we had an entire bank of computers devoted to this problem. \".split()\n",
    "\n",
    "\n",
    "wsd11 = lesk(seq11, 'bank')\n",
    "print(wsd11.definition())\n",
    "\n",
    "wsd21 = lesk(seq21, 'bank')\n",
    "print(wsd21.definition())\n",
    "\n",
    "wsd31 = lesk(seq31, 'bank')\n",
    "print(wsd31.definition())\n"
   ]
  }
 ],
 "metadata": {
  "kernelspec": {
   "display_name": "py3.11",
   "language": "python",
   "name": "python3"
  },
  "language_info": {
   "codemirror_mode": {
    "name": "ipython",
    "version": 3
   },
   "file_extension": ".py",
   "mimetype": "text/x-python",
   "name": "python",
   "nbconvert_exporter": "python",
   "pygments_lexer": "ipython3",
   "version": "3.11.4"
  },
  "orig_nbformat": 4
 },
 "nbformat": 4,
 "nbformat_minor": 2
}
