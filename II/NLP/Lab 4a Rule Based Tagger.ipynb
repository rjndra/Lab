{
 "cells": [
  {
   "cell_type": "code",
   "execution_count": 1,
   "metadata": {},
   "outputs": [],
   "source": [
    "import nltk"
   ]
  },
  {
   "cell_type": "code",
   "execution_count": 2,
   "metadata": {},
   "outputs": [
    {
     "name": "stderr",
     "output_type": "stream",
     "text": [
      "[nltk_data] Downloading package treebank to\n",
      "[nltk_data]     /Users/rajendrakarki/nltk_data...\n",
      "[nltk_data]   Package treebank is already up-to-date!\n"
     ]
    },
    {
     "data": {
      "text/plain": [
       "True"
      ]
     },
     "execution_count": 2,
     "metadata": {},
     "output_type": "execute_result"
    }
   ],
   "source": [
    "# Generic dataset: validated data set is used here\n",
    "# for easy starting we use 'treebank' dataset\n",
    "nltk.download('treebank')"
   ]
  },
  {
   "cell_type": "code",
   "execution_count": 3,
   "metadata": {},
   "outputs": [
    {
     "name": "stdout",
     "output_type": "stream",
     "text": [
      "3914\n"
     ]
    },
    {
     "data": {
      "text/plain": [
       "[[('Pierre', 'NNP'),\n",
       "  ('Vinken', 'NNP'),\n",
       "  (',', ','),\n",
       "  ('61', 'CD'),\n",
       "  ('years', 'NNS'),\n",
       "  ('old', 'JJ'),\n",
       "  (',', ','),\n",
       "  ('will', 'MD'),\n",
       "  ('join', 'VB'),\n",
       "  ('the', 'DT'),\n",
       "  ('board', 'NN'),\n",
       "  ('as', 'IN'),\n",
       "  ('a', 'DT'),\n",
       "  ('nonexecutive', 'JJ'),\n",
       "  ('director', 'NN'),\n",
       "  ('Nov.', 'NNP'),\n",
       "  ('29', 'CD'),\n",
       "  ('.', '.')],\n",
       " [('Mr.', 'NNP'),\n",
       "  ('Vinken', 'NNP'),\n",
       "  ('is', 'VBZ'),\n",
       "  ('chairman', 'NN'),\n",
       "  ('of', 'IN'),\n",
       "  ('Elsevier', 'NNP'),\n",
       "  ('N.V.', 'NNP'),\n",
       "  (',', ','),\n",
       "  ('the', 'DT'),\n",
       "  ('Dutch', 'NNP'),\n",
       "  ('publishing', 'VBG'),\n",
       "  ('group', 'NN'),\n",
       "  ('.', '.')]]"
      ]
     },
     "execution_count": 3,
     "metadata": {},
     "output_type": "execute_result"
    }
   ],
   "source": [
    "wsj = nltk.corpus.treebank.tagged_sents()\n",
    "print(len(wsj))\n",
    "\n",
    "# see structure of data\n",
    "wsj[:2]"
   ]
  },
  {
   "cell_type": "code",
   "execution_count": 4,
   "metadata": {},
   "outputs": [
    {
     "name": "stdout",
     "output_type": "stream",
     "text": [
      "[('Pierre', 'NNP'), ('Vinken', 'NNP'), (',', ','), ('61', 'CD'), ('years', 'NNS')]\n"
     ]
    }
   ],
   "source": [
    "# Tagged word using comphrension of python to get desired result\n",
    "tagged_word = [tup for sent in wsj for tup in sent]\n",
    "print(tagged_word[:5])"
   ]
  },
  {
   "cell_type": "code",
   "execution_count": 5,
   "metadata": {},
   "outputs": [
    {
     "name": "stdout",
     "output_type": "stream",
     "text": [
      "100676\n",
      "46\n"
     ]
    }
   ],
   "source": [
    "# Now get the probability. get the number of Tags\n",
    "# two element in tagged word. iterate over tagged word and return first index data to tags\n",
    "tags = [pair[1] for pair in tagged_word]\n",
    "print(len(tags))\n",
    "unique_tags = set(tags)\n",
    "print(len(unique_tags))"
   ]
  },
  {
   "cell_type": "code",
   "execution_count": 6,
   "metadata": {},
   "outputs": [
    {
     "name": "stdout",
     "output_type": "stream",
     "text": [
      "100676\n",
      "100676\n"
     ]
    }
   ],
   "source": [
    "# practise loop and comprehension of python \n",
    "tag_s1 = []\n",
    "for pair in tagged_word:\n",
    "    tag_s1.append(pair[1])\n",
    "# which is equivalent to below\n",
    "tag_s2 = [pair[1] for pair in tagged_word]\n",
    "print(len(tag_s1))\n",
    "print(len(tag_s2))"
   ]
  },
  {
   "cell_type": "code",
   "execution_count": 7,
   "metadata": {},
   "outputs": [
    {
     "data": {
      "text/plain": [
       "Counter({'NN': 13166,\n",
       "         'IN': 9857,\n",
       "         'NNP': 9410,\n",
       "         'DT': 8165,\n",
       "         '-NONE-': 6592,\n",
       "         'NNS': 6047,\n",
       "         'JJ': 5834,\n",
       "         ',': 4886,\n",
       "         '.': 3874,\n",
       "         'CD': 3546,\n",
       "         'VBD': 3043,\n",
       "         'RB': 2822,\n",
       "         'VB': 2554,\n",
       "         'CC': 2265,\n",
       "         'TO': 2179,\n",
       "         'VBN': 2134,\n",
       "         'VBZ': 2125,\n",
       "         'PRP': 1716,\n",
       "         'VBG': 1460,\n",
       "         'VBP': 1321,\n",
       "         'MD': 927,\n",
       "         'POS': 824,\n",
       "         'PRP$': 766,\n",
       "         '$': 724,\n",
       "         '``': 712,\n",
       "         \"''\": 694,\n",
       "         ':': 563,\n",
       "         'WDT': 445,\n",
       "         'JJR': 381,\n",
       "         'NNPS': 244,\n",
       "         'WP': 241,\n",
       "         'RP': 216,\n",
       "         'JJS': 182,\n",
       "         'WRB': 178,\n",
       "         'RBR': 136,\n",
       "         '-RRB-': 126,\n",
       "         '-LRB-': 120,\n",
       "         'EX': 88,\n",
       "         'RBS': 35,\n",
       "         'PDT': 27,\n",
       "         '#': 16,\n",
       "         'WP$': 14,\n",
       "         'LS': 13,\n",
       "         'FW': 4,\n",
       "         'UH': 3,\n",
       "         'SYM': 1})"
      ]
     },
     "execution_count": 7,
     "metadata": {},
     "output_type": "execute_result"
    }
   ],
   "source": [
    "from collections import Counter\n",
    "tag_counts = Counter(tags)\n",
    "tag_counts"
   ]
  },
  {
   "cell_type": "code",
   "execution_count": 8,
   "metadata": {},
   "outputs": [
    {
     "name": "stdout",
     "output_type": "stream",
     "text": [
      "70\n"
     ]
    }
   ],
   "source": [
    "bank = [pair for pair in tagged_word if pair[0].lower() == 'bank']\n",
    "bank\n",
    "print(len(bank))"
   ]
  },
  {
   "cell_type": "code",
   "execution_count": 9,
   "metadata": {},
   "outputs": [
    {
     "name": "stdout",
     "output_type": "stream",
     "text": [
      "2739\n",
      "1175\n"
     ]
    }
   ],
   "source": [
    "from sklearn.model_selection import train_test_split\n",
    "train_set, test_set = train_test_split(wsj, test_size = 0.3)\n",
    "print(len(train_set))\n",
    "print(len(test_set))"
   ]
  },
  {
   "cell_type": "code",
   "execution_count": 10,
   "metadata": {},
   "outputs": [
    {
     "data": {
      "text/plain": [
       "0.8677768526228143"
      ]
     },
     "execution_count": 10,
     "metadata": {},
     "output_type": "execute_result"
    }
   ],
   "source": [
    "unigram_tagger = nltk.UnigramTagger(train_set)\n",
    "unigram_tagger.accuracy(test_set)"
   ]
  },
  {
   "cell_type": "markdown",
   "metadata": {},
   "source": [
    "Rule Based Tagger"
   ]
  },
  {
   "cell_type": "code",
   "execution_count": 11,
   "metadata": {},
   "outputs": [],
   "source": [
    "patterns = [\n",
    "    (r'.*ing', 'VBG'),                          # Greund\n",
    "    (r'.*ed$', 'VBD'),                          # past Tense\n",
    "    (r'.*es$', 'VBZ'),                          # 3rd singular present\n",
    "    (r'.*ould$', 'MD'),                          # modals \n",
    "    (r'.*\\'s$', 'NN$'),                         # possessive nouns\n",
    "    (r'.*s$', 'NNS'),                           # plural nouns\n",
    "    (r'^-?[0-9]+(.[0-9]+)?$', 'CD'),            # cardinal number\n",
    "    (r'.*', 'NN')                               # nouns\n",
    "]"
   ]
  },
  {
   "cell_type": "code",
   "execution_count": 12,
   "metadata": {},
   "outputs": [
    {
     "data": {
      "text/plain": [
       "0.21751873438801"
      ]
     },
     "execution_count": 12,
     "metadata": {},
     "output_type": "execute_result"
    }
   ],
   "source": [
    "rule_based_tagger = nltk.RegexpTagger(patterns)\n",
    "rule_based_tagger.accuracy(test_set)"
   ]
  },
  {
   "cell_type": "code",
   "execution_count": 13,
   "metadata": {},
   "outputs": [
    {
     "data": {
      "text/plain": [
       "0.9019150707743547"
      ]
     },
     "execution_count": 13,
     "metadata": {},
     "output_type": "execute_result"
    }
   ],
   "source": [
    "lexicon_tagger = nltk.UnigramTagger(train_set, backoff = rule_based_tagger)\n",
    "lexicon_tagger.accuracy(test_set)"
   ]
  },
  {
   "cell_type": "code",
   "execution_count": 14,
   "metadata": {},
   "outputs": [
    {
     "data": {
      "text/plain": [
       "[('This', 'DT'),\n",
       " ('is', 'VBZ'),\n",
       " ('POS', 'NN'),\n",
       " ('tagging', 'VBG'),\n",
       " ('test', 'NN')]"
      ]
     },
     "execution_count": 14,
     "metadata": {},
     "output_type": "execute_result"
    }
   ],
   "source": [
    "lexicon_tagger.tag('This is POS tagging test'.split())"
   ]
  },
  {
   "cell_type": "code",
   "execution_count": 15,
   "metadata": {},
   "outputs": [
    {
     "data": {
      "text/plain": [
       "\"\\n( (S \\n    (PP (IN Despite) \\n      (NP \\n        (NP (DT a) (NN deluge) )\\n        (PP (IN of) \\n          (NP (JJ economic) (NN news) ))))\\n    (, ,) \\n    (S \\n      (NP-SBJ (DT the) (NNP Treasury) (NN market) )\\n      (VP (VBD remained) \\n        (ADJP-PRD (JJ quiet) )))\\n    (CC but) \\n    (S \\n      (NP-SBJ (DT the) (JJ corporate) (NN market) )\\n      (VP (VBD was) \\n        (ADJP-PRD (JJ abuzz) \\n          (PP (IN over) \\n            (NP \\n              (NP (NNP International) (NNP Business) (NNPS Machines) (NNP Corp.) (POS 's) )\\n              (JJ huge) (NN debt) (NN offering) )))))\\n    (. .) ))\\n( (SINV (`` ``) \\n    (S-TPC-1 \\n      (S \\n        (NP-SBJ (EX There) )\\n        (VP (VBD were) \\n          (NP-PRD \\n            (ADJP (RB so) (JJ many) )\\n            (JJ economic) (NNS reports) )))\\n      (CC but) \\n      (S \\n        (NP-SBJ (DT the) (NN market) )\\n        (VP (VBD did) (RB n't) \\n          (VP (VB care) \\n            (PP-CLR (IN about) \\n              (NP \\n                (NP (DT any) )\\n                (PP (IN of) \\n                  (NP (PRP them) ))))))))\\n    (, ,) ('' '') \\n    (VP (VBD said) \\n      (S (-NONE- *T*-1) ))\\n    (NP-SBJ \\n      (NP (NNP Kathleen) (NNP Camilli) )\\n      (, ,) \\n      (NP \\n        (NP (DT a) (NN money) (NN market) (NN economist) )\\n        (PP-LOC (IN at) \\n          (NP (NNP Drexel) (NNP Burnham) (NNP Lambert) (NNP Inc) ))))\\n    (. .) ))\\n( (S (`` ``) \\n    (S-TPC-1 (IN So) \\n      (NP-SBJ (DT the) (NN focus) )\\n      (VP (VBD turned) \\n        (PP-CLR (TO to) \\n          (NP \\n            (NP (JJ other) (JJ fixed-income) (NNS markets) )\\n            (, ,) \\n            (UCP \\n              (ADJP (JJ corporate) )\\n              (CC and) \\n              (NP (NNS mortgages) ))\\n            (PP (IN in) \\n              (ADJP (JJ particular) ))))))\\n    (, ,) ('' '') \\n    (NP-SBJ (PRP she) )\\n    (VP (VBD said) \\n      (S (-NONE- *T*-1) ))\\n    (. .) ))\\n( (S \\n    (NP-SBJ \\n      (NP (NNP IBM) )\\n      (, ,) \\n      (NP (DT the) (JJ giant) (NN computer) (NN maker) )\\n      (, ,) )\\n    (VP (VBD offered) \\n      (NP \\n        (NP \\n          (QP ($ $) (CD 750) (CD million) )\\n          (-NONE- *U*) )\\n        (PP (IN of) \\n          (NP (JJ non-callable) (JJ 30-year) (NNS debentures) ))\\n        (VP (VBN priced) \\n          (NP-1 (-NONE- *) )\\n          (S-CLR \\n            (NP-SBJ (-NONE- *-1) )\\n            (VP (TO to) \\n              (VP (VB yield) \\n                (NP-EXT \\n                  (NP (CD 8.47) (NN %) )\\n                  (, ,) (CC or) \\n                  (ADJP \\n                    (ADJP \\n                      (NP-ADV \\n                        (QP (IN about) (CD 1\\\\/2) )\\n                        (NN percentage) (NN point) )\\n                      (JJR higher) )\\n                    (PP (IN than) \\n                      (NP \\n                        (NP (DT the) (NN yield) )\\n                        (PP (IN on) \\n                          (NP (JJ 30-year) (NNP Treasury) (NNS bonds) ))))))))))))\\n    (. .) ))\\n( (S \\n    (NP-SBJ-1 \\n      (NP (DT The) (NN size) )\\n      (PP (IN of) \\n        (NP \\n          (NP (NNP IBM) (POS 's) )\\n          (NN issue) )))\\n    (VP (VBD was) \\n      (VP (VBN increased) \\n        (NP (-NONE- *-1) )\\n        (PP-CLR (IN from) \\n          (NP (DT an) \\n            (ADJP (RB originally) (VBN planned) )\\n            (QP ($ $) (CD 500) (CD million) )\\n            (-NONE- *U*) ))\\n        (SBAR-ADV (IN as) \\n          (S \\n            (NP-SBJ-2 (NN money) (NNS managers) \\n              (CC and)\\n              (NNS investors) )\\n            (VP (VBD scrambled) \\n              (S \\n                (NP-SBJ (-NONE- *-2) )\\n                (VP (TO to) \\n                  (VP (VB buy) \\n                    (NP (DT the) (NNS bonds) )))))))))\\n    (. .) ))\\n( (SINV \\n    (S-TPC-2 \\n      (PP-LOC (IN In) \\n        (NP (DT the) (JJ investment-grade) (JJ corporate) (NN market) ))\\n      (, ,) (`` ``) \\n      (NP-SBJ (PRP it) )\\n      (VP (VBZ 's) \\n        (ADJP-PRD (JJ rare) \\n          (SBAR (IN that) \\n            (S \\n              (NP-SBJ (PRP you) )\\n              (VP (VBP get) \\n                (NP (DT an) (NN opportunity) \\n                  (S \\n                    (NP-SBJ (-NONE- *) )\\n                    (VP (TO to) \\n                      (VP (VB buy) \\n                        (NP \\n                          (NP (DT a) (NN name) )\\n                          (SBAR \\n                            (WHNP-1 (WDT that) )\\n                            (S \\n                              (NP-SBJ (-NONE- *T*-1) )\\n                              (VP \\n                                (VP (VBZ has) \\n                                  (NP (JJ such) (JJ broad) (NN appeal) ))\\n                                (CC and) \\n                                (VP (VBZ has) \\n                                  (NP (JJ such) (JJ attractive) (NN call) (NNS features) ))))))))))))))))\\n    (, ,) ('' '') \\n    (VP (VBD said) \\n      (SBAR (-NONE- 0) \\n        (S (-NONE- *T*-2) )))\\n    (NP-SBJ \\n      (NP (NNP James) (NNP Ednie) )\\n      (, ,) \\n      (NP (DT a) (NNP Drexel) (JJ industrial) (NN bond) (NN trader) ))\\n    (. .) ))\\n( (S \\n    (NP-SBJ (NN Money) (NNS managers) )\\n    (VP (VBD ranked) \\n      (NP \\n        (NP (NNP IBM) (POS 's) )\\n        (NN offering) )\\n      (PP-CLR (IN as) \\n        (NP \\n          (NP (DT the) \\n            (ADJP (RBS most) (JJ significant) )\\n            (JJ investment-grade) (NN sale) )\\n          (PP (IN of) \\n            (NP (DT the) (NN year) ))))\\n      (SBAR-PRP (IN because) \\n        (S \\n          (NP-SBJ \\n            (NP (JJ large) (NNS issues) )\\n            (PP (IN of) \\n              (NP (JJ long-term) (NN debt) ))\\n            (PP (IN by) \\n              (NP \\n                (NP (NNS companies) )\\n                (PP (IN with) \\n                  (NP (JJ triple-A) (NN credit) )))))\\n          (VP (VBP are) \\n            (ADJP-PRD (JJ infrequent) )))))\\n    (. .) ))\\n( (S \\n    (NP-SBJ-1 \\n      (NP (NN Syndicate) (NNS officials) )\\n      (PP-LOC (IN at) \\n        (NP (NN lead) (NN underwriter) (NNP Salomon) (NNPS Brothers) (NNP Inc.) )))\\n    (VP (VBD said) \\n      (SBAR (-NONE- 0) \\n        (S \\n          (NP-SBJ (DT the) (NNS debentures) )\\n          (VP (VBD were) \\n            (VP (VBN snapped) \\n              (X \\n                (PP (IN by) ))\\n              (PRT (RP up) )\\n              (NP (-NONE- *-1) )\\n              (X \\n                (NP-LGS \\n                  (NP (NN pension) (NNS funds) )\\n                  (, ,) \\n                  (NP (NNS banks) )\\n                  (, ,) \\n                  (NP (NN insurance) (NNS companies) )\\n                  (CC and) \\n                  (NP (JJ other) (JJ institutional) (NNS investors) ))))))))\\n    (. .) ))\\n( (S \\n    (PP-LOC (IN In) \\n      (NP (DT the) (NNP Treasury) (NN market) ))\\n    (, ,) \\n    (NP-SBJ (NNS investors) )\\n    (VP (VBD paid) \\n      (NP \\n        (NP (JJ scant) (NN attention) )\\n        (PP (TO to) \\n          (NP \\n            (NP \\n              (NP (DT the) (NN day) (POS 's) )\\n              (JJ economic) (NNS reports) )\\n            (, ,) \\n            (SBAR \\n              (WHNP-1 (WDT which) )\\n              (S \\n                (NP-SBJ (-NONE- *T*-1) )\\n                (PP (IN for) \\n                  (NP (DT the) (JJS most) (NN part) ))\\n                (VP (VBD provided) \\n                  (NP \\n                    (NP (DT a) (VBN mixed) (NN view) )\\n                    (PP (IN of) \\n                      (NP (DT the) (NN economy) ))))))))))\\n    (. .) ))\\n( (SINV (`` ``) \\n    (S-TPC-1 \\n      (SBAR-ADV (IN Whether) \\n        (S \\n          (NP-SBJ (PRP you) )\\n          (VP (VBD thought) \\n            (SBAR (-NONE- 0) \\n              (S \\n                (NP-SBJ (DT the) (NN economy) )\\n                (VP (VBD was) \\n                  (VP \\n                    (VP (VBG growing) \\n                      (ADJP-PRD (JJ weak) ))\\n                    (CC or) \\n                    (VP (VBG holding) \\n                      (S-ADV \\n                        (NP-SBJ (-NONE- *) )\\n                        (ADJP-PRD (JJ steady) ))))))))))\\n      (, ,) \\n      (NP-SBJ \\n        (NP (NN yesterday) (POS 's) )\\n        (JJ economic) (NNS indicators) )\\n      (VP (VBD did) (RB n't) \\n        (VP (VB change) \\n          (NP (PRP$ your) (NN opinion) ))))\\n    (, ,) ('' '') \\n    (VP (VBD said) \\n      (S (-NONE- *T*-1) ))\\n    (NP-SBJ \\n      (NP (NNP Charles) (NNP Lieberman) )\\n      (, ,) \\n      (NP \\n        (NP (DT a) (VBG managing) (NN director) )\\n        (PP-LOC (IN at) \\n          (NP (NNPS Manufacturers) (NNP Hanover) (NNPS Securities) (NNP Corp) ))))\\n    (. .) ))\\n( (S \\n    (NP-SBJ (DT The) (NN government) )\\n    (VP (VBD reported) \\n      (SBAR (IN that) \\n        (S \\n          (NP-SBJ \\n            (NP (NNS orders) )\\n            (PP (IN for) \\n              (NP (VBN manufactured) (NNS goods) )))\\n          (VP (VBD were) \\n            (ADJP-PRD (RB essentially) (JJ unchanged) )\\n            (PP-TMP (IN in) \\n              (NP (NNP September) ))\\n            (SBAR-ADV (IN while) \\n              (S \\n                (NP-SBJ (NN construction) (NN spending) )\\n                (VP (VBD was) \\n                  (ADJP-PRD (RB slightly) (JJR lower) ))))))))\\n    (. .) ))\\n( (S \\n    (NP-SBJ-1 (DT Both) (NNS indicators) )\\n    (VP (VBD were) \\n      (VP (VBN viewed) \\n        (NP (-NONE- *-1) )\\n        (PP-CLR (IN as) \\n          (NP (NNS signs) \\n            (SBAR (IN that) \\n              (S \\n                (NP-SBJ \\n                  (NP (DT the) (NN nation) (POS 's) )\\n                  (JJ industrial) (NN sector) )\\n                (VP (VBZ is) \\n                  (VP (VBG growing) \\n                    (ADVP-MNR (RB very) (RB slowly) )\\n                    (, ,) \\n                    (FRAG-ADV (IN if) \\n                      (ADVP (IN at) (DT all) ))))))))))\\n    (. .) ))\\n( (S \\n    (NP-SBJ \\n      (NP \\n        (NP (DT A) (NN survey) )\\n        (PP (IN by) \\n          (NP \\n            (NP (DT the) (NNP Federal) (NNP Reserve) (POS 's) )\\n            (CD 12) (NN district) (NNS banks) )))\\n      (CC and) \\n      (NP \\n        (NP (DT the) (JJS latest) (NN report) )\\n        (PP (IN by) \\n          (NP \\n            (NP (DT the) (NNP National) (NNP Association) )\\n            (PP (IN of) \\n              (NP (NNP Purchasing) (NNP Management) ))))))\\n    (VP (VBD blurred) \\n      (NP \\n        (NP (DT that) (NN picture) )\\n        (PP (IN of) \\n          (NP (DT the) (NN economy) ))))\\n    (. .) ))\\n( (S \\n    (PP-LOC (IN In) \\n      (NP \\n        (NP (DT a) (JJ monthly) (NN report) )\\n        (VP (VBN prepared) \\n          (NP (-NONE- *) )\\n          (PP-CLR (IN for) \\n            (NP \\n              (NP (NN use) )\\n              (PP (IN at) \\n                (NP \\n                  (NP \\n                    (NP (DT the) (NNP Fed) (POS 's) )\\n                    (JJ next) (NNP Federal) (NNP Open) (NNP Market) (NNP Committee) (NN meeting) )\\n                  (PP-TMP (IN on) \\n                    (NP (NNP Nov.) (CD 14.) )))))))))\\n    (, ,) \\n    (NP-SBJ \\n      (NP (DT the) (NN nation) (POS 's) )\\n      (JJ central) (NN bank) )\\n    (VP (VBD found) \\n      (SBAR (IN that) \\n        (S \\n          (S \\n            (NP-SBJ (NN price) (NNS increases) )\\n            (VP (VBP have) \\n              (VP (VBN moderated) )))\\n          (CC and) \\n          (S \\n            (NP-SBJ (JJ economic) (NN activity) )\\n            (VP (VBZ has) \\n              (VP (VBN grown) \\n                (PP-MNR (IN at) \\n                  (NP (DT a) (JJ sluggish) (NN pace) ))\\n                (PP-TMP (IN in) \\n                  (NP (JJ recent) (NNS weeks) ))))))))\\n    (. .) ))\\n( (S \\n    (PP (IN Among) \\n      (NP (JJ other) (NNS things) ))\\n    (, ,) \\n    (NP-SBJ (DT the) (NN survey) )\\n    (VP (VBD found) \\n      (SBAR (IN that) \\n        (S \\n          (NP-SBJ (NN manufacturing) (NN activity) )\\n          (VP (VBD varied) \\n            (ADVP (RB considerably) )\\n            (PP-LOC \\n              (PP (IN across) \\n                (NP (NNS districts) ))\\n              (CC and) \\n              (PP (IN among) \\n                (NP (NNS industries) )))))))\\n    (. .) ))\\n( (S \\n    (NP-SBJ (DT The) (NNP Philadelphia) \\n      (CC and)\\n      (NNP Cleveland) (NNS districts) )\\n    (, ,) \\n    (PP (IN for) \\n      (NP (NN example) ))\\n    (, ,) \\n    (VP (VBD reported) \\n      (NP \\n        (NP (NNS declines) )\\n        (PP-LOC (IN in) \\n          (NP (NN manufacturing) (NN activity) )))\\n      (SBAR-ADV (IN while) \\n        (S \\n          (NP-SBJ (DT the) (NNP Boston) \\n            (, ,)\\n            (NNP Dallas) \\n            (CC and)\\n            (NNP San) (NNP Francisco) (NNS banks) )\\n          (VP (VBD noted) \\n            (SBAR (IN that) \\n              (S \\n                (NP-SBJ (NN business) )\\n                (VP (VBD expanded) )))))))\\n    (. .) ))\\n( (S \\n    (NP-SBJ \\n      (NP (DT The) (VBG purchasing) (NNS managers) (NN index) )\\n      (PP (IN of) \\n        (NP (JJ economic) (NN activity) )))\\n    (VP (VBD rose) \\n      (PP-TMP (IN in) \\n        (NP (NNP October) ))\\n      (, ,) \\n      (SBAR-ADV (IN although) \\n        (S \\n          (NP-SBJ (PRP it) )\\n          (VP (VBZ remains) \\n            (PP-CLR (IN below) \\n              (NP (CD 50) (NN %) ))))))\\n    (. .) ))\\n( (S \\n    (NP-SBJ \\n      (NP (DT A) (NN reading) )\\n      (PP (IN below) \\n        (NP (CD 50) (NN %) )))\\n    (VP (VBZ indicates) \\n      (SBAR (IN that) \\n        (S \\n          (NP-SBJ (DT the) (VBG manufacturing) (NN sector) )\\n          (VP (VBZ is) \\n            (VP (VBG slowing) ))))\\n      (SBAR-ADV (IN while) \\n        (S \\n          (NP-SBJ \\n            (NP (DT a) (NN reading) )\\n            (PP (IN above) \\n              (NP (CD 50) (NN %) )))\\n          (VP (VBZ suggests) \\n            (SBAR (IN that) \\n              (S \\n                (NP-SBJ (DT the) (NN industry) )\\n                (VP (VBZ is) \\n                  (VP (VBG expanding) ))))))))\\n    (. .) ))\\n( (S \\n    (NP-SBJ (NNP Mr.) (NNP Lieberman) )\\n    (VP (VBD said) \\n      (SBAR (-NONE- 0) \\n        (S \\n          (NP-SBJ \\n            (NP (DT the) (JJ diverse) (NN showing) )\\n            (PP-LOC (IN in) \\n              (NP \\n                (NP (NN yesterday) (POS 's) )\\n                (NNS reports) )))\\n          (`` ``) \\n          (ADVP (RB only) )\\n          (VP (VBZ enhances) \\n            (NP \\n              (NP (DT the) (NN importance) )\\n              (PP (IN of) \\n                (NP (DT the) (NN employment) (NNS data) )))))))\\n    (. .) ('' '') ))\\n( (S \\n    (NP-SBJ \\n      (NP (DT The) (NN employment) (NN report) )\\n      (, ,) \\n      (SBAR \\n        (WHNP-1 (WDT which) )\\n        (S \\n          (PP-TMP (IN at) \\n            (NP (NNS times) ))\\n          (NP-SBJ (-NONE- *T*-1) )\\n          (VP (VBZ has) \\n            (VP (VBN caused) \\n              (NP \\n                (NP (JJ wide) (NNS swings) )\\n                (PP-LOC (IN in) \\n                  (NP (NN bond) (NNS prices) )))))))\\n      (, ,) )\\n    (VP (VBZ is) \\n      (ADJP-PRD (JJ due) (IN out) )\\n      (NP-TMP (NN tomorrow) ))\\n    (. .) ))\\n( (S \\n    (NP-SBJ \\n      (NP (DT The) (JJ average) (NN estimate) )\\n      (PP (IN of) \\n        (NP \\n          (NP (CD 22) (NNS economists) )\\n          (VP (VBN polled) \\n            (NP (-NONE- *) )\\n            (PP (IN by) \\n              (NP-LGS (NNP Dow) (NNP Jones) (NNP Capital) (NNPS Markets) (NNP Report) ))))))\\n    (VP (VBD was) \\n      (SBAR-PRD (IN that) \\n        (S \\n          (NP-SBJ (JJ non-farm) (NNS payrolls) )\\n          (VP (VBD expanded) \\n            (PP-EXT (IN by) \\n              (NP (CD 152,000) ))\\n            (PP-TMP (IN in) \\n              (NP (NNP October) ))))))\\n    (. .) ))\\n( (S \\n    (NP-SBJ (DT The) (NNS economists) )\\n    (VP (VBP forecast) \\n      (NP \\n        (NP (DT a) \\n          (ADJP (CD 0.1) (NN %) )\\n          (NN rise) )\\n        (PP (IN in) \\n          (NP (DT the) (NN unemployment) (NN rate) ))\\n        (PP-DIR (TO to) \\n          (NP (CD 5.4) (NN %) ))))\\n    (. .) ))\\n( (NP-HLN (NNP Treasury) (NNPS Securities) ))\\n( (S \\n    (PP-LOC (IN In) \\n      (NP (DT a) (NN surprise) (NN announcement) ))\\n    (, ,) \\n    (NP-SBJ (DT the) (NNP Treasury) )\\n    (VP (VBD said) \\n      (SBAR (-NONE- 0) \\n        (S \\n          (NP-SBJ (PRP it) )\\n          (VP (MD will) \\n            (VP \\n              (VP (VB reopen) \\n                (NP (DT the) (JJ outstanding) (NN benchmark) (JJ 30-year) (NN bond) ))\\n              (CONJP (RB rather) (IN than) )\\n              (VP (VB create) \\n                (NP (DT a) (JJ new) (CD one) ))\\n              (PP (IN for) \\n                (NP \\n                  (NP \\n                    (NP (JJ next) (NN week) (POS 's) )\\n                    (RB quarterly) (NN refunding) )\\n                  (PP (IN of) \\n                    (NP (DT the) (JJ federal) (NN debt) )))))))))\\n    (. .) ))\\n( (S \\n    (NP-SBJ-1 (DT The) (NNP Treasury) )\\n    (VP (MD will) \\n      (VP (VB raise) \\n        (NP \\n          (NP \\n            (QP ($ $) (CD 10) (CD billion) )\\n            (-NONE- *U*) )\\n          (PP (IN in) \\n            (NP (JJ fresh) (NN cash) )))\\n        (PP-MNR (IN by) \\n          (S-NOM \\n            (NP-SBJ (-NONE- *-1) )\\n            (VP (VBG selling) \\n              (NP \\n                (NP \\n                  (QP ($ $) (CD 30) (CD billion) )\\n                  (-NONE- *U*) )\\n                (PP (IN of) \\n                  (NP (NNS securities) ))\\n                (, ,) \\n                (PP (VBG including) \\n                  (NP \\n                    (NP \\n                      (NP \\n                        (QP ($ $) (CD 10) (CD billion) )\\n                        (-NONE- *U*) )\\n                      (PP (IN of) \\n                        (NP (JJ new) (JJ three-year) (NNS notes) )))\\n                    (CC and) \\n                    (NP \\n                      (NP \\n                        (QP ($ $) (CD 10) (CD billion) )\\n                        (-NONE- *U*) )\\n                      (PP (IN of) \\n                        (NP (JJ new) (JJ 10-year) (NNS notes) )))))))))))\\n    (. .) ))\\n( (S (CC But) \\n    (PP (RB rather) (IN than) \\n      (S-NOM \\n        (NP-SBJ (-NONE- *) )\\n        (VP (VB sell) \\n          (NP (JJ new) (JJ 30-year) (NNS bonds) ))))\\n    (, ,) \\n    (NP-SBJ-2 (DT the) (NNP Treasury) )\\n    (VP (MD will) \\n      (VP (VB issue) \\n        (NP \\n          (NP \\n            (QP ($ $) (CD 10) (CD billion) )\\n            (-NONE- *U*) )\\n          (PP (IN of) \\n            (NP (JJ 29year) \\n              (, ,)\\n              (JJ nine-month) (NNS bonds) )))\\n        (: --) \\n        (S-ADV \\n          (NP-SBJ (-NONE- *-2) )\\n          (ADVP (RB essentially) )\\n          (VP (VBG increasing) \\n            (NP \\n              (NP (DT the) (NN size) )\\n              (PP (IN of) \\n                (NP \\n                  (NP (DT the) (JJ current) (NN benchmark) (JJ 30-year) (NN bond) )\\n                  (SBAR \\n                    (WHNP-3 (WDT that) )\\n                    (S \\n                      (NP-SBJ-1 (-NONE- *T*-3) )\\n                      (VP (VBD was) \\n                        (VP (VBN sold) \\n                          (NP (-NONE- *-1) )\\n                          (PP-LOC (IN at) \\n                            (NP (DT the) (JJ previous) (NN refunding) ))\\n                          (PP-TMP (IN in) \\n                            (NP (NNP August) )))))))))))))\\n    (. .) ))\\n( (S \\n    (NP-SBJ (NN Credit) (NN market) (NNS analysts) )\\n    (VP (VBD said) \\n      (SBAR (-NONE- 0) \\n        (S \\n          (NP-SBJ (DT the) (NN decision) \\n            (S \\n              (NP-SBJ (-NONE- *) )\\n              (VP (TO to) \\n                (VP (VB reopen) \\n                  (NP \\n                    (NP (DT the) (JJ current) (NN benchmark) )\\n                    (, ,) \\n                    (NP \\n                      (NP (DT the) \\n                        (ADJP \\n                          (QP (CD 8) (CD 1\\\\/8) )\\n                          (NN %) )\\n                        (NN bond) )\\n                      (ADJP (JJ due) \\n                        (NP (NNP August) (CD 2019) )))\\n                    (, ,) )))))\\n          (VP (VBZ is) \\n            (ADJP-PRD (JJ unusual) )\\n            (SBAR-PRP (IN because) \\n              (S \\n                (NP-SBJ (DT the) (NN issue) )\\n                (VP (VBZ trades) \\n                  (PP-CLR (IN at) \\n                    (NP \\n                      (NP (DT a) (NN premium) )\\n                      (PP (TO to) \\n                        (NP (PRP$ its) (NN face) (NN amount) )))))))))))\\n    (. .) ))\\n( (S \\n    (NP-SBJ (DT Some) (NNS dealers) )\\n    (VP (VBD said) \\n      (SBAR (-NONE- 0) \\n        (S \\n          (NP-SBJ \\n            (NP (DT the) (NNP Treasury) (POS 's) )\\n            (NN intent) )\\n          (VP (VBZ is) \\n            (S-PRD \\n              (NP-SBJ (-NONE- *) )\\n              (VP (TO to) \\n                (VP (VB help) \\n                  (S \\n                    (NP-SBJ (NN government) (NN bond) (NNS dealers) )\\n                    (VP (VB gauge) \\n                      (NP \\n                        (NP (NN investor) (NN demand) )\\n                        (PP (IN for) \\n                          (NP (DT the) (NNS securities) ))))))))\\n            (, ,) \\n            (S-ADV \\n              (NP-SBJ (-NONE- *) )\\n              (VP (VBN given) \\n                (NP \\n                  (NP (NNS uncertainties) )\\n                  (PP (IN about) \\n                    (SBAR-NOM \\n                      (WHADVP-1 (WRB when) )\\n                      (S \\n                        (NP-SBJ (DT the) (NN auction) )\\n                        (VP (MD will) \\n                          (VP (VB occur) \\n                            (ADVP-TMP (-NONE- *T*-1) )))))))))))))\\n    (. .) ))\\n( (S \\n    (NP-SBJ (DT The) (NNP Treasury) )\\n    (VP (VBD said) \\n      (SBAR (-NONE- 0) \\n        (S \\n          (NP-SBJ (DT the) (NN refunding) )\\n          (VP (VBZ is) \\n            (NP-PRD \\n              (NP (NN contingent) )\\n              (PP (IN upon) \\n                (NP \\n                  (NP \\n                    (ADJP (JJ congressional) \\n                      (CC and)\\n                      (JJ presidential) )\\n                    (NN passage) )\\n                  (PP (IN of) \\n                    (NP \\n                      (NP (DT an) (NN increase) )\\n                      (PP (IN in) \\n                        (NP (DT the) (JJ federal) (NN debt) (NN ceiling) )))))))))))\\n    (. .) ))\\n( (S \\n    (SBAR-TMP (IN Until) \\n      (S \\n        (NP-SBJ (JJ such) (NN action) )\\n        (VP (VBZ takes) \\n          (NP (NNS places) ))))\\n    (, ,) \\n    (NP-SBJ (DT the) (NNP Treasury) )\\n    (VP (VBZ has) \\n      (NP (DT no) (NN ability) \\n        (S \\n          (NP-SBJ (-NONE- *) )\\n          (VP (TO to) \\n            (VP (VB issue) \\n              (NP \\n                (NP (JJ new) (NN debt) )\\n                (PP (IN of) \\n                  (NP (DT any) (NN kind) ))))))))\\n    (. .) ))\\n( (S \\n    (ADVP-TMP (RB Meanwhile) )\\n    (, ,) \\n    (NP-SBJ (NNP Treasury) (NNS bonds) )\\n    (VP (VBD ended) \\n      (ADVP-CLR (RB modestly) (JJR higher) )\\n      (PP-LOC (IN in) \\n        (NP (JJ quiet) (NN trading) )))\\n    (. .) ))\\n( (NP \\n    (NP (DT The) (NN benchmark) (JJ 30-year) (NN bond) )\\n    (NP \\n      (NP \\n        (QP (IN about) (CD 1\\\\/4) )\\n        (NN point) )\\n      (, ,) (CC or) \\n      (NP ($ $) (CD 2.50) (-NONE- *U*) ))\\n    (PP (IN for) \\n      (NP \\n        (NP (DT each) )\\n        (ADJP ($ $) (CD 1,000) (-NONE- *U*) )\\n        (NN face) (NN amount) ))\\n    (. .) ))\\n( (S \\n    (NP-SBJ-1 (DT The) (NN benchmark) )\\n    (VP (VBD was) \\n      (VP (VBN priced) \\n        (NP-2 (-NONE- *-1) )\\n        (PP-CLR (IN at) \\n          (NP (CD 102) (CD 22\\\\/32) ))\\n        (S-CLR \\n          (NP-SBJ (-NONE- *-2) )\\n          (VP (TO to) \\n            (VP (VB yield) \\n              (NP (CD 7.88) (NN %) ))))\\n        (PP (VBN compared) \\n          (PP (IN with) \\n            (NP \\n              (NP (CD 102) (CD 12\\\\/32) )\\n              (S-CLR \\n                (NP-SBJ (-NONE- *) )\\n                (VP (TO to) \\n                  (VP (VB yield) \\n                    (NP (CD 7.90) (NN %) ))))\\n              (NP-TMP (NNP Tuesday) ))))))\\n    (. .) ))\\n( (S \\n    (NP-SBJ-1 (DT The) (JJS latest) (JJ 10-year) (NNS notes) )\\n    (VP (VBD were) \\n      (VP (VBN quoted) \\n        (PP-CLR (IN at) \\n          (NP (CD 100) (CD 22\\\\/32) ))\\n        (S-CLR \\n          (NP-SBJ (-NONE- *-1) )\\n          (VP (TO to) \\n            (VP (VB yield) \\n              (NP (CD 7.88) (NN %) ))))\\n        (PP (VBN compared) \\n          (PP (IN with) \\n            (NP \\n              (NP (CD 100) (CD 16\\\\/32) )\\n              (S-CLR \\n                (NP-SBJ (-NONE- *) )\\n                (VP (TO to) \\n                  (VP (VB yield) \\n                    (NP (CD 7.90) (NN %) )))))))))\\n    (. .) ))\\n( (S \\n    (NP-SBJ \\n      (NP (DT The) (NN discount) (NN rate) )\\n      (PP (IN on) \\n        (NP (JJ three-month) (NNP Treasury) (NNS bills) )))\\n    (VP (VBD was) \\n      (ADJP-PRD (RB essentially) (JJ unchanged) )\\n      (PP-CLR (IN at) \\n        (NP (CD 7.79) (NN %) ))\\n      (, ,) \\n      (SBAR-ADV (IN while) \\n        (S \\n          (NP-SBJ \\n            (NP (DT the) (NN rate) )\\n            (PP (IN on) \\n              (NP (JJ six-month) (NNS bills) )))\\n          (VP (VBD was) \\n            (ADJP-PRD (RB slightly) (JJR lower) )\\n            (PP-CLR (IN at) \\n              (NP (CD 7.52) (NN %) ))\\n            (PP (VBN compared) \\n              (PP (IN with) \\n                (NP \\n                  (NP (CD 7.60) (NN %) )\\n                  (NP-TMP (NNP Tuesday) ))))))))\\n    (. .) ))\\n( (NP-HLN (NNP Corporate) (NNPS Issues) ))\\n( (S \\n    (NP-SBJ \\n      (NP (NNP IBM) (POS 's) )\\n      (ADJP \\n        (QP ($ $) (CD 750) (CD million) )\\n        (-NONE- *U*) )\\n      (NN debenture) (NN offering) )\\n    (VP (VBD dominated) \\n      (NP \\n        (NP (NN activity) )\\n        (PP-LOC (IN in) \\n          (NP (DT the) (JJ corporate) (NN debt) (NN market) ))))\\n    (. .) ))\\n( (S \\n    (ADVP-TMP (RB Meanwhile) )\\n    (, ,) \\n    (NP-SBJ (RBS most) (JJ investment-grade) (NNS bonds) )\\n    (VP (VBD ended) \\n      (ADJP-CLR (JJ unchanged) )\\n      (PP-DIR (TO to) \\n        (ADVP \\n          (NP \\n            (QP (RB as) (JJ much) (IN as) (CD 1\\\\/8) )\\n            (NN point) )\\n          (JJR higher) )))\\n    (. .) ))\\n( (S \\n    (PP-LOC (IN In) \\n      (NP \\n        (NP (PRP$ its) (JJS latest) (NN compilation) )\\n        (PP (IN of) \\n          (NP (NN performance) (NNS statistics) ))))\\n    (, ,) \\n    (NP-SBJ \\n      (NP (NNP Moody) (POS 's) )\\n      (NNPS Investors) (NNP Service) )\\n    (VP (VBD found) \\n      (SBAR (IN that) \\n        (S \\n          (NP-SBJ (JJ investment-grade) (NNS bonds) )\\n          (VP (VBD posted) \\n            (NP \\n              (NP (DT a) (JJ total) (NN return) )\\n              (PP (IN of) \\n                (NP (CD 2.7) (NN %) )))\\n            (PP-TMP (IN in) \\n              (NP (NNP October) ))\\n            (SBAR-ADV (IN while) \\n              (S \\n                (NP-SBJ (NN junk) (NNS bonds) )\\n                (VP (VBD showed) \\n                  (NP \\n                    (NP (DT a) (JJ negative) (NN return) )\\n                    (PP (IN of) \\n                      (NP (CD 1.5) (NN %) ))))))))))\\n    (. .) ))\\n( (S \\n    (NP-SBJ (NNP Moody) (POS 's) )\\n    (VP (VBD said) \\n      (SBAR (-NONE- 0) \\n        (S \\n          (NP-SBJ (DT those) (NNS returns) )\\n          (VP (VBP compare) \\n            (PP (IN with) \\n              (NP \\n                (NP (DT a) \\n                  (ADJP (CD 3.8) (NN %) )\\n                  (JJ total) (NN return) )\\n                (PP (IN for) \\n                  (NP (JJ longer-term) (NNP Treasury) (NNS notes) \\n                    (CC and)\\n                    (NNS bonds) ))))))))\\n    (. .) ))\\n( (S \\n    (NP-SBJ (JJ Total) (NN return) )\\n    (VP (VBZ measures) \\n      (NP \\n        (NP (NN price) (NNS changes) )\\n        (CC and) \\n        (NP (NN interest) (NN income) )))\\n    (. .) ))\\n( (S \\n    (PP (IN For) \\n      (NP \\n        (NP (DT the) (NN year) )\\n        (PP (TO to) \\n          (NP (NN date) ))))\\n    (, ,) \\n    (NP-SBJ (NNP Moody) (POS 's) )\\n    (VP (VBD said) \\n      (SBAR (-NONE- 0) \\n        (S \\n          (NP-SBJ-1 (JJ total) (NNS returns) )\\n          (VP (VBD were) \\n            (VP (VBN topped) \\n              (NP (-NONE- *-1) )\\n              (PP (IN by) \\n                (NP-LGS-2 \\n                  (NP (DT the) (CD 16.5) (NN %) )\\n                  (PP (IN of) \\n                    (NP (JJ longer-term) (NNP Treasury) (NNS issues) ))))\\n              (, ,) \\n              (S-ADV \\n                (NP-SBJ-3 (-NONE- *-2) )\\n                (ADVP (RB closely) )\\n                (VP (VBN followed) \\n                  (NP (-NONE- *-3) )\\n                  (PP (IN by) \\n                    (NP-LGS \\n                      (NP (CD 15) (NN %) )\\n                      (PP (IN for) \\n                        (NP (JJ investment-grade) (NNS bonds) )))))))))))\\n    (. .) ))\\n( (S \\n    (NP-SBJ (NN Junk) (NNS bonds) )\\n    (VP (VBD trailed) \\n      (NP (DT the) (NN group) )\\n      (ADVP-TMP (RB again) ))\\n    (. .) ))\\n( (SINV (`` ``) \\n    (S-TPC-1 \\n      (NP-SBJ \\n        (NP (RB Even) (DT the) \\n          (ADJP (CD 7.2) (NN %) )\\n          (NN return) )\\n        (PP (IN from) \\n          (NP (DT the) (JJ risk-free) (JJ three-month) (NNP Treasury) (NN bill) )))\\n      (VP (VBZ has) \\n        (ADVP-MNR (RB easily) )\\n        (VP (VBN outdistanced) \\n          (NP \\n            (NP (DT the) \\n              (ADJP (CD 4.1) (NN %) )\\n              (NN return) )\\n            (PP (IN from) \\n              (NP (NN junk) (NNS bonds) ))))))\\n    (, ,) ('' '') \\n    (VP (VBD wrote) \\n      (S (-NONE- *T*-1) ))\\n    (NP-SBJ \\n      (NP (NNP Moody) (POS 's) )\\n      (NN economist) (NNP John) (NNP Lonski) )\\n    (PP-LOC (IN in) \\n      (NP \\n        (NP (NN yesterday) (POS 's) )\\n        (NN market) (NN report) ))\\n    (. .) ))\\n( (S (`` ``) \\n    (FRAG-TPC-2 \\n      (NP (JJ Little) (NN wonder) )\\n      (SBAR (IN that) \\n        (S \\n          (NP-SBJ-1 \\n            (NP (NNS buyers) )\\n            (PP (IN for) \\n              (NP (NN junk) )))\\n          (VP (VBP have) \\n            (VP (VBN been) \\n              (VP (VBN found) \\n                (S \\n                  (NP-SBJ (-NONE- *-1) )\\n                  (ADJP-PRD (VBG wanting) ))))))))\\n    (, ,) ('' '') \\n    (NP-SBJ (PRP he) )\\n    (VP (VBD said) \\n      (FRAG (-NONE- *T*-2) ))\\n    (. .) ))\\n( (S \\n    (NP-SBJ (NNP Moody) (POS 's) )\\n    (VP (VBD said) \\n      (SBAR (-NONE- 0) \\n        (S \\n          (NP-SBJ \\n            (NP (DT the) (JJ average) (NN net) (NN asset) (NN value) )\\n            (PP (IN of) \\n              (NP (CD 24) (NN junk-bond) (JJ mutual) (NNS funds) )))\\n          (VP (VBD fell) \\n            (PP-EXT (IN by) \\n              (NP (CD 4.2) (NN %) ))\\n            (PP-TMP (IN in) \\n              (NP (NNP October) ))))))\\n    (. .) ))\\n( (NP-HLN (NNP Mortgage-Backed) (NNPS Issues) ))\\n( (S \\n    (NP-SBJ (NN Mortgage) (NNS securities) )\\n    (VP \\n      (VP (VBD ended) \\n        (ADVP-CLR (RB slightly) (JJR higher) ))\\n      (CC but) \\n      (VP (VBD trailed) \\n        (NP \\n          (NP (NNS gains) )\\n          (PP-LOC (IN in) \\n            (NP (DT the) (NNP Treasury) (NN market) )))))\\n    (. .) ))\\n( (S \\n    (S \\n      (NP-SBJ-1 \\n        (NP \\n          (NP (NNP Ginnie) (NNP Mae) (POS 's) )\\n          (ADJP (CD 9) (NN %) )\\n          (NN issue) )\\n        (PP (IN for) \\n          (NP (NNP November) (NN delivery) )))\\n      (VP (VBD finished) \\n        (PP-CLR-2 (IN at) \\n          (NP (CD 98) (CD 5\\\\/8) ))\\n        (, ,) \\n        (ADVP-3 (RB up) \\n          (NP (CD 2\\\\/32) ))))\\n    (, ,) \\n    (CC and)\\n    (S \\n      (NP-SBJ=1 (PRP$ its) (CD 9) (CD 1\\\\/2) (NN %) (NN issue) )\\n      (PP-CLR=2 (IN at) \\n        (NP (CD 100) (CD 22\\\\/32) ))\\n      (, ,) \\n      (ADVP (RB also) )\\n      (ADVP=3 (RB up) \\n        (NP (CD 2\\\\/32) )))\\n    (. .) ))\\n( (S \\n    (NP-SBJ (DT The) (NNP Ginnie) (NNP Mae) \\n      (ADJP (CD 9) (NN %) )\\n      (NNS securities) )\\n    (VP (VBD were) \\n      (VP (VBG yielding) \\n        (NP (CD 9.32) (NN %) )\\n        (PP-CLR (TO to) \\n          (NP (DT a) (JJ 12-year) (NN average) (NN life) ))))\\n    (. .) ))\\n( (S \\n    (NP-SBJ (NN Activity) )\\n    (VP (VBD was) \\n      (ADJP-PRD (JJ light) )\\n      (PP-LOC (IN in) \\n        (NP (JJ derivative) (NNS markets) ))\\n      (, ,) \\n      (PP (IN with) \\n        (S-NOM \\n          (NP-SBJ-1 (DT no) (JJ new) (NNS issues) )\\n          (VP (VBN priced) \\n            (NP (-NONE- *-1) )))))\\n    (. .) ))\\n( (NP-HLN (NNP Municipal) (NNPS Issues) ))\\n( (S \\n    (NP-SBJ (JJ Municipal) (NNS bonds) )\\n    (VP (VBD were) \\n      (ADJP-PRD (RB mostly) (JJ unchanged) )\\n      (PP-DIR (TO to) \\n        (ADVP (RB up) \\n          (NP (CD 1\\\\/8) (NN point) )))\\n      (PP (IN in) \\n        (NP \\n          (NP (JJ light) \\n            (, ,)\\n            (JJ cautious) (NN trading) )\\n          (ADVP-PRD (RB prior) \\n            (PP (TO to) \\n              (NP \\n                (NP (NN tomorrow) (POS 's) )\\n                (NN unemployment) (NN report) ))))))\\n    (. .) ))\\n( (S \\n    (NP-SBJ-1 \\n      (NP (DT A) \\n        (ADJP \\n          (QP ($ $) (CD 114) (CD million) )\\n          (-NONE- *U*) )\\n        (NN issue) )\\n      (PP (IN of) \\n        (NP (NN health) (NN facility) (NN revenue) (NNS bonds) ))\\n      (PP (IN from) \\n        (NP (DT the) (NNP California) (NNP Health) (NNPS Facilities) (NNP Financing) (NNP Authority) )))\\n    (VP (VBD was) \\n      (ADVP (RB temporarily) )\\n      (VP (VBN withdrawn) \\n        (NP (-NONE- *-1) )\\n        (PP-TMP (IN after) \\n          (S-NOM \\n            (NP-SBJ-2 (-NONE- *-1) )\\n            (VP (VBG being) \\n              (ADVP-MNR (RB tentatively) )\\n              (VP (VBN priced) \\n                (NP (-NONE- *-2) )\\n                (PP (IN by) \\n                  (NP-LGS (DT a) (NNP First) (NNP Boston) (NNP Corp.) (NN group) ))))))))\\n    (. .) ))\\n( (S \\n    (S \\n      (NP-SBJ-1 \\n        (NP (DT An) (NN official) )\\n        (PP (IN for) \\n          (NP (DT the) (NN lead) (NN underwriter) )))\\n      (VP (VBD declined) \\n        (S \\n          (NP-SBJ (-NONE- *-1) )\\n          (VP (TO to) \\n            (VP (VB comment) \\n              (PP-CLR (IN on) \\n                (NP \\n                  (NP (DT the) (NN reason) )\\n                  (PP (IN for) \\n                    (NP (DT the) (NN delay) )))))))))\\n    (, ,) (CC but) \\n    (S \\n      (NP-SBJ (NN market) (NNS participants) )\\n      (VP (VBD speculated) \\n        (SBAR (IN that) \\n          (S \\n            (NP-SBJ \\n              (NP (DT a) (NN number) )\\n              (PP (IN of) \\n                (NP (NNS factors) ))\\n              (, ,) \\n              (PP (VBG including) \\n                (NP \\n                  (NP (DT a) (NN lack) )\\n                  (PP (IN of) \\n                    (NP (NN investor) (NN interest) ))))\\n              (, ,) )\\n            (VP (VBD were) \\n              (ADJP-PRD (JJ responsible) ))))))\\n    (. .) ))\\n( (S \\n    (NP-SBJ-1 (DT The) (NN issue) )\\n    (VP (MD could) \\n      (VP (VB be) \\n        (VP (VBN relaunched) \\n          (NP (-NONE- *-1) )\\n          (, ,) \\n          (PP-MNR \\n            (ADVP (RB possibly) )\\n            (IN in) \\n            (NP (DT a) (VBN restructured) (NN form) ))\\n          (, ,) \\n          (ADVP-TMP \\n            (ADVP (RB as) (RB early) )\\n            (PP (IN as) \\n              (NP (JJ next) (NN week) )))\\n          (, ,) \\n          (PP (VBG according) \\n            (PP (TO to) \\n              (NP (DT the) (NN lead) (NN underwriter) ))))))\\n    (. .) ))\\n( (S \\n    (NP-SBJ-1 \\n      (NP (DT A) \\n        (ADJP \\n          (QP ($ $) (CD 107.03) (CD million) )\\n          (-NONE- *U*) )\\n        (NN offering) )\\n      (PP (IN of) \\n        (NP (NNP Santa) (NNP Ana) (NNP Community) (NNP Redevelopment) (NNP Agency) \\n          (, ,)\\n          (NNP Calif.) \\n          (, ,)\\n          (NN tax) (NN allocation) (NNS bonds) )))\\n    (VP \\n      (VP (VBD got) \\n        (PRT (RP off) )\\n        (PP-CLR (TO to) \\n          (NP (DT a) (JJ slow) (NN start) )))\\n      (CC and) \\n      (VP (MD may) \\n        (VP (VB be) \\n          (VP (VBN repriced) \\n            (NP (-NONE- *-1) )\\n            (PP-CLR (IN at) \\n              (NP (JJR lower) (NNS levels) ))\\n            (NP-TMP (NN today) ))))\\n      (, ,) \\n      (PP (VBG according) \\n        (PP (TO to) \\n          (NP \\n            (NP (DT an) (NN official) )\\n            (PP (IN with) \\n              (NP (NN lead) (NN underwriter) (NNP Donaldson) (NNP Lufkin) (CC &) (NNP Jenrette) (NNPS Securities) (NNP Corp) ))))))\\n    (. .) ))\\n( (S \\n    (NP-SBJ-1 (DT The) (NNP Santa) (NNP Ana) (NNS bonds) )\\n    (VP (VBD were) \\n      (ADVP-MNR (RB tentatively) )\\n      (VP (VBN priced) \\n        (NP-2 (-NONE- *-1) )\\n        (S-CLR \\n          (NP-SBJ (-NONE- *-2) )\\n          (VP (TO to) \\n            (VP (VB yield) \\n              (PP-CLR \\n                (PP (IN from) \\n                  (NP \\n                    (NP (CD 6.40) (NN %) )\\n                    (PP-TMP (IN in) \\n                      (NP (CD 1991) ))))\\n                (PP (TO to) \\n                  (NP \\n                    (NP (CD 7.458) (NN %) )\\n                    (PP (IN in) )))))))))))\\n( (S \\n    (S-ADV \\n      (NP-SBJ (-NONE- *-1) )\\n      (VP (VBG Bucking) \\n        (NP (DT the) (NN market) (NN trend) )))\\n    (, ,) \\n    (NP-SBJ-1 \\n      (NP (DT an) (NN issue) )\\n      (PP (IN of) \\n        (NP \\n          (NP \\n            (ADJP \\n              (QP ($ $) (CD 130) (CD million) )\\n              (-NONE- *U*) )\\n            (JJ general) (NN obligation) (JJ distributable) (NN state) (NN aid) (NNS bonds) )\\n          (PP (IN from) \\n            (NP-LOC \\n              (NP (NNP Detroit) )\\n              (, ,) \\n              (NP (NNP Mich.) )\\n              (, ,) )))))\\n    (ADVP (RB apparently) )\\n    (VP (VBD drew) \\n      (NP (JJ solid) (NN investor) (NN interest) ))\\n    (. .) ))\\n( (S \\n    (NP-SBJ-1 (PRP They) )\\n    (VP (VBD were) \\n      (ADVP-MNR (RB tentatively) )\\n      (VP (VBN priced) \\n        (NP-2 (-NONE- *-1) )\\n        (S-CLR \\n          (NP-SBJ (-NONE- *-2) )\\n          (VP (TO to) \\n            (VP (VB yield) \\n              (PP \\n                (PP (IN from) \\n                  (NP \\n                    (NP (CD 6.20) (NN %) )\\n                    (PP-TMP (IN in) \\n                      (NP (CD 1991) ))))\\n                (PP (TO to) \\n                  (NP \\n                    (NP (CD 7.272) (NN %) )\\n                    (PP (IN in) )))))))))))\\n( (NP-HLN (NNP Foreign) (NNP Bond) ))\\n( (S \\n    (NP-SBJ \\n      (ADJP (JJ West) (JJ German) )\\n      (NNS dealers) )\\n    (VP (VBD said) \\n      (SBAR (-NONE- 0) \\n        (S \\n          (NP-SBJ (EX there) )\\n          (VP (VBD was) \\n            (NP-PRD \\n              (NP (JJ little) (NN interest) )\\n              (PP (IN in) \\n                (NP (NNP Treasury) (NNS bonds) )))\\n            (ADVP-TMP (RB ahead) \\n              (PP (IN of) \\n                (NP \\n                  (NP (NNP Thursday) (POS 's) )\\n                  (JJ new) (NN government) (NN bond) (NN issue) )))))))\\n    (. .) ))\\n( (S-2 \\n    (ADVP-TMP (IN So) (RB far) )\\n    (PRN \\n      (, ,)\\n      (S \\n        (NP-SBJ (PRP they) )\\n        (VP (VBD said) \\n          (SBAR (-NONE- 0) \\n            (S (-NONE- *T*-2) ))))\\n      (, ,) )\\n    (NP-SBJ (NNS investors) )\\n    (VP \\n      (VP (VBP appear) \\n        (ADJP-PRD (JJ unenthusiastic) \\n          (PP (IN about) \\n            (NP (DT the) (JJ new) (NN issue) ))))\\n      (SBAR \\n        (WHNP-1 (WDT which) )\\n        (S \\n          (NP-SBJ (-NONE- *T*-1) )\\n          (VP (MD might) \\n            (VP (VB force) \\n              (S \\n                (NP-SBJ (DT the) (NN government) )\\n                (VP (TO to) \\n                  (VP (VB raise) \\n                    (NP (DT the) (NN coupon) )\\n                    (PP-CLR (TO to) \\n                      (NP \\n                        (QP (JJR more) (IN than) (CD 7) )\\n                        (NN %) ))))))))))\\n    (. .) ))\\n( (S \\n    (NP-SBJ-1 (PRP It) )\\n    (VP (VBZ is) \\n      (ADVP (RB generally) )\\n      (VP (VBN expected) \\n        (S \\n          (NP-SBJ (-NONE- *-1) )\\n          (VP (TO to) \\n            (VP (VB be) \\n              (NP-PRD (DT the) (JJ usual) (JJ 10-year) \\n                (, ,)\\n                (ADJP \\n                  (QP (CD four) (CD billion) )\\n                  (NN mark) )\\n                (NN issue) ))))))\\n    (. .) ))\\n( (S \\n    (NP-SBJ \\n      (NP (NNS Rumors) )\\n      (PP (TO to) \\n        (NP (DT the) (NN contrary) )))\\n    (VP (VBP have) \\n      (VP (VBN been) \\n        (SBAR-PRD \\n          (SBAR (IN that) \\n            (S \\n              (NP-SBJ (PRP it) )\\n              (VP (MD would) \\n                (VP (VB be) \\n                  (NP-PRD (DT a) \\n                    (ADJP \\n                      (QP (CD six) (CD billion) )\\n                      (NN mark) )\\n                    (NN issue) )))))\\n          (, ,) (CC or) \\n          (SBAR (IN that) \\n            (S \\n              (NP-SBJ-1 \\n                (NP (DT the) (JJ last) (NN Bund) )\\n                (, ,) \\n                (NP \\n                  (NP (DT a) \\n                    (ADJP (CD 7) (NN %) )\\n                    (NN issue) )\\n                  (ADJP (JJ due) \\n                    (NP-TMP (NNP October) (CD 1999) )))\\n                (, ,) )\\n              (VP (MD would) \\n                (VP (VB be) \\n                  (VP (VBN increased) \\n                    (NP (-NONE- *-1) )\\n                    (PP (IN by) \\n                      (NP-LGS (CD two) (CD billion) (NNS marks) ))))))))))\\n    (. .) ))\\n( (ADVP-HLN (RB Elsewhere) (: :) ))\\n( (S \\n    (LST (: --) )\\n    (PP-LOC (IN In) \\n      (NP (NNP Japan) ))\\n    (, ,) \\n    (NP-SBJ-1 \\n      (NP (DT the) (NN benchmark) (NN No.) (CD 111) \\n        (ADJP (CD 4.6) (NN %) )\\n        (NN issue) )\\n      (ADJP (JJ due) \\n        (NP-TMP (CD 1998) )))\\n    (VP (VBD ended) \\n      (PP-LOC (IN on) \\n        (NP (NNS brokers) (NNS screens) ))\\n      (ADJP (JJ unchanged) )\\n      (PP-CLR (IN at) \\n        (NP (CD 95.09) ))\\n      (S-CLR \\n        (NP-SBJ (-NONE- *-1) )\\n        (VP (TO to) \\n          (VP (VB yield) \\n            (NP (CD 5.435) (NN %) )))))\\n    (. .) ))\\n( (S \\n    (LST (: --) )\\n    (PP-LOC (IN In) \\n      (NP (NNP Britain) ))\\n    (, ,) \\n    (NP-SBJ-1 \\n      (NP (DT the) (NN benchmark) \\n        (ADJP \\n          (QP (CD 11) (CD 3\\\\/4) )\\n          (NN %) )\\n        (NN bond) )\\n      (ADJP (JJ due) \\n        (NP-TMP (CD 2003\\\\/2007) )))\\n    (VP (VBD fell) \\n      (NP-EXT (CD 14\\\\/32) )\\n      (PP-CLR (TO to) \\n        (NP (CD 111) (CD 2\\\\/32) ))\\n      (S-CLR \\n        (NP-SBJ (-NONE- *-1) )\\n        (VP (TO to) \\n          (VP (VB yield) \\n            (NP (CD 10.19) (NN %) )))))\\n    (. .) ))\\n( (S \\n    (NP-SBJ-1 \\n      (NP (DT The) \\n        (ADJP (CD 12) (NN %) )\\n        (NNS notes) )\\n      (ADJP (JJ due) \\n        (NP-TMP (CD 1995) )))\\n    (VP (VBD fell) \\n      (NP-EXT (CD 9\\\\/32) )\\n      (PP-CLR (TO to) \\n        (NP (CD 103) (CD 3\\\\/8) ))\\n      (S-CLR \\n        (NP-SBJ (-NONE- *-1) )\\n        (VP (TO to) \\n          (VP (VB yield) \\n            (NP (CD 11.10) (NN %) )))))\\n    (. .) ))\\n\""
      ]
     },
     "execution_count": 15,
     "metadata": {},
     "output_type": "execute_result"
    }
   ],
   "source": [
    "nltk.corpus.treebank.raw('wsj_0142.mrg')"
   ]
  }
 ],
 "metadata": {
  "kernelspec": {
   "display_name": "base",
   "language": "python",
   "name": "python3"
  },
  "language_info": {
   "codemirror_mode": {
    "name": "ipython",
    "version": 3
   },
   "file_extension": ".py",
   "mimetype": "text/x-python",
   "name": "python",
   "nbconvert_exporter": "python",
   "pygments_lexer": "ipython3",
   "version": "3.11.4"
  },
  "orig_nbformat": 4
 },
 "nbformat": 4,
 "nbformat_minor": 2
}
