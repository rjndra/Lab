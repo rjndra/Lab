{
 "cells": [
  {
   "cell_type": "markdown",
   "metadata": {},
   "source": [
    "Use of Wordnet"
   ]
  },
  {
   "cell_type": "code",
   "execution_count": 10,
   "metadata": {},
   "outputs": [
    {
     "name": "stderr",
     "output_type": "stream",
     "text": [
      "[nltk_data] Downloading package wordnet to\n",
      "[nltk_data]     /Users/rajendrakarki/nltk_data...\n",
      "[nltk_data]   Package wordnet is already up-to-date!\n"
     ]
    },
    {
     "data": {
      "text/plain": [
       "True"
      ]
     },
     "execution_count": 10,
     "metadata": {},
     "output_type": "execute_result"
    }
   ],
   "source": [
    "import nltk\n",
    "nltk.download('wordnet')"
   ]
  },
  {
   "cell_type": "code",
   "execution_count": 11,
   "metadata": {},
   "outputs": [],
   "source": [
    "from nltk.corpus import wordnet\n",
    "dog = wordnet.synset('dog.n.01')"
   ]
  },
  {
   "cell_type": "code",
   "execution_count": 12,
   "metadata": {},
   "outputs": [
    {
     "data": {
      "text/plain": [
       "'a member of the genus Canis (probably descended from the common wolf) that has been domesticated by man since prehistoric times; occurs in many breeds'"
      ]
     },
     "execution_count": 12,
     "metadata": {},
     "output_type": "execute_result"
    }
   ],
   "source": [
    "dog.definition()"
   ]
  },
  {
   "cell_type": "code",
   "execution_count": 13,
   "metadata": {},
   "outputs": [
    {
     "data": {
      "text/plain": [
       "['the dog barked all night']"
      ]
     },
     "execution_count": 13,
     "metadata": {},
     "output_type": "execute_result"
    }
   ],
   "source": [
    "dog.examples()"
   ]
  },
  {
   "cell_type": "code",
   "execution_count": 14,
   "metadata": {},
   "outputs": [
    {
     "data": {
      "text/plain": [
       "[Synset('surf.n.01'),\n",
       " Synset('surfboard.v.01'),\n",
       " Synset('browse.v.03'),\n",
       " Synset('surf.v.03')]"
      ]
     },
     "execution_count": 14,
     "metadata": {},
     "output_type": "execute_result"
    }
   ],
   "source": [
    "surfSyn = wordnet.synsets('surf')\n",
    "surfSyn"
   ]
  },
  {
   "cell_type": "code",
   "execution_count": 15,
   "metadata": {},
   "outputs": [
    {
     "name": "stdout",
     "output_type": "stream",
     "text": [
      "1.  Synset('surf.n.01')\n",
      "Definition:  waves breaking on the shore\n",
      "\n",
      "\n",
      "2.  Synset('surfboard.v.01')\n",
      "Definition:  ride the waves of the sea with a surfboard\n",
      "Examples: \n",
      "Californians love to surf\n",
      "\n",
      "\n",
      "3.  Synset('browse.v.03')\n",
      "Definition:  look around casually and randomly, without seeking anything in particular\n",
      "Examples: \n",
      "browse a computer directory\n",
      "surf the internet or the world wide web\n",
      "\n",
      "\n",
      "4.  Synset('surf.v.03')\n",
      "Definition:  switch channels, on television\n",
      "\n",
      "\n"
     ]
    }
   ],
   "source": [
    "for (index, syn) in enumerate(surfSyn):\n",
    "    print(f'{index+1}. ',syn)\n",
    "    print(f'Definition: ',syn.definition())\n",
    "    count = len(syn.examples())\n",
    "    if count > 0:\n",
    "        print('Examples: ')\n",
    "        for i in syn.examples():\n",
    "            print(i)\n",
    "    print('\\n')"
   ]
  },
  {
   "cell_type": "code",
   "execution_count": 17,
   "metadata": {},
   "outputs": [
    {
     "ename": "AttributeError",
     "evalue": "'list' object has no attribute 'hypernyms'",
     "output_type": "error",
     "traceback": [
      "\u001b[0;31m---------------------------------------------------------------------------\u001b[0m",
      "\u001b[0;31mAttributeError\u001b[0m                            Traceback (most recent call last)",
      "Cell \u001b[0;32mIn[17], line 1\u001b[0m\n\u001b[0;32m----> 1\u001b[0m surfSyn\u001b[39m.\u001b[39;49mhypernyms()\n",
      "\u001b[0;31mAttributeError\u001b[0m: 'list' object has no attribute 'hypernyms'"
     ]
    }
   ],
   "source": [
    "surfSyn.hypernyms()"
   ]
  },
  {
   "cell_type": "code",
   "execution_count": 18,
   "metadata": {},
   "outputs": [
    {
     "ename": "AttributeError",
     "evalue": "'list' object has no attribute 'lemmas'",
     "output_type": "error",
     "traceback": [
      "\u001b[0;31m---------------------------------------------------------------------------\u001b[0m",
      "\u001b[0;31mAttributeError\u001b[0m                            Traceback (most recent call last)",
      "Cell \u001b[0;32mIn[18], line 1\u001b[0m\n\u001b[0;32m----> 1\u001b[0m surfSyn\u001b[39m.\u001b[39;49mlemmas()\n",
      "\u001b[0;31mAttributeError\u001b[0m: 'list' object has no attribute 'lemmas'"
     ]
    }
   ],
   "source": [
    "surfSyn.lemmas()"
   ]
  }
 ],
 "metadata": {
  "kernelspec": {
   "display_name": "py3.11",
   "language": "python",
   "name": "python3"
  },
  "language_info": {
   "codemirror_mode": {
    "name": "ipython",
    "version": 3
   },
   "file_extension": ".py",
   "mimetype": "text/x-python",
   "name": "python",
   "nbconvert_exporter": "python",
   "pygments_lexer": "ipython3",
   "version": "3.11.4"
  },
  "orig_nbformat": 4
 },
 "nbformat": 4,
 "nbformat_minor": 2
}
