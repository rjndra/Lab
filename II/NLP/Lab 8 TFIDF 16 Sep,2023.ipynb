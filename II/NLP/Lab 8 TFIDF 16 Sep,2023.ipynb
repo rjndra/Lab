{
 "cells": [
  {
   "cell_type": "code",
   "execution_count": 39,
   "metadata": {},
   "outputs": [
    {
     "name": "stderr",
     "output_type": "stream",
     "text": [
      "[nltk_data] Downloading package punkt to\n",
      "[nltk_data]     /Users/rajendrakarki/nltk_data...\n",
      "[nltk_data]   Package punkt is already up-to-date!\n"
     ]
    },
    {
     "data": {
      "text/plain": [
       "True"
      ]
     },
     "execution_count": 39,
     "metadata": {},
     "output_type": "execute_result"
    }
   ],
   "source": [
    "import nltk\n",
    "from nltk.tokenize import word_tokenize\n",
    "nltk.download('punkt')"
   ]
  },
  {
   "cell_type": "code",
   "execution_count": 40,
   "metadata": {},
   "outputs": [],
   "source": [
    "text = ['Topic sentences are similar to mini thesis statements.\\\n",
    "Like a thesis statement, a topic sentence has a specific \\\n",
    "main point. Whereas the thesis is the main point of the essay',\\\n",
    "'the topic sentence is the main point of the paragraph.\\\n",
    "Like the thesis statement, a topic sentence has a unifying function. \\\n",
    "But a thesis statement or topic sentence alone doesn’t guarantee unity.', \\\n",
    "'An essay is unified if all the paragraphs relate to the thesis,\\\n",
    "whereas a paragraph is unified if all the sentences relate to the topic sentence.']"
   ]
  },
  {
   "cell_type": "code",
   "execution_count": 41,
   "metadata": {},
   "outputs": [],
   "source": [
    "#preprocess\n",
    "sentences = []\n",
    "word_set = []"
   ]
  },
  {
   "cell_type": "code",
   "execution_count": 42,
   "metadata": {},
   "outputs": [],
   "source": [
    "for sent in text:\n",
    "    x = [i.lower() for i in word_tokenize(sent) if i.isalpha()]\n",
    "    sentences.append(x)\n",
    "    for word in x :\n",
    "        if word not in word_set:\n",
    "            word_set.append(word)\n",
    "word_set = set(word_set)\n"
   ]
  },
  {
   "cell_type": "code",
   "execution_count": null,
   "metadata": {},
   "outputs": [],
   "source": [
    "word_set"
   ]
  },
  {
   "cell_type": "code",
   "execution_count": 44,
   "metadata": {},
   "outputs": [],
   "source": [
    "def count_dict(sentences):\n",
    "    word_count = {}\n",
    "    for word in word_set:\n",
    "        word_count[word] = 0\n",
    "        for sent in sentences:\n",
    "            if word in sent: word_count[word] += 1\n",
    "    return word_count\n",
    "\n",
    "word_count = count_dict(sentences)"
   ]
  },
  {
   "cell_type": "code",
   "execution_count": null,
   "metadata": {},
   "outputs": [],
   "source": [
    "word_count"
   ]
  },
  {
   "cell_type": "code",
   "execution_count": 46,
   "metadata": {},
   "outputs": [],
   "source": [
    "# Term Frequency\n",
    "#TF\n",
    "def term_freq(document, word):\n",
    "    N = len(document)\n",
    "    occurance = len([w for w in document if w == word])\n",
    "    return occurance/N"
   ]
  },
  {
   "cell_type": "code",
   "execution_count": 47,
   "metadata": {},
   "outputs": [],
   "source": [
    "# IDF\n",
    "import numpy as np\n",
    "def inverse_doc_freq(word):\n",
    "    word_occurance = word_count[word]\n",
    "    log = np.log(total_documents / word_occurance)\n",
    "    return log"
   ]
  },
  {
   "cell_type": "code",
   "execution_count": 48,
   "metadata": {},
   "outputs": [],
   "source": [
    "def tfidf(sentence):\n",
    "    tf_idf_vec = np.zeros((len(word_set), ))\n",
    "    for word in sentence:\n",
    "        tf = term_freq(sentence, word)\n",
    "        idf = inverse_doc_freq(word)\n",
    "\n",
    "        value = tf*idf\n",
    "        tf_idf_vec[index_dic[word]] = value\n",
    "    return tf_idf_vec"
   ]
  },
  {
   "cell_type": "code",
   "execution_count": null,
   "metadata": {},
   "outputs": [],
   "source": [
    "vectors = []\n",
    "for sent in sentences:\n",
    "    vec = tfidf(sent)\n",
    "    vectors.append(vec)"
   ]
  },
  {
   "cell_type": "code",
   "execution_count": null,
   "metadata": {},
   "outputs": [],
   "source": [
    "vectors"
   ]
  },
  {
   "cell_type": "code",
   "execution_count": null,
   "metadata": {},
   "outputs": [],
   "source": [
    "word = 'thesis'\n",
    "index_of_thesis = index_dict['thesis']\n",
    "print(index_of_thesis)\n",
    "\n",
    "\n",
    "vectors[0][index_of_thesis]\n",
    "vectors[1][index_of_thesis]\n",
    "vectors[2][index_of_thesis]"
   ]
  }
 ],
 "metadata": {
  "kernelspec": {
   "display_name": "py3.11",
   "language": "python",
   "name": "python3"
  },
  "language_info": {
   "codemirror_mode": {
    "name": "ipython",
    "version": 3
   },
   "file_extension": ".py",
   "mimetype": "text/x-python",
   "name": "python",
   "nbconvert_exporter": "python",
   "pygments_lexer": "ipython3",
   "version": "3.11.4"
  },
  "orig_nbformat": 4
 },
 "nbformat": 4,
 "nbformat_minor": 2
}
