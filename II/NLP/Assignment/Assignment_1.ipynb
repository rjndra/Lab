{
 "cells": [
  {
   "cell_type": "markdown",
   "metadata": {},
   "source": [
    "# Assignment-1 Frequency Analysis and Bag of Words\n",
    "\n",
    "## Objective\n",
    "- Learn the keywords of NLP\n",
    "- Understand basic of NLP\n",
    "- Explore the Bag of words for basic analysis of text\n"
   ]
  },
  {
   "cell_type": "markdown",
   "metadata": {},
   "source": [
    "## Your Details"
   ]
  },
  {
   "cell_type": "code",
   "execution_count": 1,
   "metadata": {},
   "outputs": [],
   "source": [
    "import datetime\n",
    "\n",
    "student_rollno = 25\n",
    "student_name = 'Rajendra Karki'\n",
    "assignment_tag = 'MDS555-2023-Assignment-1'"
   ]
  },
  {
   "cell_type": "code",
   "execution_count": 2,
   "metadata": {},
   "outputs": [],
   "source": [
    "# from checker_utils import done\n",
    "def done(task):\n",
    "    _date = datetime.datetime.now()\n",
    "    task = task + \": \" + str(_date)\n",
    "    print('='*len(task), '\\n', task , '\\n', '='*len(task), sep='')\n",
    "    pass"
   ]
  },
  {
   "cell_type": "markdown",
   "metadata": {},
   "source": [
    "## Literature Review\n",
    "- Put your review of the literature related to Frequency analysis and bag of words\n",
    "- define terminologies used\n",
    "- put details of the library used"
   ]
  },
  {
   "cell_type": "markdown",
   "metadata": {},
   "source": [
    "## Task 1: Dataset Preparation:\n",
    "\n",
    "Prepare the Nepali news dataset *(hint: you can obtain text from news websites, at least 20 different news of 2/3 different categories)*. Host the dataset in the public git repository."
   ]
  },
  {
   "cell_type": "code",
   "execution_count": null,
   "metadata": {},
   "outputs": [],
   "source": []
  }
 ],
 "metadata": {
  "kernelspec": {
   "display_name": "py3.11",
   "language": "python",
   "name": "python3"
  },
  "language_info": {
   "codemirror_mode": {
    "name": "ipython",
    "version": 3
   },
   "file_extension": ".py",
   "mimetype": "text/x-python",
   "name": "python",
   "nbconvert_exporter": "python",
   "pygments_lexer": "ipython3",
   "version": "3.11.4"
  },
  "orig_nbformat": 4
 },
 "nbformat": 4,
 "nbformat_minor": 2
}
