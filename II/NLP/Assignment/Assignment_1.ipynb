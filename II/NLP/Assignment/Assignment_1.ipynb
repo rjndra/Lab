{
 "cells": [
  {
   "cell_type": "markdown",
   "metadata": {},
   "source": [
    "# Assignment-1 Frequency Analysis and Bag of Words\n",
    "\n",
    "## Objective\n",
    "- Learn the keywords of NLP\n",
    "- Understand basic of NLP\n",
    "- Explore the Bag of words for basic analysis of text\n"
   ]
  },
  {
   "cell_type": "markdown",
   "metadata": {},
   "source": [
    "## Your Details"
   ]
  },
  {
   "cell_type": "code",
   "execution_count": 2,
   "metadata": {},
   "outputs": [],
   "source": [
    "import datetime\n",
    "\n",
    "student_rollno = 25\n",
    "student_name = 'Rajendra Karki'\n",
    "assignment_tag = 'MDS555-2023-Assignment-1'"
   ]
  },
  {
   "cell_type": "code",
   "execution_count": 3,
   "metadata": {},
   "outputs": [],
   "source": [
    "# from checker_utils import done\n",
    "def done(task):\n",
    "    _date = datetime.datetime.now()\n",
    "    task = task + \": \" + str(_date)\n",
    "    print('='*len(task), '\\n', task , '\\n', '='*len(task), sep='')\n",
    "    pass"
   ]
  },
  {
   "cell_type": "markdown",
   "metadata": {},
   "source": [
    "## Literature Review\n",
    "- Put your review of the literature related to Frequency analysis and bag of words\n",
    "- define terminologies used\n",
    "- put details of the library used"
   ]
  },
  {
   "cell_type": "markdown",
   "metadata": {},
   "source": [
    "## Task 1: Dataset Preparation:\n",
    "\n",
    "Prepare the Nepali news dataset *(hint: you can obtain text from news websites, at least 20 different news of 2/3 different categories)*. Host the dataset in the public git repository."
   ]
  },
  {
   "cell_type": "code",
   "execution_count": 13,
   "metadata": {},
   "outputs": [
    {
     "data": {
      "text/html": [
       "<div>\n",
       "<style scoped>\n",
       "    .dataframe tbody tr th:only-of-type {\n",
       "        vertical-align: middle;\n",
       "    }\n",
       "\n",
       "    .dataframe tbody tr th {\n",
       "        vertical-align: top;\n",
       "    }\n",
       "\n",
       "    .dataframe thead th {\n",
       "        text-align: right;\n",
       "    }\n",
       "</style>\n",
       "<table border=\"1\" class=\"dataframe\">\n",
       "  <thead>\n",
       "    <tr style=\"text-align: right;\">\n",
       "      <th></th>\n",
       "      <th>Input</th>\n",
       "      <th>Category</th>\n",
       "    </tr>\n",
       "  </thead>\n",
       "  <tbody>\n",
       "    <tr>\n",
       "      <th>0</th>\n",
       "      <td>डलरको भाउ हालसम्मकै उच्च, किन बढिरहेको छ भाउ ?</td>\n",
       "      <td>business</td>\n",
       "    </tr>\n",
       "    <tr>\n",
       "      <th>1</th>\n",
       "      <td>१२ वर्षमा २८ हजार मेगावाट बिजुली उत्पादनको लक्ष्य</td>\n",
       "      <td>business</td>\n",
       "    </tr>\n",
       "    <tr>\n",
       "      <th>2</th>\n",
       "      <td>भूतप्रभावी करविरुद्ध १६ बैंक अदालतमा</td>\n",
       "      <td>business</td>\n",
       "    </tr>\n",
       "    <tr>\n",
       "      <th>3</th>\n",
       "      <td>तेस्रो देशका पर्यटकलाई भारतको ‘अघोषित नाकाबन्दी’</td>\n",
       "      <td>business</td>\n",
       "    </tr>\n",
       "    <tr>\n",
       "      <th>4</th>\n",
       "      <td>साउन र भदौमा सरकारले उठायो कुल १ खर्ब ४१ अर्ब ...</td>\n",
       "      <td>business</td>\n",
       "    </tr>\n",
       "  </tbody>\n",
       "</table>\n",
       "</div>"
      ],
      "text/plain": [
       "                                               Input  Category\n",
       "0    डलरको भाउ हालसम्मकै उच्च, किन बढिरहेको छ भाउ ?   business\n",
       "1  १२ वर्षमा २८ हजार मेगावाट बिजुली उत्पादनको लक्ष्य  business\n",
       "2               भूतप्रभावी करविरुद्ध १६ बैंक अदालतमा  business\n",
       "3   तेस्रो देशका पर्यटकलाई भारतको ‘अघोषित नाकाबन्दी’  business\n",
       "4  साउन र भदौमा सरकारले उठायो कुल १ खर्ब ४१ अर्ब ...  business"
      ]
     },
     "execution_count": 13,
     "metadata": {},
     "output_type": "execute_result"
    }
   ],
   "source": [
    "# Task 1: Dataset Preparation:\n",
    "import pandas as pd\n",
    "# !git clone https://github.com/rjndra/Lab.git\n",
    "# # Load the dataset\n",
    "# df = pd.read_csv('Lab/II/NLP/Assignment/nepali_news_dataset.csv')\n",
    "# df.head()\n",
    "\n",
    "#Getting the data from github\n",
    "github_csv_url = 'https://raw.githubusercontent.com/rjndra/Lab/main/II/NLP/Assignment/nepali_news_dataset.csv'\n",
    "\n",
    "# Read the CSV file from GitHub into a DataFrame\n",
    "df = pd.read_csv(github_csv_url, encoding='utf-8')\n",
    "\n",
    "df.head()"
   ]
  },
  {
   "cell_type": "code",
   "execution_count": 15,
   "metadata": {},
   "outputs": [
    {
     "name": "stdout",
     "output_type": "stream",
     "text": [
      "==================================\n",
      "Task 1: 2023-09-19 14:14:39.072418\n",
      "==================================\n"
     ]
    }
   ],
   "source": [
    "done('Task 1')"
   ]
  },
  {
   "cell_type": "markdown",
   "metadata": {},
   "source": [
    "## Task  2.1: Frequency Analysis\n",
    "\n",
    "Perform the frequency analysis on the text collected"
   ]
  },
  {
   "cell_type": "code",
   "execution_count": 19,
   "metadata": {},
   "outputs": [
    {
     "name": "stderr",
     "output_type": "stream",
     "text": [
      "[nltk_data] Downloading package punkt to\n",
      "[nltk_data]     /Users/rajendrakarki/nltk_data...\n",
      "[nltk_data]   Package punkt is already up-to-date!\n"
     ]
    },
    {
     "data": {
      "text/html": [
       "<div>\n",
       "<style scoped>\n",
       "    .dataframe tbody tr th:only-of-type {\n",
       "        vertical-align: middle;\n",
       "    }\n",
       "\n",
       "    .dataframe tbody tr th {\n",
       "        vertical-align: top;\n",
       "    }\n",
       "\n",
       "    .dataframe thead th {\n",
       "        text-align: right;\n",
       "    }\n",
       "</style>\n",
       "<table border=\"1\" class=\"dataframe\">\n",
       "  <thead>\n",
       "    <tr style=\"text-align: right;\">\n",
       "      <th></th>\n",
       "      <th>Input</th>\n",
       "      <th>Category</th>\n",
       "      <th>tokens</th>\n",
       "    </tr>\n",
       "  </thead>\n",
       "  <tbody>\n",
       "    <tr>\n",
       "      <th>0</th>\n",
       "      <td>डलरको भाउ हालसम्मकै उच्च, किन बढिरहेको छ भाउ ?</td>\n",
       "      <td>business</td>\n",
       "      <td>[डलरको, भाउ, हालसम्मकै, उच्च, ,, किन, बढिरहेको...</td>\n",
       "    </tr>\n",
       "    <tr>\n",
       "      <th>1</th>\n",
       "      <td>१२ वर्षमा २८ हजार मेगावाट बिजुली उत्पादनको लक्ष्य</td>\n",
       "      <td>business</td>\n",
       "      <td>[१२, वर्षमा, २८, हजार, मेगावाट, बिजुली, उत्पाद...</td>\n",
       "    </tr>\n",
       "    <tr>\n",
       "      <th>2</th>\n",
       "      <td>भूतप्रभावी करविरुद्ध १६ बैंक अदालतमा</td>\n",
       "      <td>business</td>\n",
       "      <td>[भूतप्रभावी, करविरुद्ध, १६, बैंक, अदालतमा]</td>\n",
       "    </tr>\n",
       "    <tr>\n",
       "      <th>3</th>\n",
       "      <td>तेस्रो देशका पर्यटकलाई भारतको ‘अघोषित नाकाबन्दी’</td>\n",
       "      <td>business</td>\n",
       "      <td>[तेस्रो, देशका, पर्यटकलाई, भारतको, ‘, अघोषित, ...</td>\n",
       "    </tr>\n",
       "    <tr>\n",
       "      <th>4</th>\n",
       "      <td>साउन र भदौमा सरकारले उठायो कुल १ खर्ब ४१ अर्ब ...</td>\n",
       "      <td>business</td>\n",
       "      <td>[साउन, र, भदौमा, सरकारले, उठायो, कुल, १, खर्ब,...</td>\n",
       "    </tr>\n",
       "  </tbody>\n",
       "</table>\n",
       "</div>"
      ],
      "text/plain": [
       "                                               Input  Category  \\\n",
       "0    डलरको भाउ हालसम्मकै उच्च, किन बढिरहेको छ भाउ ?   business   \n",
       "1  १२ वर्षमा २८ हजार मेगावाट बिजुली उत्पादनको लक्ष्य  business   \n",
       "2               भूतप्रभावी करविरुद्ध १६ बैंक अदालतमा  business   \n",
       "3   तेस्रो देशका पर्यटकलाई भारतको ‘अघोषित नाकाबन्दी’  business   \n",
       "4  साउन र भदौमा सरकारले उठायो कुल १ खर्ब ४१ अर्ब ...  business   \n",
       "\n",
       "                                              tokens  \n",
       "0  [डलरको, भाउ, हालसम्मकै, उच्च, ,, किन, बढिरहेको...  \n",
       "1  [१२, वर्षमा, २८, हजार, मेगावाट, बिजुली, उत्पाद...  \n",
       "2         [भूतप्रभावी, करविरुद्ध, १६, बैंक, अदालतमा]  \n",
       "3  [तेस्रो, देशका, पर्यटकलाई, भारतको, ‘, अघोषित, ...  \n",
       "4  [साउन, र, भदौमा, सरकारले, उठायो, कुल, १, खर्ब,...  "
      ]
     },
     "execution_count": 19,
     "metadata": {},
     "output_type": "execute_result"
    }
   ],
   "source": [
    "import nltk\n",
    "nltk.download('punkt')\n",
    "from nltk.tokenize import word_tokenize\n",
    "\n",
    "# Function to tokenize the 'Input' column and store the result in a new column\n",
    "def tokenize_text(df, Input, new_column_name):\n",
    "    df[new_column_name] = df[Input].apply(lambda x: word_tokenize(x))\n",
    "    return df\n",
    "\n",
    "# Tokenize the 'Input' column and store the result in a new column called 'tokens'\n",
    "df = tokenize_text(df, \"Input\", \"tokens\")\n",
    "df.head()"
   ]
  },
  {
   "cell_type": "code",
   "execution_count": 20,
   "metadata": {},
   "outputs": [
    {
     "data": {
      "text/html": [
       "<div>\n",
       "<style scoped>\n",
       "    .dataframe tbody tr th:only-of-type {\n",
       "        vertical-align: middle;\n",
       "    }\n",
       "\n",
       "    .dataframe tbody tr th {\n",
       "        vertical-align: top;\n",
       "    }\n",
       "\n",
       "    .dataframe thead th {\n",
       "        text-align: right;\n",
       "    }\n",
       "</style>\n",
       "<table border=\"1\" class=\"dataframe\">\n",
       "  <thead>\n",
       "    <tr style=\"text-align: right;\">\n",
       "      <th></th>\n",
       "      <th>Input</th>\n",
       "      <th>Category</th>\n",
       "      <th>tokens</th>\n",
       "    </tr>\n",
       "  </thead>\n",
       "  <tbody>\n",
       "    <tr>\n",
       "      <th>0</th>\n",
       "      <td>डलरको भाउ हालसम्मकै उच्च, किन बढिरहेको छ भाउ ?</td>\n",
       "      <td>business</td>\n",
       "      <td>[डलरको, भाउ, हालसम्मकै, उच्च, किन, बढिरहेको, छ...</td>\n",
       "    </tr>\n",
       "    <tr>\n",
       "      <th>1</th>\n",
       "      <td>१२ वर्षमा २८ हजार मेगावाट बिजुली उत्पादनको लक्ष्य</td>\n",
       "      <td>business</td>\n",
       "      <td>[वर्षमा, हजार, मेगावाट, बिजुली, उत्पादनको, लक्...</td>\n",
       "    </tr>\n",
       "    <tr>\n",
       "      <th>2</th>\n",
       "      <td>भूतप्रभावी करविरुद्ध १६ बैंक अदालतमा</td>\n",
       "      <td>business</td>\n",
       "      <td>[भूतप्रभावी, करविरुद्ध, बैंक, अदालतमा]</td>\n",
       "    </tr>\n",
       "    <tr>\n",
       "      <th>3</th>\n",
       "      <td>तेस्रो देशका पर्यटकलाई भारतको ‘अघोषित नाकाबन्दी’</td>\n",
       "      <td>business</td>\n",
       "      <td>[तेस्रो, देशका, पर्यटकलाई, भारतको, अघोषित, नाक...</td>\n",
       "    </tr>\n",
       "    <tr>\n",
       "      <th>4</th>\n",
       "      <td>साउन र भदौमा सरकारले उठायो कुल १ खर्ब ४१ अर्ब ...</td>\n",
       "      <td>business</td>\n",
       "      <td>[साउन, र, भदौमा, सरकारले, उठायो, कुल, खर्ब, अर...</td>\n",
       "    </tr>\n",
       "  </tbody>\n",
       "</table>\n",
       "</div>"
      ],
      "text/plain": [
       "                                               Input  Category  \\\n",
       "0    डलरको भाउ हालसम्मकै उच्च, किन बढिरहेको छ भाउ ?   business   \n",
       "1  १२ वर्षमा २८ हजार मेगावाट बिजुली उत्पादनको लक्ष्य  business   \n",
       "2               भूतप्रभावी करविरुद्ध १६ बैंक अदालतमा  business   \n",
       "3   तेस्रो देशका पर्यटकलाई भारतको ‘अघोषित नाकाबन्दी’  business   \n",
       "4  साउन र भदौमा सरकारले उठायो कुल १ खर्ब ४१ अर्ब ...  business   \n",
       "\n",
       "                                              tokens  \n",
       "0  [डलरको, भाउ, हालसम्मकै, उच्च, किन, बढिरहेको, छ...  \n",
       "1  [वर्षमा, हजार, मेगावाट, बिजुली, उत्पादनको, लक्...  \n",
       "2             [भूतप्रभावी, करविरुद्ध, बैंक, अदालतमा]  \n",
       "3  [तेस्रो, देशका, पर्यटकलाई, भारतको, अघोषित, नाक...  \n",
       "4  [साउन, र, भदौमा, सरकारले, उठायो, कुल, खर्ब, अर...  "
      ]
     },
     "execution_count": 20,
     "metadata": {},
     "output_type": "execute_result"
    }
   ],
   "source": [
    "import string\n",
    "\n",
    "def clean_text(text):\n",
    "    # Remove punctuation and numbers, and convert to lowercase\n",
    "    text = text.replace('।', '')\n",
    "    text = text.replace('‘', '')\n",
    "    text = text.replace('’', '')\n",
    "    text = text.replace('–', '')\n",
    "    text = ''.join([char for char in text if char not in string.punctuation and not char.isdigit()])\n",
    "    return text.lower()\n",
    "\n",
    "# Function to tokenize and clean the 'Input' column\n",
    "def tokenize_and_clean_text(df, input_column_name, new_column_name):\n",
    "    df[new_column_name] = df[input_column_name].apply(clean_text)\n",
    "    df[new_column_name] = df[new_column_name].apply(lambda x: word_tokenize(x))\n",
    "    return df\n",
    "\n",
    "# Tokenize and clean the 'Input' column, storing the result in a new column called 'Tokenized_Input'\n",
    "df = tokenize_and_clean_text(df, 'Input', 'tokens')\n",
    "\n",
    "df.head()"
   ]
  },
  {
   "cell_type": "code",
   "execution_count": null,
   "metadata": {},
   "outputs": [],
   "source": []
  }
 ],
 "metadata": {
  "kernelspec": {
   "display_name": "py3.11",
   "language": "python",
   "name": "python3"
  },
  "language_info": {
   "codemirror_mode": {
    "name": "ipython",
    "version": 3
   },
   "file_extension": ".py",
   "mimetype": "text/x-python",
   "name": "python",
   "nbconvert_exporter": "python",
   "pygments_lexer": "ipython3",
   "version": "3.11.4"
  },
  "orig_nbformat": 4
 },
 "nbformat": 4,
 "nbformat_minor": 2
}
