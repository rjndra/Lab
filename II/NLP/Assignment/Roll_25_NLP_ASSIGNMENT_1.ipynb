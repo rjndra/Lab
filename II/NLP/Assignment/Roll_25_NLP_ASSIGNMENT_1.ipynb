{
  "cells": [
    {
      "cell_type": "markdown",
      "metadata": {
        "id": "LnRKTrs9pd8O"
      },
      "source": [
        "# Assignment-1 Frequency Analysis and Bag of Words\n",
        "\n",
        "## Objective\n",
        "- Learn the keywords of NLP\n",
        "- Understand basic of NLP\n",
        "- Explore the Bag of words for basic analysis of text\n",
        "\n"
      ]
    },
    {
      "cell_type": "markdown",
      "metadata": {
        "id": "QkBBpsTNqQnD"
      },
      "source": [
        "## Your Details\n"
      ]
    },
    {
      "cell_type": "code",
      "execution_count": 1,
      "metadata": {
        "id": "BpF9fjJuqXBt"
      },
      "outputs": [],
      "source": [
        "import datetime\n",
        "\n",
        "student_rollno = 25\n",
        "student_name = 'Rajendra Karki'\n",
        "assignment_tag = 'MDS555-2023-Assignment-1'"
      ]
    },
    {
      "cell_type": "code",
      "execution_count": 2,
      "metadata": {
        "id": "oAyWHgZIr8Et"
      },
      "outputs": [],
      "source": [
        "# from checker_utils import done\n",
        "def done(task):\n",
        "    _date = datetime.datetime.now()\n",
        "    task = task + \": \" + str(_date)\n",
        "    print('='*len(task), '\\n', task , '\\n', '='*len(task), sep='')\n",
        "    pass"
      ]
    },
    {
      "cell_type": "markdown",
      "metadata": {
        "id": "LWnpPiiRp7QL"
      },
      "source": [
        "## Literature Review\n",
        "- Put your review of the literature related to Frequency analysis and bag of words\n",
        "- define terminologies used\n",
        "- put details of the library used\n",
        "\n"
      ]
    },
    {
      "cell_type": "markdown",
      "metadata": {
        "id": "B9bq4oXes_E-"
      },
      "source": [
        "## Task 1: Dataset Preparation:\n",
        "\n",
        "Prepare the Nepali news dataset *(hint: you can obtain text from news websites, at least 20 different news of 2/3 different categories)*. Host the dataset in the public git repository."
      ]
    },
    {
      "cell_type": "code",
      "execution_count": 6,
      "metadata": {
        "colab": {
          "base_uri": "https://localhost:8080/"
        },
        "id": "eJPOguP3pdg2",
        "outputId": "30719a68-9939-47e9-f25a-d6b81d683d3b"
      },
      "outputs": [
        {
          "name": "stdout",
          "output_type": "stream",
          "text": [
            "fatal: destination path 'Lab' already exists and is not an empty directory.\n",
            "                                                Input       Category\n",
            "0     डलरको भाउ हालसम्मकै उच्च, किन बढिरहेको छ भाउ ?        business\n",
            "1   १२ वर्षमा २८ हजार मेगावाट बिजुली उत्पादनको लक्ष्य       business\n",
            "2                भूतप्रभावी करविरुद्ध १६ बैंक अदालतमा       business\n",
            "3    तेस्रो देशका पर्यटकलाई भारतको ‘अघोषित नाकाबन्दी’       business\n",
            "4   साउन र भदौमा सरकारले उठायो कुल १ खर्ब ४१ अर्ब ...       business\n",
            "5   अर्थसचिव ४/४ महिनामा सरुवा‚ पुष्कर पुनः अर्थमा...       business\n",
            "6   बढ्यो सेयर बजार, कारोबार ८७ करोडमा सीमित कान्त...       business\n",
            "7   सरकारले शून्य ब्याजदरको ६३ अर्ब निक्षेप दिँदा ...       business\n",
            "8   कर्णाली सरकारको विकास : तीन वर्षमा ७८ किमि मात...       business\n",
            "9   विद्युत् विधेयकले आयोजनामा निजी क्षेत्रको ढोका...       business\n",
            "10  ७६ हजारले अवलोकन गर्दै सकियो नाडा अटो सोकान्ति...       business\n",
            "11  बक्सिङमा बक्समाण्डु र अल्फा टिम च्याम्पियनकान्...         sports\n",
            "12  ओलम्पियन्स फोरममा नेपालको प्रशंसाकान्तिपुर संव...         sports\n",
            "13  चिल्ड्रेन लाइफलाई उपाधिप्रकाश बरालजिल्ला फुटबल...         sports\n",
            "14  म्यानमारका दुई खेल र विश्वकप छनोटराजु घिसिङनेप...         sports\n",
            "15  ग्रिनफिल्ड र गोल्डेनगेट च्याम्पियनकान्तिपुर सं...         sports\n",
            "16  सिद्धान्त र इशालाई स्वर्णकान्तिपुर संवाददातासि...         sports\n",
            "17  मेगस, स्वर्णिम र जनसेवाको जितकान्तिपुर संवाददा...         sports\n",
            "18  वर्षा, रन र कीर्तिमानकान्तिपुर संवाददातातीन सा...         sports\n",
            "19  भारत आठौंपल्ट च्याम्पियनएएफपीपेस बलर मोहम्मद स...         sports\n",
            "20  श्रीलंकालाई १० विकेटले हराउँदै भारतले जित्यो ए...         sports\n",
            "21  दौडमा अनोज र सुष्मालाई स्वर्णकान्तिपुर संवाददा...         sports\n",
            "22  ४६५० मिटर उचाइको कोर्समा श्याम च्याम्पियनकान्त...         sports\n",
            "23  ब्रेन्टफोर्डलाई हराएपछि न्युकासललाई राहतएजेन्स...         sports\n",
            "24  इन्टरको शतप्रतिशत सुरुआत कायमएजेन्सीइन्टर मिला...         sports\n",
            "25  अपराजित बार्सिलोना शीर्षमाएजेन्सीबार्सिलोनाले ...         sports\n",
            "26  अस्करमा नेपालबाट ‘हल्कारा’ पठाइनेरासस एकेडेमी ...  entertainment\n",
            "27  कथा वाचनमा चुकेको ‘एक भागवत र एक गीता’रीना मोक...  entertainment\n",
            "28  ‘डिजाइनर्स रनवे’ मा सेलेब्रिटी चालकान्तिपुर सं...  entertainment\n",
            "29  'आईईसी डिजाइनर्स रनवे १२' सम्पन्‍नकान्तिपुर सं...  entertainment\n",
            "30  'इन्ससेन्ट रेन' ले सुरु गर्‍यो एनिमेसनमा महिला...  entertainment\n",
            "31  ‘तीतो बोली सच्चा गुण’ मञ्चनकान्तिपुर संवाददाता...  entertainment\n",
            "32  टिफमा 'गाउँ आएको बाटो'को वर्ल्ड प्रिमियरकान्ति...  entertainment\n",
            "33  'एक भगवत गीता'को नाम परिवर्तनकान्तिपुर संवाददा...  entertainment\n",
            "34  अमृतको शब्दमा सविनाको ‘रहर’कान्तिपुर संवाददाता...  entertainment\n",
            "35  जेन दिपिका बनिन् मिस युनिभर्स नेपालकान्तिपुर स...  entertainment\n"
          ]
        }
      ],
      "source": [
        "# Task 1: Dataset Preparation:\n",
        "import pandas as pd\n",
        "!git clone https://github.com/rjndra/Lab.git\n",
        "# Load the dataset\n",
        "df = pd.read_csv('Lab/II/NLP/Assignment/nepali_news_dataset.csv')\n",
        "print(df)\n"
      ]
    },
    {
      "cell_type": "code",
      "execution_count": 7,
      "metadata": {
        "colab": {
          "base_uri": "https://localhost:8080/"
        },
        "id": "FV8206thpbmo",
        "outputId": "d46e2919-4946-4042-88f7-90fd292227fd"
      },
      "outputs": [
        {
          "ename": "NameError",
          "evalue": "name 'done' is not defined",
          "output_type": "error",
          "traceback": [
            "\u001b[0;31m---------------------------------------------------------------------------\u001b[0m",
            "\u001b[0;31mNameError\u001b[0m                                 Traceback (most recent call last)",
            "\u001b[1;32m/Users/rajendrakarki/Workspace/Lab/II/NLP/Assignment/Roll_25_NLP_ASSIGNMENT_1.ipynb Cell 9\u001b[0m line \u001b[0;36m1\n\u001b[0;32m----> <a href='vscode-notebook-cell:/Users/rajendrakarki/Workspace/Lab/II/NLP/Assignment/Roll_25_NLP_ASSIGNMENT_1.ipynb#X10sZmlsZQ%3D%3D?line=0'>1</a>\u001b[0m done(\u001b[39m'\u001b[39m\u001b[39mTask 1\u001b[39m\u001b[39m'\u001b[39m)\n",
            "\u001b[0;31mNameError\u001b[0m: name 'done' is not defined"
          ]
        }
      ],
      "source": [
        "done('Task 1')"
      ]
    },
    {
      "cell_type": "markdown",
      "metadata": {
        "id": "zUE4li1lt1Aj"
      },
      "source": [
        "## Task  2.1: Frequency Analysis\n",
        "\n",
        "Perform the frequency analysis on the text collected"
      ]
    },
    {
      "cell_type": "code",
      "execution_count": 31,
      "metadata": {
        "colab": {
          "base_uri": "https://localhost:8080/",
          "height": 772
        },
        "id": "srs4zKYVt1Ao",
        "outputId": "6f8ec5eb-c23d-4440-a055-459bfa169755"
      },
      "outputs": [
        {
          "name": "stderr",
          "output_type": "stream",
          "text": [
            "[nltk_data] Downloading package punkt to /root/nltk_data...\n",
            "[nltk_data]   Package punkt is already up-to-date!\n",
            "/usr/local/lib/python3.10/dist-packages/IPython/core/pylabtools.py:151: UserWarning: Glyph 2404 (\\N{DEVANAGARI DANDA}) missing from current font.\n",
            "  fig.canvas.print_figure(bytes_io, **kw)\n",
            "/usr/local/lib/python3.10/dist-packages/IPython/core/pylabtools.py:151: UserWarning: Glyph 2341 (\\N{DEVANAGARI LETTER THA}) missing from current font.\n",
            "  fig.canvas.print_figure(bytes_io, **kw)\n",
            "/usr/local/lib/python3.10/dist-packages/IPython/core/pylabtools.py:151: UserWarning: Glyph 2349 (\\N{DEVANAGARI LETTER BHA}) missing from current font.\n",
            "  fig.canvas.print_figure(bytes_io, **kw)\n",
            "/usr/local/lib/python3.10/dist-packages/IPython/core/pylabtools.py:151: UserWarning: Glyph 2319 (\\N{DEVANAGARI LETTER E}) missing from current font.\n",
            "  fig.canvas.print_figure(bytes_io, **kw)\n"
          ]
        },
        {
          "name": "stdout",
          "output_type": "stream",
          "text": [
            "760\n",
            "[('।', 42), ('छ', 19), ('गरेको', 9), ('छन्', 8), ('तथा', 7), ('भएको', 7), ('प्रधानमन्त्री', 6), ('खेलकुद', 6), ('गर्न', 5), ('आयोग', 5)]\n"
          ]
        },
        {
          "data": {
            "image/png": "[encoded data removed]",
            "text/plain": [
              "<Figure size 1200x600 with 1 Axes>"
            ]
          },
          "metadata": {},
          "output_type": "display_data"
        }
      ],
      "source": [
        "# Task 2.1: Frequency Analysis\n",
        "import matplotlib.pyplot as plt\n",
        "import nltk\n",
        "from nltk import FreqDist\n",
        "\n",
        "nltk.download('punkt')\n",
        "\n",
        "# Tokenize the text\n",
        "tokens = df['text'].apply(nltk.word_tokenize)\n",
        "\n",
        "# Flatten the list of tokens\n",
        "all_tokens = [token for sublist in tokens for token in sublist]\n",
        "\n",
        "print(len(all_tokens))\n",
        "\n",
        "# Calculate word frequencies\n",
        "freq_dist = FreqDist(all_tokens)\n",
        "\n",
        "# Print the top 10 most common words\n",
        "print(freq_dist.most_common(10))\n",
        "# Get the most common 10 words and their frequencies\n",
        "n = 10\n",
        "common_words = freq_dist.most_common(n)\n",
        "words, frequencies = zip(*common_words)\n",
        "\n",
        "# Create a bar chart\n",
        "plt.figure(figsize=(12, 6))\n",
        "plt.bar(words, frequencies)\n",
        "plt.xlabel('Words')\n",
        "plt.ylabel('Frequency')\n",
        "plt.title('Top {} Words Frequency'.format(n))\n",
        "plt.show()\n",
        "\n"
      ]
    },
    {
      "cell_type": "code",
      "execution_count": 32,
      "metadata": {
        "colab": {
          "base_uri": "https://localhost:8080/"
        },
        "id": "A8cv8IuTt1Ap",
        "outputId": "aeab09f2-f388-49f4-ae4d-cc53c6d46121"
      },
      "outputs": [
        {
          "name": "stdout",
          "output_type": "stream",
          "text": [
            "====================================\n",
            "Task 2.1: 2023-09-16 02:22:02.759167\n",
            "====================================\n"
          ]
        }
      ],
      "source": [
        "done('Task 2.1')"
      ]
    },
    {
      "cell_type": "markdown",
      "metadata": {
        "id": "Q1h3Hpzit1RZ"
      },
      "source": [
        "## Task  2.2: Filter Stop words\n",
        "\n",
        "Improve Performance analysis by filtering stop words (you can also develop rule based )\n"
      ]
    },
    {
      "cell_type": "code",
      "execution_count": 35,
      "metadata": {
        "colab": {
          "base_uri": "https://localhost:8080/",
          "height": 1000
        },
        "id": "bwjPTC2Ht1Rb",
        "outputId": "64587566-1c35-4924-ae3c-9bc3654e5dbc"
      },
      "outputs": [
        {
          "name": "stderr",
          "output_type": "stream",
          "text": [
            "[nltk_data] Downloading package stopwords to /root/nltk_data...\n",
            "[nltk_data]   Package stopwords is already up-to-date!\n",
            "/usr/local/lib/python3.10/dist-packages/IPython/core/pylabtools.py:151: UserWarning: Glyph 2346 (\\N{DEVANAGARI LETTER PA}) missing from current font.\n",
            "  fig.canvas.print_figure(bytes_io, **kw)\n",
            "/usr/local/lib/python3.10/dist-packages/IPython/core/pylabtools.py:151: UserWarning: Matplotlib currently does not support Devanagari natively.\n",
            "  fig.canvas.print_figure(bytes_io, **kw)\n",
            "/usr/local/lib/python3.10/dist-packages/IPython/core/pylabtools.py:151: UserWarning: Glyph 2381 (\\N{DEVANAGARI SIGN VIRAMA}) missing from current font.\n",
            "  fig.canvas.print_figure(bytes_io, **kw)\n",
            "/usr/local/lib/python3.10/dist-packages/IPython/core/pylabtools.py:151: UserWarning: Glyph 2352 (\\N{DEVANAGARI LETTER RA}) missing from current font.\n",
            "  fig.canvas.print_figure(bytes_io, **kw)\n",
            "/usr/local/lib/python3.10/dist-packages/IPython/core/pylabtools.py:151: UserWarning: Glyph 2343 (\\N{DEVANAGARI LETTER DHA}) missing from current font.\n",
            "  fig.canvas.print_figure(bytes_io, **kw)\n",
            "/usr/local/lib/python3.10/dist-packages/IPython/core/pylabtools.py:151: UserWarning: Glyph 2366 (\\N{DEVANAGARI VOWEL SIGN AA}) missing from current font.\n",
            "  fig.canvas.print_figure(bytes_io, **kw)\n",
            "/usr/local/lib/python3.10/dist-packages/IPython/core/pylabtools.py:151: UserWarning: Glyph 2344 (\\N{DEVANAGARI LETTER NA}) missing from current font.\n",
            "  fig.canvas.print_figure(bytes_io, **kw)\n",
            "/usr/local/lib/python3.10/dist-packages/IPython/core/pylabtools.py:151: UserWarning: Glyph 2350 (\\N{DEVANAGARI LETTER MA}) missing from current font.\n",
            "  fig.canvas.print_figure(bytes_io, **kw)\n",
            "/usr/local/lib/python3.10/dist-packages/IPython/core/pylabtools.py:151: UserWarning: Glyph 2340 (\\N{DEVANAGARI LETTER TA}) missing from current font.\n",
            "  fig.canvas.print_figure(bytes_io, **kw)\n",
            "/usr/local/lib/python3.10/dist-packages/IPython/core/pylabtools.py:151: UserWarning: Glyph 2368 (\\N{DEVANAGARI VOWEL SIGN II}) missing from current font.\n",
            "  fig.canvas.print_figure(bytes_io, **kw)\n",
            "/usr/local/lib/python3.10/dist-packages/IPython/core/pylabtools.py:151: UserWarning: Glyph 2326 (\\N{DEVANAGARI LETTER KHA}) missing from current font.\n",
            "  fig.canvas.print_figure(bytes_io, **kw)\n",
            "/usr/local/lib/python3.10/dist-packages/IPython/core/pylabtools.py:151: UserWarning: Glyph 2375 (\\N{DEVANAGARI VOWEL SIGN E}) missing from current font.\n",
            "  fig.canvas.print_figure(bytes_io, **kw)\n",
            "/usr/local/lib/python3.10/dist-packages/IPython/core/pylabtools.py:151: UserWarning: Glyph 2354 (\\N{DEVANAGARI LETTER LA}) missing from current font.\n",
            "  fig.canvas.print_figure(bytes_io, **kw)\n",
            "/usr/local/lib/python3.10/dist-packages/IPython/core/pylabtools.py:151: UserWarning: Glyph 2325 (\\N{DEVANAGARI LETTER KA}) missing from current font.\n",
            "  fig.canvas.print_figure(bytes_io, **kw)\n",
            "/usr/local/lib/python3.10/dist-packages/IPython/core/pylabtools.py:151: UserWarning: Glyph 2369 (\\N{DEVANAGARI VOWEL SIGN U}) missing from current font.\n",
            "  fig.canvas.print_figure(bytes_io, **kw)\n",
            "/usr/local/lib/python3.10/dist-packages/IPython/core/pylabtools.py:151: UserWarning: Glyph 2342 (\\N{DEVANAGARI LETTER DA}) missing from current font.\n",
            "  fig.canvas.print_figure(bytes_io, **kw)\n",
            "/usr/local/lib/python3.10/dist-packages/IPython/core/pylabtools.py:151: UserWarning: Glyph 2310 (\\N{DEVANAGARI LETTER AA}) missing from current font.\n",
            "  fig.canvas.print_figure(bytes_io, **kw)\n",
            "/usr/local/lib/python3.10/dist-packages/IPython/core/pylabtools.py:151: UserWarning: Glyph 2351 (\\N{DEVANAGARI LETTER YA}) missing from current font.\n",
            "  fig.canvas.print_figure(bytes_io, **kw)\n",
            "/usr/local/lib/python3.10/dist-packages/IPython/core/pylabtools.py:151: UserWarning: Glyph 2379 (\\N{DEVANAGARI VOWEL SIGN O}) missing from current font.\n",
            "  fig.canvas.print_figure(bytes_io, **kw)\n",
            "/usr/local/lib/python3.10/dist-packages/IPython/core/pylabtools.py:151: UserWarning: Glyph 2327 (\\N{DEVANAGARI LETTER GA}) missing from current font.\n",
            "  fig.canvas.print_figure(bytes_io, **kw)\n",
            "/usr/local/lib/python3.10/dist-packages/IPython/core/pylabtools.py:151: UserWarning: Glyph 2335 (\\N{DEVANAGARI LETTER TTA}) missing from current font.\n",
            "  fig.canvas.print_figure(bytes_io, **kw)\n",
            "/usr/local/lib/python3.10/dist-packages/IPython/core/pylabtools.py:151: UserWarning: Glyph 2367 (\\N{DEVANAGARI VOWEL SIGN I}) missing from current font.\n",
            "  fig.canvas.print_figure(bytes_io, **kw)\n"
          ]
        },
        {
          "name": "stdout",
          "output_type": "stream",
          "text": [
            "{'अरु', 'पर्छ', 'सो', 'यस्तो', 'यसो', 'थिएन', 'बीच', 'पहिलो', 'दिए', 'पहिल्यै', 'पछि', 'अर्थात', 'कुनै', 'अक्सर', 'आफूलाई', 'तपाई', 'फेरी', 'भन', 'जुन', 'नयाँ', 'यसरी', 'मेरो', 'देखि', 'भने', 'चाहिए', 'अन्यथा', 'र', 'का', 'कसरी', 'जताततै', 'धेरै', 'निर्दिष्ट', 'जो', 'सम्म', 'बने', 'निम्न', 'दुई', 'छु', 'चाले', 'पर्थ्यो', 'जहाँ', 'जब', 'गयौ', 'स्पष्ट', 'कसै', 'जबकि', 'भन्', 'प्लस', 'किन', 'पक्कै', 'गर्छु', 'जसलाई', 'मुख्य', 'दोस्रो', 'प्रति', 'यसबाहेक', 'हुने', 'यो', 'समय', 'अरुलाई', 'तत्काल', 'देखेर', 'निम्नानुसार', 'चाहनुहुन्छ', 'यहाँसम्म', 'को', 'तथा', 'तापनी', 'कोही', 'एउटै', 'हुन्', 'पनि', 'थियो', 'अगाडी', 'ओठ', 'यसपछि', 'हरेक', 'अलग', 'यति', 'अन्तर्गत', 'आफू', 'सम्भव', 'यस', 'तेस्कारण', 'सबैलाई', 'भित्री', 'साथै', 'कतै', 'चाहन्छु', 'त्सैले', 'शायद', 'आए', 'नत्र', 'गरेर', 'गर्ने', 'लगभग', 'कसैले', 'तीन', 'दिनुहुन्छ', 'गर्न', 'छू', 'भएको', 'तल', 'यदि', 'सक्छ', 'वास्तवमा', 'भन्छन्', 'बरु', 'गरेका', 'त्सपछि', 'प्रतेक', 'अर्को', 'सायद', 'एकदम', 'तपाईको', 'उप', 'पक्का', 'वरीपरी', 'जस्तोसुकै', 'पर्याप्त', 'उनको', 'भन्नुभयो', 'तुरुन्तै', 'उहालाई', 'सधै', 'भन्ने', 'नै', 'अन्यत्र', 'तदनुसार', 'साथ', 'माथि', 'गैर', 'पहिले', 'आफ्नै', 'कहाँबाट', 'पटक', 'गर्दै', 'हरे', 'आफ्नो', 'अब', 'गरौं', 'नौ', 'जसमा', 'गरेको', 'तेस्रो', 'नजिकै', 'गए', 'ती', 'उदाहरण', 'क्रमशः', 'जसबाट', 'आत्म', 'छ', 'मा', 'पूर्व', 'मलाई', 'अनुसार', 'अझै', 'के', 'देखेको', 'जसको', 'भन्दा', 'सबै', 'तिनिहरुलाई', 'देखियो', 'छैन', 'कुरा', 'चार', 'सही', 'तिनी', 'थिए', 'कहिलेकाहीं', 'जान', 'यी', 'गरि', 'रूप', 'तर', 'यद्यपि', 'छौं', 'जस्तो', 'पाँचौं', 'पछिल्लो', 'बीचमा', 'आजको', 'केही', 'देखिन्छ', 'त्यहाँ', 'सारा', 'रहेको', 'बारे', 'भन्छु', 'राम्रो', 'सट्टा', 'कि', 'गर्नुपर्छ', 'राखे', 'सात', 'लाई', 'अर्थात्', 'नि', 'औं', 'हुन्छ', 'देखे', 'भित्र', 'मात्र', 'उनले', 'दिनुभएको', 'बिरुद्ध', 'या', 'यथोचित', 'यसको', 'अन्य', 'कृपया', 'पाँच', 'रहेका', 'जस्तै', 'बिशेष', 'हो', 'किनभने', 'भए', 'संग', 'एक', 'आदि', 'तिर', 'रही', 'गर्नु', 'ले', 'छन्', 'तिनीहरू', 'निम्ति', 'संगै', 'तिनीहरुको', 'यहाँ', 'त्यो', 'गरी', 'ठीक', 'राख्छ', 'जाहिर', 'म', 'हुन', 'गर्छ', 'तिमी', 'न', 'जे', 'आयो', 'सोही', 'बाहेक', 'जसले', 'त', 'भर', 'बाहिर', 'लागि', 'कम से कम', 'साँच्चै'}\n",
            "['अरु', 'पर्छ', 'सो', 'यस्तो', 'यसो', 'थिएन', 'बीच', 'पहिलो', 'दिए', 'पहिल्यै', 'पछि', 'अर्थात', 'कुनै', 'अक्सर', 'आफूलाई', 'तपाई', 'फेरी', 'भन', 'जुन', 'नयाँ', 'यसरी', 'मेरो', 'देखि', 'भने', 'चाहिए', 'अन्यथा', 'र', 'का', 'कसरी', 'जताततै', 'धेरै', 'निर्दिष्ट', 'जो', 'सम्म', 'बने', 'निम्न', 'दुई', 'छु', 'चाले', 'पर्थ्यो', 'जहाँ', 'जब', 'गयौ', 'स्पष्ट', 'कसै', 'जबकि', 'भन्', 'प्लस', 'किन', 'पक्कै', 'गर्छु', 'जसलाई', 'मुख्य', 'दोस्रो', 'प्रति', 'यसबाहेक', 'हुने', 'यो', 'समय', 'अरुलाई', 'तत्काल', 'देखेर', 'निम्नानुसार', 'चाहनुहुन्छ', 'यहाँसम्म', 'को', 'तथा', 'तापनी', 'कोही', 'एउटै', 'हुन्', 'पनि', 'थियो', 'अगाडी', 'ओठ', 'यसपछि', 'हरेक', 'अलग', 'यति', 'अन्तर्गत', 'आफू', 'सम्भव', 'यस', 'तेस्कारण', 'सबैलाई', 'भित्री', 'साथै', 'कतै', 'चाहन्छु', 'त्सैले', 'शायद', 'आए', 'नत्र', 'गरेर', 'गर्ने', 'लगभग', 'कसैले', 'तीन', 'दिनुहुन्छ', 'गर्न', 'छू', 'भएको', 'तल', 'यदि', 'सक्छ', 'वास्तवमा', 'भन्छन्', 'बरु', 'गरेका', 'त्सपछि', 'प्रतेक', 'अर्को', 'सायद', 'एकदम', 'तपाईको', 'उप', 'पक्का', 'वरीपरी', 'जस्तोसुकै', 'पर्याप्त', 'उनको', 'भन्नुभयो', 'तुरुन्तै', 'उहालाई', 'सधै', 'भन्ने', 'नै', 'अन्यत्र', 'तदनुसार', 'साथ', 'माथि', 'गैर', 'पहिले', 'आफ्नै', 'कहाँबाट', 'पटक', 'गर्दै', 'हरे', 'आफ्नो', 'अब', 'गरौं', 'नौ', 'जसमा', 'गरेको', 'तेस्रो', 'नजिकै', 'गए', 'ती', 'उदाहरण', 'क्रमशः', 'जसबाट', 'आत्म', 'छ', 'मा', 'पूर्व', 'मलाई', 'अनुसार', 'अझै', 'के', 'देखेको', 'जसको', 'भन्दा', 'सबै', 'तिनिहरुलाई', 'देखियो', 'छैन', 'कुरा', 'चार', 'सही', 'तिनी', 'थिए', 'कहिलेकाहीं', 'जान', 'यी', 'गरि', 'रूप', 'तर', 'यद्यपि', 'छौं', 'जस्तो', 'पाँचौं', 'पछिल्लो', 'बीचमा', 'आजको', 'केही', 'देखिन्छ', 'त्यहाँ', 'सारा', 'रहेको', 'बारे', 'भन्छु', 'राम्रो', 'सट्टा', 'कि', 'गर्नुपर्छ', 'राखे', 'सात', 'लाई', 'अर्थात्', 'नि', 'औं', 'हुन्छ', 'देखे', 'भित्र', 'मात्र', 'उनले', 'दिनुभएको', 'बिरुद्ध', 'या', 'यथोचित', 'यसको', 'अन्य', 'कृपया', 'पाँच', 'रहेका', 'जस्तै', 'बिशेष', 'हो', 'किनभने', 'भए', 'संग', 'एक', 'आदि', 'तिर', 'रही', 'गर्नु', 'ले', 'छन्', 'तिनीहरू', 'निम्ति', 'संगै', 'तिनीहरुको', 'यहाँ', 'त्यो', 'गरी', 'ठीक', 'राख्छ', 'जाहिर', 'म', 'हुन', 'गर्छ', 'तिमी', 'न', 'जे', 'आयो', 'सोही', 'बाहेक', 'जसले', 'त', 'भर', 'बाहिर', 'लागि', 'कम से कम', 'साँच्चै', ',', '।', '–', '‘’', '()']\n",
            "590\n",
            "[('प्रधानमन्त्री', 6), ('खेलकुद', 6), ('आयोग', 5), ('पार्टीका', 5), ('प्रतिनिधि', 5), ('प्रतियोगितामा', 5), ('छानबिन', 4), ('पारित', 4), ('अध्यक्ष', 4), ('केन्द्रीय', 4)]\n"
          ]
        },
        {
          "name": "stderr",
          "output_type": "stream",
          "text": [
            "/usr/local/lib/python3.10/dist-packages/IPython/core/pylabtools.py:151: UserWarning: Glyph 2331 (\\N{DEVANAGARI LETTER CHA}) missing from current font.\n",
            "  fig.canvas.print_figure(bytes_io, **kw)\n",
            "/usr/local/lib/python3.10/dist-packages/IPython/core/pylabtools.py:151: UserWarning: Glyph 2348 (\\N{DEVANAGARI LETTER BA}) missing from current font.\n",
            "  fig.canvas.print_figure(bytes_io, **kw)\n",
            "/usr/local/lib/python3.10/dist-packages/IPython/core/pylabtools.py:151: UserWarning: Glyph 2309 (\\N{DEVANAGARI LETTER A}) missing from current font.\n",
            "  fig.canvas.print_figure(bytes_io, **kw)\n",
            "/usr/local/lib/python3.10/dist-packages/IPython/core/pylabtools.py:151: UserWarning: Glyph 2359 (\\N{DEVANAGARI LETTER SSA}) missing from current font.\n",
            "  fig.canvas.print_figure(bytes_io, **kw)\n"
          ]
        },
        {
          "data": {
            "image/png": "[encoded data removed]",
            "text/plain": [
              "<Figure size 1200x600 with 1 Axes>"
            ]
          },
          "metadata": {},
          "output_type": "display_data"
        }
      ],
      "source": [
        "nltk.download('stopwords')\n",
        "from nltk.corpus import stopwords\n",
        "\n",
        "# Load the list of Nepali stop words\n",
        "nepali_stop_words = set(stopwords.words('nepali'))\n",
        "print(nepali_stop_words)\n",
        "other_characters = [',','।','–','‘’','()']\n",
        "\n",
        "filter_words = list(nepali_stop_words) + list(other_characters)\n",
        "print(filter_words)\n",
        "\n",
        "tokens = []\n",
        "for token in all_tokens:\n",
        "    if token not in filter_words:\n",
        "        tokens.append(token)\n",
        "print(len(tokens))\n",
        "\n",
        "\n",
        "# Calculate word frequencies\n",
        "freq_dist = FreqDist(tokens)\n",
        "\n",
        "# Print the top 10 most common words\n",
        "print(freq_dist.most_common(10))\n",
        "# Get the most common 10 words and their frequencies\n",
        "n = 10\n",
        "common_words = freq_dist.most_common(n)\n",
        "words, frequencies = zip(*common_words)\n",
        "\n",
        "# Create a bar chart\n",
        "plt.figure(figsize=(12, 6))\n",
        "plt.bar(words, frequencies)\n",
        "plt.xlabel('Words')\n",
        "plt.ylabel('Frequency')\n",
        "plt.title('Top {} Words Frequency'.format(n))\n",
        "plt.show()\n",
        "\n",
        "\n"
      ]
    },
    {
      "cell_type": "code",
      "execution_count": 37,
      "metadata": {
        "colab": {
          "base_uri": "https://localhost:8080/"
        },
        "id": "i48GmStrt1Rb",
        "outputId": "a7239dd5-e258-4cce-a344-f4b1274e4e3c"
      },
      "outputs": [
        {
          "name": "stdout",
          "output_type": "stream",
          "text": [
            "====================================\n",
            "Task 2.2: 2023-09-16 02:28:43.080888\n",
            "====================================\n"
          ]
        }
      ],
      "source": [
        "done('Task 2.2')"
      ]
    },
    {
      "cell_type": "markdown",
      "metadata": {
        "id": "vzB9KKCft1m4"
      },
      "source": [
        "## Task 3: BoW\n",
        "\n",
        "Task 3: BoW: Prepare Bag of Words (BoW) from the dataset\n"
      ]
    },
    {
      "cell_type": "code",
      "execution_count": 9,
      "metadata": {
        "id": "8QopY4_5t1m5"
      },
      "outputs": [],
      "source": [
        "from sklearn.feature_extraction.text import CountVectorizer\n",
        "\n",
        "# Function to join the list of words into a string, or replace with a space if empty\n",
        "def join_words(words):\n",
        "    if not words:\n",
        "        return ' '  # Replace with a space or any desired placeholder\n",
        "    else:\n",
        "        return ' '.join(words)\n",
        "\n",
        "# Apply the join_words function to your tokenized text\n",
        "df['text_no_stopwords'] = tokens.apply(remove_stop_words).apply(join_words)\n",
        "\n",
        "# Create a CountVectorizer object\n",
        "vectorizer = CountVectorizer()\n",
        "\n",
        "# Fit and transform the text data to create the BoW representation\n",
        "X_bow = vectorizer.fit_transform(df['text_no_stopwords'])\n",
        "\n",
        "# Convert the BoW representation to a DataFrame\n",
        "bow_df = pd.DataFrame(X_bow.toarray(), columns=vectorizer.get_feature_names_out())\n",
        "\n"
      ]
    },
    {
      "cell_type": "code",
      "execution_count": 10,
      "metadata": {
        "colab": {
          "base_uri": "https://localhost:8080/"
        },
        "id": "oMiG5F46t1m6",
        "outputId": "386395bb-d5a0-4835-806f-1c6a82bfbf6f"
      },
      "outputs": [
        {
          "name": "stdout",
          "output_type": "stream",
          "text": [
            "==================================\n",
            "Task 3: 2023-09-16 01:17:33.942718\n",
            "==================================\n"
          ]
        }
      ],
      "source": [
        "done('Task 3')"
      ]
    },
    {
      "cell_type": "markdown",
      "metadata": {
        "id": "kCtEg1LNt3CO"
      },
      "source": [
        "## Task 4: Classification\n",
        "\n",
        "Classify the news based on Keywords and BoW you computed in Task 3.1"
      ]
    },
    {
      "cell_type": "code",
      "execution_count": 11,
      "metadata": {
        "colab": {
          "base_uri": "https://localhost:8080/"
        },
        "id": "Jn6lGM75t3CP",
        "outputId": "4453946b-7665-4e77-f5f6-b00431f8d4d5"
      },
      "outputs": [
        {
          "name": "stdout",
          "output_type": "stream",
          "text": [
            "Accuracy: 1.0\n"
          ]
        }
      ],
      "source": [
        "from sklearn.model_selection import train_test_split\n",
        "from sklearn.naive_bayes import MultinomialNB\n",
        "from sklearn.metrics import accuracy_score\n",
        "\n",
        "# Split the dataset into training and testing sets\n",
        "X_train, X_test, y_train, y_test = train_test_split(bow_df, df['category'], test_size=0.2, random_state=42)\n",
        "\n",
        "# Create a Naive Bayes classifier\n",
        "clf = MultinomialNB()\n",
        "\n",
        "# Train the classifier on the training data\n",
        "clf.fit(X_train, y_train)\n",
        "\n",
        "# Predict the categories for the test data\n",
        "y_pred = clf.predict(X_test)\n",
        "\n",
        "# Calculate accuracy\n",
        "accuracy = accuracy_score(y_test, y_pred)\n",
        "print(\"Accuracy:\", accuracy)\n"
      ]
    },
    {
      "cell_type": "code",
      "execution_count": 12,
      "metadata": {
        "colab": {
          "base_uri": "https://localhost:8080/"
        },
        "id": "h8aRgsHVt3CQ",
        "outputId": "faf478a3-ef20-47b0-a115-1447195169d9"
      },
      "outputs": [
        {
          "name": "stdout",
          "output_type": "stream",
          "text": [
            "==================================\n",
            "Task 4: 2023-09-16 01:17:42.245789\n",
            "==================================\n"
          ]
        }
      ],
      "source": [
        "done('Task 4')"
      ]
    }
  ],
  "metadata": {
    "colab": {
      "provenance": []
    },
    "kernelspec": {
      "display_name": "Python 3",
      "name": "python3"
    },
    "language_info": {
      "codemirror_mode": {
        "name": "ipython",
        "version": 3
      },
      "file_extension": ".py",
      "mimetype": "text/x-python",
      "name": "python",
      "nbconvert_exporter": "python",
      "pygments_lexer": "ipython3",
      "version": "3.11.4"
    }
  },
  "nbformat": 4,
  "nbformat_minor": 0
}
