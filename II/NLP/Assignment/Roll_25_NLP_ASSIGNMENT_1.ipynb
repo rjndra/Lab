{
  "cells": [
    {
      "cell_type": "markdown",
      "metadata": {
        "id": "LnRKTrs9pd8O"
      },
      "source": [
        "# Assignment-1 Frequency Analysis and Bag of Words\n",
        "\n",
        "## Objective\n",
        "- Learn the keywords of NLP\n",
        "- Understand basic of NLP\n",
        "- Explore the Bag of words for basic analysis of text\n",
        "\n"
      ]
    },
    {
      "cell_type": "markdown",
      "metadata": {
        "id": "QkBBpsTNqQnD"
      },
      "source": [
        "## Your Details\n"
      ]
    },
    {
      "cell_type": "code",
      "execution_count": 1,
      "metadata": {
        "id": "BpF9fjJuqXBt"
      },
      "outputs": [],
      "source": [
        "import datetime\n",
        "\n",
        "student_rollno = 25\n",
        "student_name = 'Rajendra Karki'\n",
        "assignment_tag = 'MDS555-2023-Assignment-1'"
      ]
    },
    {
      "cell_type": "code",
      "execution_count": 2,
      "metadata": {
        "id": "oAyWHgZIr8Et"
      },
      "outputs": [],
      "source": [
        "# from checker_utils import done\n",
        "def done(task):\n",
        "    _date = datetime.datetime.now()\n",
        "    task = task + \": \" + str(_date)\n",
        "    print('='*len(task), '\\n', task , '\\n', '='*len(task), sep='')\n",
        "    pass"
      ]
    },
    {
      "cell_type": "markdown",
      "metadata": {
        "id": "LWnpPiiRp7QL"
      },
      "source": [
        "## Literature Review\n",
        "- Put your review of the literature related to Frequency analysis and bag of words\n",
        "- define terminologies used\n",
        "- put details of the library used\n",
        "\n"
      ]
    },
    {
      "cell_type": "markdown",
      "metadata": {
        "id": "B9bq4oXes_E-"
      },
      "source": [
        "## Task 1: Dataset Preparation:\n",
        "\n",
        "Prepare the Nepali news dataset *(hint: you can obtain text from news websites, at least 20 different news of 2/3 different categories)*. Host the dataset in the public git repository."
      ]
    },
    {
      "cell_type": "code",
      "execution_count": 3,
      "metadata": {
        "colab": {
          "base_uri": "https://localhost:8080/"
        },
        "id": "eJPOguP3pdg2",
        "outputId": "30719a68-9939-47e9-f25a-d6b81d683d3b"
      },
      "outputs": [
        {
          "data": {
            "text/html": [
              "<div>\n",
              "<style scoped>\n",
              "    .dataframe tbody tr th:only-of-type {\n",
              "        vertical-align: middle;\n",
              "    }\n",
              "\n",
              "    .dataframe tbody tr th {\n",
              "        vertical-align: top;\n",
              "    }\n",
              "\n",
              "    .dataframe thead th {\n",
              "        text-align: right;\n",
              "    }\n",
              "</style>\n",
              "<table border=\"1\" class=\"dataframe\">\n",
              "  <thead>\n",
              "    <tr style=\"text-align: right;\">\n",
              "      <th></th>\n",
              "      <th>Input</th>\n",
              "      <th>Category</th>\n",
              "    </tr>\n",
              "  </thead>\n",
              "  <tbody>\n",
              "    <tr>\n",
              "      <th>0</th>\n",
              "      <td>डलरको भाउ हालसम्मकै उच्च, किन बढिरहेको छ भाउ ?</td>\n",
              "      <td>business</td>\n",
              "    </tr>\n",
              "    <tr>\n",
              "      <th>1</th>\n",
              "      <td>१२ वर्षमा २८ हजार मेगावाट बिजुली उत्पादनको लक्ष्य</td>\n",
              "      <td>business</td>\n",
              "    </tr>\n",
              "    <tr>\n",
              "      <th>2</th>\n",
              "      <td>भूतप्रभावी करविरुद्ध १६ बैंक अदालतमा</td>\n",
              "      <td>business</td>\n",
              "    </tr>\n",
              "    <tr>\n",
              "      <th>3</th>\n",
              "      <td>तेस्रो देशका पर्यटकलाई भारतको ‘अघोषित नाकाबन्दी’</td>\n",
              "      <td>business</td>\n",
              "    </tr>\n",
              "    <tr>\n",
              "      <th>4</th>\n",
              "      <td>साउन र भदौमा सरकारले उठायो कुल १ खर्ब ४१ अर्ब ...</td>\n",
              "      <td>business</td>\n",
              "    </tr>\n",
              "  </tbody>\n",
              "</table>\n",
              "</div>"
            ],
            "text/plain": [
              "                                               Input  Category\n",
              "0    डलरको भाउ हालसम्मकै उच्च, किन बढिरहेको छ भाउ ?   business\n",
              "1  १२ वर्षमा २८ हजार मेगावाट बिजुली उत्पादनको लक्ष्य  business\n",
              "2               भूतप्रभावी करविरुद्ध १६ बैंक अदालतमा  business\n",
              "3   तेस्रो देशका पर्यटकलाई भारतको ‘अघोषित नाकाबन्दी’  business\n",
              "4  साउन र भदौमा सरकारले उठायो कुल १ खर्ब ४१ अर्ब ...  business"
            ]
          },
          "execution_count": 3,
          "metadata": {},
          "output_type": "execute_result"
        }
      ],
      "source": [
        "# Task 1: Dataset Preparation:\n",
        "import pandas as pd\n",
        "\n",
        "#Getting the data from github\n",
        "github_csv_url = 'https://raw.githubusercontent.com/rjndra/Lab/main/II/NLP/Assignment/nepali_news_dataset.csv'\n",
        "\n",
        "# Read the CSV file from GitHub into a DataFrame\n",
        "df = pd.read_csv(github_csv_url, encoding='utf-8')\n",
        "\n",
        "df.head()\n"
      ]
    },
    {
      "cell_type": "code",
      "execution_count": 8,
      "metadata": {
        "colab": {
          "base_uri": "https://localhost:8080/"
        },
        "id": "FV8206thpbmo",
        "outputId": "d46e2919-4946-4042-88f7-90fd292227fd"
      },
      "outputs": [
        {
          "name": "stdout",
          "output_type": "stream",
          "text": [
            "==================================\n",
            "Task 1: 2023-09-29 07:48:07.834283\n",
            "==================================\n"
          ]
        }
      ],
      "source": [
        "done('Task 1')"
      ]
    },
    {
      "cell_type": "markdown",
      "metadata": {
        "id": "zUE4li1lt1Aj"
      },
      "source": [
        "## Task  2.1: Frequency Analysis\n",
        "\n",
        "Perform the frequency analysis on the text collected"
      ]
    },
    {
      "cell_type": "code",
      "execution_count": 4,
      "metadata": {
        "colab": {
          "base_uri": "https://localhost:8080/",
          "height": 772
        },
        "id": "srs4zKYVt1Ao",
        "outputId": "6f8ec5eb-c23d-4440-a055-459bfa169755"
      },
      "outputs": [
        {
          "name": "stderr",
          "output_type": "stream",
          "text": [
            "[nltk_data] Downloading package punkt to\n",
            "[nltk_data]     /Users/rajendrakarki/nltk_data...\n",
            "[nltk_data]   Package punkt is already up-to-date!\n"
          ]
        },
        {
          "ename": "KeyError",
          "evalue": "'text'",
          "output_type": "error",
          "traceback": [
            "\u001b[0;31m---------------------------------------------------------------------------\u001b[0m",
            "\u001b[0;31mKeyError\u001b[0m                                  Traceback (most recent call last)",
            "File \u001b[0;32m~/opt/anaconda3/envs/py3.11/lib/python3.11/site-packages/pandas/core/indexes/base.py:3653\u001b[0m, in \u001b[0;36mIndex.get_loc\u001b[0;34m(self, key)\u001b[0m\n\u001b[1;32m   3652\u001b[0m \u001b[39mtry\u001b[39;00m:\n\u001b[0;32m-> 3653\u001b[0m     \u001b[39mreturn\u001b[39;00m \u001b[39mself\u001b[39;49m\u001b[39m.\u001b[39;49m_engine\u001b[39m.\u001b[39;49mget_loc(casted_key)\n\u001b[1;32m   3654\u001b[0m \u001b[39mexcept\u001b[39;00m \u001b[39mKeyError\u001b[39;00m \u001b[39mas\u001b[39;00m err:\n",
            "File \u001b[0;32m~/opt/anaconda3/envs/py3.11/lib/python3.11/site-packages/pandas/_libs/index.pyx:147\u001b[0m, in \u001b[0;36mpandas._libs.index.IndexEngine.get_loc\u001b[0;34m()\u001b[0m\n",
            "File \u001b[0;32m~/opt/anaconda3/envs/py3.11/lib/python3.11/site-packages/pandas/_libs/index.pyx:176\u001b[0m, in \u001b[0;36mpandas._libs.index.IndexEngine.get_loc\u001b[0;34m()\u001b[0m\n",
            "File \u001b[0;32mpandas/_libs/hashtable_class_helper.pxi:7080\u001b[0m, in \u001b[0;36mpandas._libs.hashtable.PyObjectHashTable.get_item\u001b[0;34m()\u001b[0m\n",
            "File \u001b[0;32mpandas/_libs/hashtable_class_helper.pxi:7088\u001b[0m, in \u001b[0;36mpandas._libs.hashtable.PyObjectHashTable.get_item\u001b[0;34m()\u001b[0m\n",
            "\u001b[0;31mKeyError\u001b[0m: 'text'",
            "\nThe above exception was the direct cause of the following exception:\n",
            "\u001b[0;31mKeyError\u001b[0m                                  Traceback (most recent call last)",
            "\u001b[1;32m/Users/rajendrakarki/Workspace/Lab/II/NLP/Assignment/Roll_25_NLP_ASSIGNMENT_1.ipynb Cell 10\u001b[0m line \u001b[0;36m9\n\u001b[1;32m      <a href='vscode-notebook-cell:/Users/rajendrakarki/Workspace/Lab/II/NLP/Assignment/Roll_25_NLP_ASSIGNMENT_1.ipynb#X12sZmlsZQ%3D%3D?line=5'>6</a>\u001b[0m nltk\u001b[39m.\u001b[39mdownload(\u001b[39m'\u001b[39m\u001b[39mpunkt\u001b[39m\u001b[39m'\u001b[39m)\n\u001b[1;32m      <a href='vscode-notebook-cell:/Users/rajendrakarki/Workspace/Lab/II/NLP/Assignment/Roll_25_NLP_ASSIGNMENT_1.ipynb#X12sZmlsZQ%3D%3D?line=7'>8</a>\u001b[0m \u001b[39m# Tokenize the text\u001b[39;00m\n\u001b[0;32m----> <a href='vscode-notebook-cell:/Users/rajendrakarki/Workspace/Lab/II/NLP/Assignment/Roll_25_NLP_ASSIGNMENT_1.ipynb#X12sZmlsZQ%3D%3D?line=8'>9</a>\u001b[0m tokens \u001b[39m=\u001b[39m df[\u001b[39m'\u001b[39;49m\u001b[39mtext\u001b[39;49m\u001b[39m'\u001b[39;49m]\u001b[39m.\u001b[39mapply(nltk\u001b[39m.\u001b[39mword_tokenize)\n\u001b[1;32m     <a href='vscode-notebook-cell:/Users/rajendrakarki/Workspace/Lab/II/NLP/Assignment/Roll_25_NLP_ASSIGNMENT_1.ipynb#X12sZmlsZQ%3D%3D?line=10'>11</a>\u001b[0m \u001b[39m# Flatten the list of tokens\u001b[39;00m\n\u001b[1;32m     <a href='vscode-notebook-cell:/Users/rajendrakarki/Workspace/Lab/II/NLP/Assignment/Roll_25_NLP_ASSIGNMENT_1.ipynb#X12sZmlsZQ%3D%3D?line=11'>12</a>\u001b[0m all_tokens \u001b[39m=\u001b[39m [token \u001b[39mfor\u001b[39;00m sublist \u001b[39min\u001b[39;00m tokens \u001b[39mfor\u001b[39;00m token \u001b[39min\u001b[39;00m sublist]\n",
            "File \u001b[0;32m~/opt/anaconda3/envs/py3.11/lib/python3.11/site-packages/pandas/core/frame.py:3761\u001b[0m, in \u001b[0;36mDataFrame.__getitem__\u001b[0;34m(self, key)\u001b[0m\n\u001b[1;32m   3759\u001b[0m \u001b[39mif\u001b[39;00m \u001b[39mself\u001b[39m\u001b[39m.\u001b[39mcolumns\u001b[39m.\u001b[39mnlevels \u001b[39m>\u001b[39m \u001b[39m1\u001b[39m:\n\u001b[1;32m   3760\u001b[0m     \u001b[39mreturn\u001b[39;00m \u001b[39mself\u001b[39m\u001b[39m.\u001b[39m_getitem_multilevel(key)\n\u001b[0;32m-> 3761\u001b[0m indexer \u001b[39m=\u001b[39m \u001b[39mself\u001b[39;49m\u001b[39m.\u001b[39;49mcolumns\u001b[39m.\u001b[39;49mget_loc(key)\n\u001b[1;32m   3762\u001b[0m \u001b[39mif\u001b[39;00m is_integer(indexer):\n\u001b[1;32m   3763\u001b[0m     indexer \u001b[39m=\u001b[39m [indexer]\n",
            "File \u001b[0;32m~/opt/anaconda3/envs/py3.11/lib/python3.11/site-packages/pandas/core/indexes/base.py:3655\u001b[0m, in \u001b[0;36mIndex.get_loc\u001b[0;34m(self, key)\u001b[0m\n\u001b[1;32m   3653\u001b[0m     \u001b[39mreturn\u001b[39;00m \u001b[39mself\u001b[39m\u001b[39m.\u001b[39m_engine\u001b[39m.\u001b[39mget_loc(casted_key)\n\u001b[1;32m   3654\u001b[0m \u001b[39mexcept\u001b[39;00m \u001b[39mKeyError\u001b[39;00m \u001b[39mas\u001b[39;00m err:\n\u001b[0;32m-> 3655\u001b[0m     \u001b[39mraise\u001b[39;00m \u001b[39mKeyError\u001b[39;00m(key) \u001b[39mfrom\u001b[39;00m \u001b[39merr\u001b[39;00m\n\u001b[1;32m   3656\u001b[0m \u001b[39mexcept\u001b[39;00m \u001b[39mTypeError\u001b[39;00m:\n\u001b[1;32m   3657\u001b[0m     \u001b[39m# If we have a listlike key, _check_indexing_error will raise\u001b[39;00m\n\u001b[1;32m   3658\u001b[0m     \u001b[39m#  InvalidIndexError. Otherwise we fall through and re-raise\u001b[39;00m\n\u001b[1;32m   3659\u001b[0m     \u001b[39m#  the TypeError.\u001b[39;00m\n\u001b[1;32m   3660\u001b[0m     \u001b[39mself\u001b[39m\u001b[39m.\u001b[39m_check_indexing_error(key)\n",
            "\u001b[0;31mKeyError\u001b[0m: 'text'"
          ]
        }
      ],
      "source": [
        "# Task 2.1: Frequency Analysis\n",
        "import matplotlib.pyplot as plt\n",
        "import nltk\n",
        "from nltk import FreqDist\n",
        "\n",
        "nltk.download('punkt')\n",
        "\n",
        "# Tokenize the text\n",
        "tokens = df['text'].apply(nltk.word_tokenize)\n",
        "\n",
        "# Flatten the list of tokens\n",
        "all_tokens = [token for sublist in tokens for token in sublist]\n",
        "\n",
        "print(len(all_tokens))\n",
        "\n",
        "# Calculate word frequencies\n",
        "freq_dist = FreqDist(all_tokens)\n",
        "\n",
        "# Print the top 10 most common words\n",
        "print(freq_dist.most_common(10))\n",
        "# Get the most common 10 words and their frequencies\n",
        "n = 10\n",
        "common_words = freq_dist.most_common(n)\n",
        "words, frequencies = zip(*common_words)\n",
        "\n",
        "# Create a bar chart\n",
        "plt.figure(figsize=(12, 6))\n",
        "plt.bar(words, frequencies)\n",
        "plt.xlabel('Words')\n",
        "plt.ylabel('Frequency')\n",
        "plt.title('Top {} Words Frequency'.format(n))\n",
        "plt.show()\n",
        "\n"
      ]
    },
    {
      "cell_type": "code",
      "execution_count": null,
      "metadata": {
        "colab": {
          "base_uri": "https://localhost:8080/"
        },
        "id": "A8cv8IuTt1Ap",
        "outputId": "aeab09f2-f388-49f4-ae4d-cc53c6d46121"
      },
      "outputs": [
        {
          "name": "stdout",
          "output_type": "stream",
          "text": [
            "====================================\n",
            "Task 2.1: 2023-09-16 02:22:02.759167\n",
            "====================================\n"
          ]
        }
      ],
      "source": [
        "done('Task 2.1')"
      ]
    },
    {
      "cell_type": "markdown",
      "metadata": {
        "id": "Q1h3Hpzit1RZ"
      },
      "source": [
        "## Task  2.2: Filter Stop words\n",
        "\n",
        "Improve Performance analysis by filtering stop words (you can also develop rule based )\n"
      ]
    },
    {
      "cell_type": "code",
      "execution_count": null,
      "metadata": {
        "colab": {
          "base_uri": "https://localhost:8080/",
          "height": 1000
        },
        "id": "bwjPTC2Ht1Rb",
        "outputId": "64587566-1c35-4924-ae3c-9bc3654e5dbc"
      },
      "outputs": [
        {
          "name": "stderr",
          "output_type": "stream",
          "text": [
            "[nltk_data] Downloading package stopwords to /root/nltk_data...\n",
            "[nltk_data]   Package stopwords is already up-to-date!\n",
            "/usr/local/lib/python3.10/dist-packages/IPython/core/pylabtools.py:151: UserWarning: Glyph 2346 (\\N{DEVANAGARI LETTER PA}) missing from current font.\n",
            "  fig.canvas.print_figure(bytes_io, **kw)\n",
            "/usr/local/lib/python3.10/dist-packages/IPython/core/pylabtools.py:151: UserWarning: Matplotlib currently does not support Devanagari natively.\n",
            "  fig.canvas.print_figure(bytes_io, **kw)\n",
            "/usr/local/lib/python3.10/dist-packages/IPython/core/pylabtools.py:151: UserWarning: Glyph 2381 (\\N{DEVANAGARI SIGN VIRAMA}) missing from current font.\n",
            "  fig.canvas.print_figure(bytes_io, **kw)\n",
            "/usr/local/lib/python3.10/dist-packages/IPython/core/pylabtools.py:151: UserWarning: Glyph 2352 (\\N{DEVANAGARI LETTER RA}) missing from current font.\n",
            "  fig.canvas.print_figure(bytes_io, **kw)\n",
            "/usr/local/lib/python3.10/dist-packages/IPython/core/pylabtools.py:151: UserWarning: Glyph 2343 (\\N{DEVANAGARI LETTER DHA}) missing from current font.\n",
            "  fig.canvas.print_figure(bytes_io, **kw)\n",
            "/usr/local/lib/python3.10/dist-packages/IPython/core/pylabtools.py:151: UserWarning: Glyph 2366 (\\N{DEVANAGARI VOWEL SIGN AA}) missing from current font.\n",
            "  fig.canvas.print_figure(bytes_io, **kw)\n",
            "/usr/local/lib/python3.10/dist-packages/IPython/core/pylabtools.py:151: UserWarning: Glyph 2344 (\\N{DEVANAGARI LETTER NA}) missing from current font.\n",
            "  fig.canvas.print_figure(bytes_io, **kw)\n",
            "/usr/local/lib/python3.10/dist-packages/IPython/core/pylabtools.py:151: UserWarning: Glyph 2350 (\\N{DEVANAGARI LETTER MA}) missing from current font.\n",
            "  fig.canvas.print_figure(bytes_io, **kw)\n",
            "/usr/local/lib/python3.10/dist-packages/IPython/core/pylabtools.py:151: UserWarning: Glyph 2340 (\\N{DEVANAGARI LETTER TA}) missing from current font.\n",
            "  fig.canvas.print_figure(bytes_io, **kw)\n",
            "/usr/local/lib/python3.10/dist-packages/IPython/core/pylabtools.py:151: UserWarning: Glyph 2368 (\\N{DEVANAGARI VOWEL SIGN II}) missing from current font.\n",
            "  fig.canvas.print_figure(bytes_io, **kw)\n",
            "/usr/local/lib/python3.10/dist-packages/IPython/core/pylabtools.py:151: UserWarning: Glyph 2326 (\\N{DEVANAGARI LETTER KHA}) missing from current font.\n",
            "  fig.canvas.print_figure(bytes_io, **kw)\n",
            "/usr/local/lib/python3.10/dist-packages/IPython/core/pylabtools.py:151: UserWarning: Glyph 2375 (\\N{DEVANAGARI VOWEL SIGN E}) missing from current font.\n",
            "  fig.canvas.print_figure(bytes_io, **kw)\n",
            "/usr/local/lib/python3.10/dist-packages/IPython/core/pylabtools.py:151: UserWarning: Glyph 2354 (\\N{DEVANAGARI LETTER LA}) missing from current font.\n",
            "  fig.canvas.print_figure(bytes_io, **kw)\n",
            "/usr/local/lib/python3.10/dist-packages/IPython/core/pylabtools.py:151: UserWarning: Glyph 2325 (\\N{DEVANAGARI LETTER KA}) missing from current font.\n",
            "  fig.canvas.print_figure(bytes_io, **kw)\n",
            "/usr/local/lib/python3.10/dist-packages/IPython/core/pylabtools.py:151: UserWarning: Glyph 2369 (\\N{DEVANAGARI VOWEL SIGN U}) missing from current font.\n",
            "  fig.canvas.print_figure(bytes_io, **kw)\n",
            "/usr/local/lib/python3.10/dist-packages/IPython/core/pylabtools.py:151: UserWarning: Glyph 2342 (\\N{DEVANAGARI LETTER DA}) missing from current font.\n",
            "  fig.canvas.print_figure(bytes_io, **kw)\n",
            "/usr/local/lib/python3.10/dist-packages/IPython/core/pylabtools.py:151: UserWarning: Glyph 2310 (\\N{DEVANAGARI LETTER AA}) missing from current font.\n",
            "  fig.canvas.print_figure(bytes_io, **kw)\n",
            "/usr/local/lib/python3.10/dist-packages/IPython/core/pylabtools.py:151: UserWarning: Glyph 2351 (\\N{DEVANAGARI LETTER YA}) missing from current font.\n",
            "  fig.canvas.print_figure(bytes_io, **kw)\n",
            "/usr/local/lib/python3.10/dist-packages/IPython/core/pylabtools.py:151: UserWarning: Glyph 2379 (\\N{DEVANAGARI VOWEL SIGN O}) missing from current font.\n",
            "  fig.canvas.print_figure(bytes_io, **kw)\n",
            "/usr/local/lib/python3.10/dist-packages/IPython/core/pylabtools.py:151: UserWarning: Glyph 2327 (\\N{DEVANAGARI LETTER GA}) missing from current font.\n",
            "  fig.canvas.print_figure(bytes_io, **kw)\n",
            "/usr/local/lib/python3.10/dist-packages/IPython/core/pylabtools.py:151: UserWarning: Glyph 2335 (\\N{DEVANAGARI LETTER TTA}) missing from current font.\n",
            "  fig.canvas.print_figure(bytes_io, **kw)\n",
            "/usr/local/lib/python3.10/dist-packages/IPython/core/pylabtools.py:151: UserWarning: Glyph 2367 (\\N{DEVANAGARI VOWEL SIGN I}) missing from current font.\n",
            "  fig.canvas.print_figure(bytes_io, **kw)\n"
          ]
        },
        {
          "name": "stdout",
          "output_type": "stream",
          "text": [
            "{'अरु', 'पर्छ', 'सो', 'यस्तो', 'यसो', 'थिएन', 'बीच', 'पहिलो', 'दिए', 'पहिल्यै', 'पछि', 'अर्थात', 'कुनै', 'अक्सर', 'आफूलाई', 'तपाई', 'फेरी', 'भन', 'जुन', 'नयाँ', 'यसरी', 'मेरो', 'देखि', 'भने', 'चाहिए', 'अन्यथा', 'र', 'का', 'कसरी', 'जताततै', 'धेरै', 'निर्दिष्ट', 'जो', 'सम्म', 'बने', 'निम्न', 'दुई', 'छु', 'चाले', 'पर्थ्यो', 'जहाँ', 'जब', 'गयौ', 'स्पष्ट', 'कसै', 'जबकि', 'भन्', 'प्लस', 'किन', 'पक्कै', 'गर्छु', 'जसलाई', 'मुख्य', 'दोस्रो', 'प्रति', 'यसबाहेक', 'हुने', 'यो', 'समय', 'अरुलाई', 'तत्काल', 'देखेर', 'निम्नानुसार', 'चाहनुहुन्छ', 'यहाँसम्म', 'को', 'तथा', 'तापनी', 'कोही', 'एउटै', 'हुन्', 'पनि', 'थियो', 'अगाडी', 'ओठ', 'यसपछि', 'हरेक', 'अलग', 'यति', 'अन्तर्गत', 'आफू', 'सम्भव', 'यस', 'तेस्कारण', 'सबैलाई', 'भित्री', 'साथै', 'कतै', 'चाहन्छु', 'त्सैले', 'शायद', 'आए', 'नत्र', 'गरेर', 'गर्ने', 'लगभग', 'कसैले', 'तीन', 'दिनुहुन्छ', 'गर्न', 'छू', 'भएको', 'तल', 'यदि', 'सक्छ', 'वास्तवमा', 'भन्छन्', 'बरु', 'गरेका', 'त्सपछि', 'प्रतेक', 'अर्को', 'सायद', 'एकदम', 'तपाईको', 'उप', 'पक्का', 'वरीपरी', 'जस्तोसुकै', 'पर्याप्त', 'उनको', 'भन्नुभयो', 'तुरुन्तै', 'उहालाई', 'सधै', 'भन्ने', 'नै', 'अन्यत्र', 'तदनुसार', 'साथ', 'माथि', 'गैर', 'पहिले', 'आफ्नै', 'कहाँबाट', 'पटक', 'गर्दै', 'हरे', 'आफ्नो', 'अब', 'गरौं', 'नौ', 'जसमा', 'गरेको', 'तेस्रो', 'नजिकै', 'गए', 'ती', 'उदाहरण', 'क्रमशः', 'जसबाट', 'आत्म', 'छ', 'मा', 'पूर्व', 'मलाई', 'अनुसार', 'अझै', 'के', 'देखेको', 'जसको', 'भन्दा', 'सबै', 'तिनिहरुलाई', 'देखियो', 'छैन', 'कुरा', 'चार', 'सही', 'तिनी', 'थिए', 'कहिलेकाहीं', 'जान', 'यी', 'गरि', 'रूप', 'तर', 'यद्यपि', 'छौं', 'जस्तो', 'पाँचौं', 'पछिल्लो', 'बीचमा', 'आजको', 'केही', 'देखिन्छ', 'त्यहाँ', 'सारा', 'रहेको', 'बारे', 'भन्छु', 'राम्रो', 'सट्टा', 'कि', 'गर्नुपर्छ', 'राखे', 'सात', 'लाई', 'अर्थात्', 'नि', 'औं', 'हुन्छ', 'देखे', 'भित्र', 'मात्र', 'उनले', 'दिनुभएको', 'बिरुद्ध', 'या', 'यथोचित', 'यसको', 'अन्य', 'कृपया', 'पाँच', 'रहेका', 'जस्तै', 'बिशेष', 'हो', 'किनभने', 'भए', 'संग', 'एक', 'आदि', 'तिर', 'रही', 'गर्नु', 'ले', 'छन्', 'तिनीहरू', 'निम्ति', 'संगै', 'तिनीहरुको', 'यहाँ', 'त्यो', 'गरी', 'ठीक', 'राख्छ', 'जाहिर', 'म', 'हुन', 'गर्छ', 'तिमी', 'न', 'जे', 'आयो', 'सोही', 'बाहेक', 'जसले', 'त', 'भर', 'बाहिर', 'लागि', 'कम से कम', 'साँच्चै'}\n",
            "['अरु', 'पर्छ', 'सो', 'यस्तो', 'यसो', 'थिएन', 'बीच', 'पहिलो', 'दिए', 'पहिल्यै', 'पछि', 'अर्थात', 'कुनै', 'अक्सर', 'आफूलाई', 'तपाई', 'फेरी', 'भन', 'जुन', 'नयाँ', 'यसरी', 'मेरो', 'देखि', 'भने', 'चाहिए', 'अन्यथा', 'र', 'का', 'कसरी', 'जताततै', 'धेरै', 'निर्दिष्ट', 'जो', 'सम्म', 'बने', 'निम्न', 'दुई', 'छु', 'चाले', 'पर्थ्यो', 'जहाँ', 'जब', 'गयौ', 'स्पष्ट', 'कसै', 'जबकि', 'भन्', 'प्लस', 'किन', 'पक्कै', 'गर्छु', 'जसलाई', 'मुख्य', 'दोस्रो', 'प्रति', 'यसबाहेक', 'हुने', 'यो', 'समय', 'अरुलाई', 'तत्काल', 'देखेर', 'निम्नानुसार', 'चाहनुहुन्छ', 'यहाँसम्म', 'को', 'तथा', 'तापनी', 'कोही', 'एउटै', 'हुन्', 'पनि', 'थियो', 'अगाडी', 'ओठ', 'यसपछि', 'हरेक', 'अलग', 'यति', 'अन्तर्गत', 'आफू', 'सम्भव', 'यस', 'तेस्कारण', 'सबैलाई', 'भित्री', 'साथै', 'कतै', 'चाहन्छु', 'त्सैले', 'शायद', 'आए', 'नत्र', 'गरेर', 'गर्ने', 'लगभग', 'कसैले', 'तीन', 'दिनुहुन्छ', 'गर्न', 'छू', 'भएको', 'तल', 'यदि', 'सक्छ', 'वास्तवमा', 'भन्छन्', 'बरु', 'गरेका', 'त्सपछि', 'प्रतेक', 'अर्को', 'सायद', 'एकदम', 'तपाईको', 'उप', 'पक्का', 'वरीपरी', 'जस्तोसुकै', 'पर्याप्त', 'उनको', 'भन्नुभयो', 'तुरुन्तै', 'उहालाई', 'सधै', 'भन्ने', 'नै', 'अन्यत्र', 'तदनुसार', 'साथ', 'माथि', 'गैर', 'पहिले', 'आफ्नै', 'कहाँबाट', 'पटक', 'गर्दै', 'हरे', 'आफ्नो', 'अब', 'गरौं', 'नौ', 'जसमा', 'गरेको', 'तेस्रो', 'नजिकै', 'गए', 'ती', 'उदाहरण', 'क्रमशः', 'जसबाट', 'आत्म', 'छ', 'मा', 'पूर्व', 'मलाई', 'अनुसार', 'अझै', 'के', 'देखेको', 'जसको', 'भन्दा', 'सबै', 'तिनिहरुलाई', 'देखियो', 'छैन', 'कुरा', 'चार', 'सही', 'तिनी', 'थिए', 'कहिलेकाहीं', 'जान', 'यी', 'गरि', 'रूप', 'तर', 'यद्यपि', 'छौं', 'जस्तो', 'पाँचौं', 'पछिल्लो', 'बीचमा', 'आजको', 'केही', 'देखिन्छ', 'त्यहाँ', 'सारा', 'रहेको', 'बारे', 'भन्छु', 'राम्रो', 'सट्टा', 'कि', 'गर्नुपर्छ', 'राखे', 'सात', 'लाई', 'अर्थात्', 'नि', 'औं', 'हुन्छ', 'देखे', 'भित्र', 'मात्र', 'उनले', 'दिनुभएको', 'बिरुद्ध', 'या', 'यथोचित', 'यसको', 'अन्य', 'कृपया', 'पाँच', 'रहेका', 'जस्तै', 'बिशेष', 'हो', 'किनभने', 'भए', 'संग', 'एक', 'आदि', 'तिर', 'रही', 'गर्नु', 'ले', 'छन्', 'तिनीहरू', 'निम्ति', 'संगै', 'तिनीहरुको', 'यहाँ', 'त्यो', 'गरी', 'ठीक', 'राख्छ', 'जाहिर', 'म', 'हुन', 'गर्छ', 'तिमी', 'न', 'जे', 'आयो', 'सोही', 'बाहेक', 'जसले', 'त', 'भर', 'बाहिर', 'लागि', 'कम से कम', 'साँच्चै', ',', '।', '–', '‘’', '()']\n",
            "590\n",
            "[('प्रधानमन्त्री', 6), ('खेलकुद', 6), ('आयोग', 5), ('पार्टीका', 5), ('प्रतिनिधि', 5), ('प्रतियोगितामा', 5), ('छानबिन', 4), ('पारित', 4), ('अध्यक्ष', 4), ('केन्द्रीय', 4)]\n"
          ]
        },
        {
          "name": "stderr",
          "output_type": "stream",
          "text": [
            "/usr/local/lib/python3.10/dist-packages/IPython/core/pylabtools.py:151: UserWarning: Glyph 2331 (\\N{DEVANAGARI LETTER CHA}) missing from current font.\n",
            "  fig.canvas.print_figure(bytes_io, **kw)\n",
            "/usr/local/lib/python3.10/dist-packages/IPython/core/pylabtools.py:151: UserWarning: Glyph 2348 (\\N{DEVANAGARI LETTER BA}) missing from current font.\n",
            "  fig.canvas.print_figure(bytes_io, **kw)\n",
            "/usr/local/lib/python3.10/dist-packages/IPython/core/pylabtools.py:151: UserWarning: Glyph 2309 (\\N{DEVANAGARI LETTER A}) missing from current font.\n",
            "  fig.canvas.print_figure(bytes_io, **kw)\n",
            "/usr/local/lib/python3.10/dist-packages/IPython/core/pylabtools.py:151: UserWarning: Glyph 2359 (\\N{DEVANAGARI LETTER SSA}) missing from current font.\n",
            "  fig.canvas.print_figure(bytes_io, **kw)\n"
          ]
        },
        {
          "data": {
            "image/png": "[encoded data removed]",
            "text/plain": [
              "<Figure size 1200x600 with 1 Axes>"
            ]
          },
          "metadata": {},
          "output_type": "display_data"
        }
      ],
      "source": [
        "nltk.download('stopwords')\n",
        "from nltk.corpus import stopwords\n",
        "\n",
        "# Load the list of Nepali stop words\n",
        "nepali_stop_words = set(stopwords.words('nepali'))\n",
        "print(nepali_stop_words)\n",
        "other_characters = [',','।','–','‘’','()']\n",
        "\n",
        "filter_words = list(nepali_stop_words) + list(other_characters)\n",
        "print(filter_words)\n",
        "\n",
        "tokens = []\n",
        "for token in all_tokens:\n",
        "    if token not in filter_words:\n",
        "        tokens.append(token)\n",
        "print(len(tokens))\n",
        "\n",
        "\n",
        "# Calculate word frequencies\n",
        "freq_dist = FreqDist(tokens)\n",
        "\n",
        "# Print the top 10 most common words\n",
        "print(freq_dist.most_common(10))\n",
        "# Get the most common 10 words and their frequencies\n",
        "n = 10\n",
        "common_words = freq_dist.most_common(n)\n",
        "words, frequencies = zip(*common_words)\n",
        "\n",
        "# Create a bar chart\n",
        "plt.figure(figsize=(12, 6))\n",
        "plt.bar(words, frequencies)\n",
        "plt.xlabel('Words')\n",
        "plt.ylabel('Frequency')\n",
        "plt.title('Top {} Words Frequency'.format(n))\n",
        "plt.show()\n",
        "\n",
        "\n"
      ]
    },
    {
      "cell_type": "code",
      "execution_count": null,
      "metadata": {
        "colab": {
          "base_uri": "https://localhost:8080/"
        },
        "id": "i48GmStrt1Rb",
        "outputId": "a7239dd5-e258-4cce-a344-f4b1274e4e3c"
      },
      "outputs": [
        {
          "name": "stdout",
          "output_type": "stream",
          "text": [
            "====================================\n",
            "Task 2.2: 2023-09-16 02:28:43.080888\n",
            "====================================\n"
          ]
        }
      ],
      "source": [
        "done('Task 2.2')"
      ]
    },
    {
      "cell_type": "markdown",
      "metadata": {
        "id": "vzB9KKCft1m4"
      },
      "source": [
        "## Task 3: BoW\n",
        "\n",
        "Task 3: BoW: Prepare Bag of Words (BoW) from the dataset\n"
      ]
    },
    {
      "cell_type": "code",
      "execution_count": null,
      "metadata": {
        "id": "8QopY4_5t1m5"
      },
      "outputs": [],
      "source": [
        "from sklearn.feature_extraction.text import CountVectorizer\n",
        "\n",
        "# Function to join the list of words into a string, or replace with a space if empty\n",
        "def join_words(words):\n",
        "    if not words:\n",
        "        return ' '  # Replace with a space or any desired placeholder\n",
        "    else:\n",
        "        return ' '.join(words)\n",
        "\n",
        "# Apply the join_words function to your tokenized text\n",
        "df['text_no_stopwords'] = tokens.apply(remove_stop_words).apply(join_words)\n",
        "\n",
        "# Create a CountVectorizer object\n",
        "vectorizer = CountVectorizer()\n",
        "\n",
        "# Fit and transform the text data to create the BoW representation\n",
        "X_bow = vectorizer.fit_transform(df['text_no_stopwords'])\n",
        "\n",
        "# Convert the BoW representation to a DataFrame\n",
        "bow_df = pd.DataFrame(X_bow.toarray(), columns=vectorizer.get_feature_names_out())\n",
        "\n"
      ]
    },
    {
      "cell_type": "code",
      "execution_count": null,
      "metadata": {
        "colab": {
          "base_uri": "https://localhost:8080/"
        },
        "id": "oMiG5F46t1m6",
        "outputId": "386395bb-d5a0-4835-806f-1c6a82bfbf6f"
      },
      "outputs": [
        {
          "name": "stdout",
          "output_type": "stream",
          "text": [
            "==================================\n",
            "Task 3: 2023-09-16 01:17:33.942718\n",
            "==================================\n"
          ]
        }
      ],
      "source": [
        "done('Task 3')"
      ]
    },
    {
      "cell_type": "markdown",
      "metadata": {
        "id": "kCtEg1LNt3CO"
      },
      "source": [
        "## Task 4: Classification\n",
        "\n",
        "Classify the news based on Keywords and BoW you computed in Task 3.1"
      ]
    },
    {
      "cell_type": "code",
      "execution_count": null,
      "metadata": {
        "colab": {
          "base_uri": "https://localhost:8080/"
        },
        "id": "Jn6lGM75t3CP",
        "outputId": "4453946b-7665-4e77-f5f6-b00431f8d4d5"
      },
      "outputs": [
        {
          "name": "stdout",
          "output_type": "stream",
          "text": [
            "Accuracy: 1.0\n"
          ]
        }
      ],
      "source": [
        "from sklearn.model_selection import train_test_split\n",
        "from sklearn.naive_bayes import MultinomialNB\n",
        "from sklearn.metrics import accuracy_score\n",
        "\n",
        "# Split the dataset into training and testing sets\n",
        "X_train, X_test, y_train, y_test = train_test_split(bow_df, df['category'], test_size=0.2, random_state=42)\n",
        "\n",
        "# Create a Naive Bayes classifier\n",
        "clf = MultinomialNB()\n",
        "\n",
        "# Train the classifier on the training data\n",
        "clf.fit(X_train, y_train)\n",
        "\n",
        "# Predict the categories for the test data\n",
        "y_pred = clf.predict(X_test)\n",
        "\n",
        "# Calculate accuracy\n",
        "accuracy = accuracy_score(y_test, y_pred)\n",
        "print(\"Accuracy:\", accuracy)\n"
      ]
    },
    {
      "cell_type": "code",
      "execution_count": null,
      "metadata": {
        "colab": {
          "base_uri": "https://localhost:8080/"
        },
        "id": "h8aRgsHVt3CQ",
        "outputId": "faf478a3-ef20-47b0-a115-1447195169d9"
      },
      "outputs": [
        {
          "name": "stdout",
          "output_type": "stream",
          "text": [
            "==================================\n",
            "Task 4: 2023-09-16 01:17:42.245789\n",
            "==================================\n"
          ]
        }
      ],
      "source": [
        "done('Task 4')"
      ]
    }
  ],
  "metadata": {
    "colab": {
      "provenance": []
    },
    "kernelspec": {
      "display_name": "Python 3",
      "name": "python3"
    },
    "language_info": {
      "codemirror_mode": {
        "name": "ipython",
        "version": 3
      },
      "file_extension": ".py",
      "mimetype": "text/x-python",
      "name": "python",
      "nbconvert_exporter": "python",
      "pygments_lexer": "ipython3",
      "version": "3.11.4"
    }
  },
  "nbformat": 4,
  "nbformat_minor": 0
}
