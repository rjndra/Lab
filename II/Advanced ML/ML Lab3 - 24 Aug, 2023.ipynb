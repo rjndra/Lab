{
 "cells": [
  {
   "cell_type": "code",
   "execution_count": 17,
   "metadata": {},
   "outputs": [],
   "source": [
    "import numpy as np\n",
    "import pandas as pd\n",
    "\n",
    "SEED = 25\n",
    "\n",
    "np.random.seed(SEED)\n",
    "\n",
    "class LogistisRegression:\n",
    "    '''\n",
    "        This is the scratch implemenation of logistic Regression\n",
    "    '''\n",
    "\n",
    "    def __init__(self, X, y):\n",
    "        self.param = {}\n",
    "        self.m , self.n = X.shape\n",
    "        self.param['W'] = np.random.random(self.n, 1) * 0.001\n",
    "        self.param['b'] = np.zeros(1)\n",
    "        \n",
    "        self.X = X\n",
    "        self.y = y\n",
    "\n",
    "        self.result = pd.DataFrame()\n",
    "\n",
    "    def train(self, alpha = 0.001, epochs = 10):\n",
    "        for epoch in range(epochs):\n",
    "            print(\"Epoch: \" , epoch, end=\"\")\n",
    "            z = np.dot(self.X, self.param[\"W\"]) + self.param['b']\n",
    "            self.y_pred = self.sigmoid(z)\n",
    "            self.result[0] = self.y\n",
    "\n",
    "            # update the paramters\n",
    "            self.param[\"W\"] = (self.param[\"W\"] - \n",
    "                               alpha * 1/self.m * \n",
    "                               np.dot(self.X.transpose(), (self.y_pred - np.reshape(self.y, (self.m, 1)))))\n",
    "            self.param['b'] = (self.param['b'] - \n",
    "                               alpha * 1/ self.m * \n",
    "                               np.sum(self.y_pred - np.reshape(self.y, (self.m, 1))))\n",
    "            \n",
    "            self.y_pred = self.sigmoid(np.dot(self.X, self.param['W']) + self.param['b'])\n",
    "\n",
    "\n",
    "            loss = self.loss(self.y, self.y_pred)\n",
    "\n",
    "            self.result[1] = self.y_pred\n",
    "            print(\", loss = \", loss)\n",
    "        \n",
    "        print(\"\\n Final Loss is \", loss)\n",
    "        print(\"Coefficient are : \\n W: {}, b = {} \".format(self.param['W'], self.param['b']))\n",
    "\n",
    "        @staticmethod\n",
    "        def loss(y, y_pred):\n",
    "            y_zero_loss = y.T.dot(np.log(y_pred))\n",
    "            y_one_loss = (1-y).T.dot(np.log(1-y_pred))\n",
    "\n",
    "            return -np.sum(y_zero_loss + y_one_loss)/len(y)\n",
    "        \n",
    "        @staticmethod\n",
    "        def signmoid(z):\n",
    "            return 1.0/(1 + np.exp(-z))\n",
    "        \n",
    "        def predict(self, X):\n",
    "            return self.sigmoid(np.dot(X, self.param['W']) + self.param['b'])\n"
   ]
  },
  {
   "cell_type": "code",
   "execution_count": 9,
   "metadata": {},
   "outputs": [],
   "source": [
    "from sklearn.datasets import make_classification\n",
    "\n",
    "# help(make_classification)\n",
    "def generate_data(no_of_data = 100, no_of_features = 4):\n",
    "    features, target = make_classification(n_samples=no_of_data,\n",
    "                                           n_features=no_of_features,\n",
    "                                           n_classes=2,\n",
    "                                           random_state=SEED)\n",
    "    return features, target"
   ]
  },
  {
   "cell_type": "code",
   "execution_count": 16,
   "metadata": {},
   "outputs": [
    {
     "ename": "TypeError",
     "evalue": "random() takes at most 1 positional argument (2 given)",
     "output_type": "error",
     "traceback": [
      "\u001b[0;31m---------------------------------------------------------------------------\u001b[0m",
      "\u001b[0;31mTypeError\u001b[0m                                 Traceback (most recent call last)",
      "Cell \u001b[0;32mIn[16], line 6\u001b[0m\n\u001b[1;32m      4\u001b[0m alpha \u001b[39m=\u001b[39m \u001b[39m0.1\u001b[39m\n\u001b[1;32m      5\u001b[0m epochs \u001b[39m=\u001b[39m \u001b[39m100\u001b[39m\n\u001b[0;32m----> 6\u001b[0m log_model \u001b[39m=\u001b[39m LogistisRegression(X, y)\n\u001b[1;32m      7\u001b[0m log_model\u001b[39m.\u001b[39mtrain(alpha, epochs)\n",
      "Cell \u001b[0;32mIn[15], line 16\u001b[0m, in \u001b[0;36mLogistisRegression.__init__\u001b[0;34m(self, X, y)\u001b[0m\n\u001b[1;32m     14\u001b[0m \u001b[39mself\u001b[39m\u001b[39m.\u001b[39mparam \u001b[39m=\u001b[39m {}\n\u001b[1;32m     15\u001b[0m \u001b[39mself\u001b[39m\u001b[39m.\u001b[39mm , \u001b[39mself\u001b[39m\u001b[39m.\u001b[39mn \u001b[39m=\u001b[39m X\u001b[39m.\u001b[39mshape\n\u001b[0;32m---> 16\u001b[0m \u001b[39mself\u001b[39m\u001b[39m.\u001b[39mparam[\u001b[39m'\u001b[39m\u001b[39mW\u001b[39m\u001b[39m'\u001b[39m] \u001b[39m=\u001b[39m np\u001b[39m.\u001b[39;49mrandom\u001b[39m.\u001b[39;49mrandom(\u001b[39mself\u001b[39;49m\u001b[39m.\u001b[39;49mn, \u001b[39m1\u001b[39;49m) \u001b[39m*\u001b[39m \u001b[39m0.001\u001b[39m\n\u001b[1;32m     17\u001b[0m \u001b[39mself\u001b[39m\u001b[39m.\u001b[39mparam[\u001b[39m'\u001b[39m\u001b[39mb\u001b[39m\u001b[39m'\u001b[39m] \u001b[39m=\u001b[39m np\u001b[39m.\u001b[39mzeros(\u001b[39m1\u001b[39m)\n\u001b[1;32m     19\u001b[0m \u001b[39mself\u001b[39m\u001b[39m.\u001b[39mX \u001b[39m=\u001b[39m X\n",
      "File \u001b[0;32mmtrand.pyx:438\u001b[0m, in \u001b[0;36mnumpy.random.mtrand.RandomState.random\u001b[0;34m()\u001b[0m\n",
      "\u001b[0;31mTypeError\u001b[0m: random() takes at most 1 positional argument (2 given)"
     ]
    }
   ],
   "source": [
    "no_of_data = 100000\n",
    "no_of_features = 4\n",
    "X, y = generate_data(no_of_data, no_of_features)\n",
    "alpha = 0.1\n",
    "epochs = 100\n",
    "log_model = LogistisRegression(X, y)\n",
    "log_model.train(alpha, epochs)"
   ]
  }
 ],
 "metadata": {
  "kernelspec": {
   "display_name": "py3.11",
   "language": "python",
   "name": "python3"
  },
  "language_info": {
   "codemirror_mode": {
    "name": "ipython",
    "version": 3
   },
   "file_extension": ".py",
   "mimetype": "text/x-python",
   "name": "python",
   "nbconvert_exporter": "python",
   "pygments_lexer": "ipython3",
   "version": "3.9.17"
  },
  "orig_nbformat": 4
 },
 "nbformat": 4,
 "nbformat_minor": 2
}
