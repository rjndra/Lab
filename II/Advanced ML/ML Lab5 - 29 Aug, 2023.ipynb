{
 "cells": [
  {
   "cell_type": "code",
   "execution_count": 2,
   "metadata": {},
   "outputs": [],
   "source": [
    "def sum(abc = []):\n",
    "    sum = 0\n",
    "    for i in range(len(abc)):\n",
    "        sum = sum + abc[i]\n",
    "    return sum"
   ]
  },
  {
   "cell_type": "code",
   "execution_count": null,
   "metadata": {},
   "outputs": [],
   "source": [
    "import time"
   ]
  },
  {
   "cell_type": "code",
   "execution_count": 3,
   "metadata": {},
   "outputs": [],
   "source": [
    "start = time.time()\n",
    "print(sum(list(range(10000000))))\n",
    "end = time.time()\n",
    "end-start"
   ]
  },
  {
   "cell_type": "code",
   "execution_count": null,
   "metadata": {},
   "outputs": [],
   "source": [
    "import numpy as np\n",
    "start = time.time()\n",
    "print(np.sum(list(range(10000000))))\n",
    "end = time.time()\n",
    "end-start"
   ]
  },
  {
   "cell_type": "code",
   "execution_count": 25,
   "metadata": {},
   "outputs": [],
   "source": [
    "class User:\n",
    "\n",
    "    # function when defined with no self is called function\n",
    "    # like def init_variables():\n",
    "    # function when defined with self is called method.\n",
    "    def init_variables(self):\n",
    "        self.user_id = 5\n",
    "        self.username = None\n",
    "        self.age = 200\n",
    "\n",
    "# print(User().user_id) # direct initalization doesnot work here.\n",
    "user1 = User()\n",
    "user1.init_variables()"
   ]
  },
  {
   "cell_type": "code",
   "execution_count": 11,
   "metadata": {},
   "outputs": [
    {
     "data": {
      "text/plain": [
       "5"
      ]
     },
     "execution_count": 11,
     "metadata": {},
     "output_type": "execute_result"
    }
   ],
   "source": [
    "user1.user_id"
   ]
  },
  {
   "cell_type": "code",
   "execution_count": 12,
   "metadata": {},
   "outputs": [
    {
     "data": {
      "text/plain": [
       "(5, None, 200)"
      ]
     },
     "execution_count": 12,
     "metadata": {},
     "output_type": "execute_result"
    }
   ],
   "source": [
    "user1.user_id, user1.username, user1.age"
   ]
  },
  {
   "cell_type": "code",
   "execution_count": 37,
   "metadata": {},
   "outputs": [
    {
     "data": {
      "text/plain": [
       "(5, None, 200)"
      ]
     },
     "execution_count": 37,
     "metadata": {},
     "output_type": "execute_result"
    }
   ],
   "source": [
    "user2 = User()\n",
    "user2.user_id, user2.username, user2.age"
   ]
  },
  {
   "cell_type": "code",
   "execution_count": 44,
   "metadata": {},
   "outputs": [
    {
     "data": {
      "text/plain": [
       "20"
      ]
     },
     "execution_count": 44,
     "metadata": {},
     "output_type": "execute_result"
    }
   ],
   "source": [
    "class User:\n",
    "\n",
    "    # private properties double underscore\n",
    "    __use_id = None\n",
    "\n",
    "    # protected properties single underscore\n",
    "    _username = None\n",
    "\n",
    "    # Now __init__ this automates initialization with initialized with empty as well.\n",
    "    def __init__(self):\n",
    "        self.__user_id = 5\n",
    "        self._username = None\n",
    "        self._age = 200\n",
    "\n",
    "    def get_age(self):\n",
    "        return self._age\n",
    "    \n",
    "    def set_age(self, age):\n",
    "        self._age = age\n",
    "    \n",
    "user3 = User()\n",
    "user3._username, user3._age\n",
    "user3.get_age()\n",
    "user3.get_age()\n",
    "user3.set_age(20)\n",
    "user3.get_age()"
   ]
  },
  {
   "cell_type": "code",
   "execution_count": 33,
   "metadata": {},
   "outputs": [
    {
     "ename": "AttributeError",
     "evalue": "'User' object has no attribute 'age'",
     "output_type": "error",
     "traceback": [
      "\u001b[0;31m---------------------------------------------------------------------------\u001b[0m",
      "\u001b[0;31mAttributeError\u001b[0m                            Traceback (most recent call last)",
      "Cell \u001b[0;32mIn[33], line 16\u001b[0m\n\u001b[1;32m     13\u001b[0m         \u001b[39mreturn\u001b[39;00m \u001b[39mself\u001b[39m\u001b[39m.\u001b[39mage\n\u001b[1;32m     15\u001b[0m user \u001b[39m=\u001b[39m User()\n\u001b[0;32m---> 16\u001b[0m user\u001b[39m.\u001b[39;49mget_age()\n\u001b[1;32m     17\u001b[0m user\u001b[39m.\u001b[39mset_age(\u001b[39m20\u001b[39m)\n\u001b[1;32m     18\u001b[0m user\u001b[39m.\u001b[39mget_age()\n",
      "Cell \u001b[0;32mIn[33], line 13\u001b[0m, in \u001b[0;36mUser.get_age\u001b[0;34m(self)\u001b[0m\n\u001b[1;32m     12\u001b[0m \u001b[39mdef\u001b[39;00m \u001b[39mget_age\u001b[39m(\u001b[39mself\u001b[39m):\n\u001b[0;32m---> 13\u001b[0m     \u001b[39mreturn\u001b[39;00m \u001b[39mself\u001b[39;49m\u001b[39m.\u001b[39;49mage\n",
      "\u001b[0;31mAttributeError\u001b[0m: 'User' object has no attribute 'age'"
     ]
    }
   ],
   "source": [
    "class User:\n",
    "\n",
    "    def init_variables(self):\n",
    "        self.user_id = 5\n",
    "        self.username = None\n",
    "        self.age = 200\n",
    "\n",
    "    def __call__(self):\n",
    "        print(\"Auto call\")\n",
    "        self.init_variables()\n",
    "\n",
    "    def get_age(self):\n",
    "        return self.age\n",
    "\n",
    "user = User()\n",
    "# User.user_id, User.username, User.age"
   ]
  },
  {
   "cell_type": "code",
   "execution_count": 38,
   "metadata": {},
   "outputs": [
    {
     "name": "stdout",
     "output_type": "stream",
     "text": [
      "The Zen of Python, by Tim Peters\n",
      "\n",
      "Beautiful is better than ugly.\n",
      "Explicit is better than implicit.\n",
      "Simple is better than complex.\n",
      "Complex is better than complicated.\n",
      "Flat is better than nested.\n",
      "Sparse is better than dense.\n",
      "Readability counts.\n",
      "Special cases aren't special enough to break the rules.\n",
      "Although practicality beats purity.\n",
      "Errors should never pass silently.\n",
      "Unless explicitly silenced.\n",
      "In the face of ambiguity, refuse the temptation to guess.\n",
      "There should be one-- and preferably only one --obvious way to do it.\n",
      "Although that way may not be obvious at first unless you're Dutch.\n",
      "Now is better than never.\n",
      "Although never is often better than *right* now.\n",
      "If the implementation is hard to explain, it's a bad idea.\n",
      "If the implementation is easy to explain, it may be a good idea.\n",
      "Namespaces are one honking great idea -- let's do more of those!\n"
     ]
    }
   ],
   "source": [
    "import this"
   ]
  },
  {
   "cell_type": "code",
   "execution_count": null,
   "metadata": {},
   "outputs": [],
   "source": []
  },
  {
   "cell_type": "code",
   "execution_count": 62,
   "metadata": {},
   "outputs": [
    {
     "name": "stdout",
     "output_type": "stream",
     "text": [
      "Train Started.\n",
      "Linear Regression\n"
     ]
    },
    {
     "data": {
      "text/plain": [
       "(None, None, None)"
      ]
     },
     "execution_count": 62,
     "metadata": {},
     "output_type": "execute_result"
    }
   ],
   "source": [
    "class MLModels:\n",
    "\n",
    "    def train(self):\n",
    "        print(\"Train Started.\")\n",
    "\n",
    "    def predict(self):\n",
    "        print(\"Predict Started\")\n",
    "\n",
    "class LinearRegression(MLModels):\n",
    "\n",
    "    def __init__(self):\n",
    "        self.w = None\n",
    "        self.b = None\n",
    "\n",
    "    def train(self, X, Y):\n",
    "        super().train()\n",
    "        print(\"Linear Regression\")\n",
    "\n",
    "lm = LinearRegression()\n",
    "lm.w, lm.b, lm.train(1,2)"
   ]
  }
 ],
 "metadata": {
  "kernelspec": {
   "display_name": "py3.11",
   "language": "python",
   "name": "python3"
  },
  "language_info": {
   "codemirror_mode": {
    "name": "ipython",
    "version": 3
   },
   "file_extension": ".py",
   "mimetype": "text/x-python",
   "name": "python",
   "nbconvert_exporter": "python",
   "pygments_lexer": "ipython3",
   "version": "3.11.4"
  },
  "orig_nbformat": 4
 },
 "nbformat": 4,
 "nbformat_minor": 2
}
