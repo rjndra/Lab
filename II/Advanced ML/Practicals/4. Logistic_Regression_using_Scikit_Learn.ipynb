{
  "nbformat": 4,
  "nbformat_minor": 0,
  "metadata": {
    "colab": {
      "provenance": []
    },
    "kernelspec": {
      "name": "python3",
      "display_name": "Python 3"
    },
    "language_info": {
      "name": "python"
    }
  },
  "cells": [
    {
      "cell_type": "code",
      "execution_count": null,
      "metadata": {
        "id": "5HF3bzvMhXWQ"
      },
      "outputs": [],
      "source": [
        "from sklearn.linear_model import LogisticRegression\n",
        "import pandas as pd\n",
        "import numpy as np\n",
        "from matplotlib import pyplot as plt\n",
        "from sklearn.metrics import classification_report\n",
        "from sklearn.model_selection import train_test_split"
      ]
    },
    {
      "cell_type": "code",
      "source": [
        "def scale(d):\n",
        "    mean=d.mean()\n",
        "    sd=d.std()\n",
        "\n",
        "    return (d-mean)/sd"
      ],
      "metadata": {
        "id": "J-LiXxZuvu-z"
      },
      "execution_count": null,
      "outputs": []
    },
    {
      "cell_type": "code",
      "source": [
        "# Mount the google colab\n",
        "from google.colab import drive\n",
        "drive.mount('/content/drive')\n",
        "\n",
        "def load_data():\n",
        "    file_path = \"/content/drive/MyDrive/Colab Notebooks/Applied Machine Learning/Logistic Regression/Diabetes.csv\"\n",
        "    data = pd.read_csv(file_path)\n",
        "\n",
        "    X = np.array(data.iloc[:, 0:8])\n",
        "    y = np.array(data.iloc[:, 8])\n",
        "\n",
        "    return X, y"
      ],
      "metadata": {
        "id": "JC72VnzxwTqG",
        "colab": {
          "base_uri": "https://localhost:8080/"
        },
        "outputId": "c4f95440-2ac9-4fc7-e3a0-f776bdc7da17"
      },
      "execution_count": null,
      "outputs": [
        {
          "output_type": "stream",
          "name": "stdout",
          "text": [
            "Drive already mounted at /content/drive; to attempt to forcibly remount, call drive.mount(\"/content/drive\", force_remount=True).\n"
          ]
        }
      ]
    },
    {
      "cell_type": "code",
      "source": [
        "X, y = load_data()\n",
        "\n",
        "def scale(d):\n",
        "    mean=d.mean()\n",
        "    sd=d.std()\n",
        "\n",
        "    return (d-mean)/sd"
      ],
      "metadata": {
        "id": "ZeFuVzk-wyQd"
      },
      "execution_count": null,
      "outputs": []
    },
    {
      "cell_type": "code",
      "source": [
        "train_X, test_X, train_y, test_y = train_test_split(X, y, test_size = 0.3)"
      ],
      "metadata": {
        "id": "aWmYc-mTyV0_"
      },
      "execution_count": null,
      "outputs": []
    },
    {
      "cell_type": "code",
      "source": [
        "log_model = LogisticRegression().fit(train_X, train_y)"
      ],
      "metadata": {
        "id": "Xom_nqlZ3XIE",
        "colab": {
          "base_uri": "https://localhost:8080/"
        },
        "outputId": "9ad4affb-b239-438b-83fb-82d6ddd7a73c"
      },
      "execution_count": null,
      "outputs": [
        {
          "output_type": "stream",
          "name": "stderr",
          "text": [
            "/usr/local/lib/python3.7/dist-packages/sklearn/linear_model/_logistic.py:818: ConvergenceWarning: lbfgs failed to converge (status=1):\n",
            "STOP: TOTAL NO. of ITERATIONS REACHED LIMIT.\n",
            "\n",
            "Increase the number of iterations (max_iter) or scale the data as shown in:\n",
            "    https://scikit-learn.org/stable/modules/preprocessing.html\n",
            "Please also refer to the documentation for alternative solver options:\n",
            "    https://scikit-learn.org/stable/modules/linear_model.html#logistic-regression\n",
            "  extra_warning_msg=_LOGISTIC_SOLVER_CONVERGENCE_MSG,\n"
          ]
        }
      ]
    },
    {
      "cell_type": "code",
      "source": [
        "prob = log_model.predict(test_X)\n"
      ],
      "metadata": {
        "id": "-subuUnk42Cn"
      },
      "execution_count": null,
      "outputs": []
    },
    {
      "cell_type": "code",
      "source": [
        "y_pred = np.squeeze(np.array([prob>0.5], dtype= np.int32))\n",
        "print(classification_report(y_pred, test_y))"
      ],
      "metadata": {
        "colab": {
          "base_uri": "https://localhost:8080/"
        },
        "id": "NNiW-ZfX6Dy_",
        "outputId": "b393c32e-7ece-46d5-867a-bc485baca4f7"
      },
      "execution_count": null,
      "outputs": [
        {
          "output_type": "stream",
          "name": "stdout",
          "text": [
            "              precision    recall  f1-score   support\n",
            "\n",
            "           0       0.85      0.79      0.82       160\n",
            "           1       0.60      0.69      0.64        71\n",
            "\n",
            "    accuracy                           0.76       231\n",
            "   macro avg       0.72      0.74      0.73       231\n",
            "weighted avg       0.77      0.76      0.77       231\n",
            "\n"
          ]
        }
      ]
    }
  ]
}