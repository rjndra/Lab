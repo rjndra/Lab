{
 "cells": [
  {
   "attachments": {},
   "cell_type": "markdown",
   "metadata": {
    "id": "DMv6cSxpXLnl"
   },
   "source": [
    "# Ensemble Learning"
   ]
  },
  {
   "attachments": {},
   "cell_type": "markdown",
   "metadata": {
    "id": "uE4V454LYvKN"
   },
   "source": [
    "Ensemble techniques can be categorized into two types:\n",
    "\n",
    "#### 1. Simple Ensemble Technique\n",
    "Under simple ensemble technique following are the techniques:\n",
    "\n",
    "a. Max Voting\n",
    "\n",
    "b. Averaging\n",
    "\n",
    "#### 2. Advance Ensemble technique\n",
    "This includes:\n",
    "\n",
    "a. [Bagging](#)\n",
    "\n",
    "b. [Boosting](#)\n",
    "\n",
    "c. [Stacking](#)\n",
    "\n",
    "We will discuss only about Simple Ensemble Technique in this notebook. For advanced, Ensemble technique, browse to the corresponding link above."
   ]
  },
  {
   "cell_type": "code",
   "execution_count": null,
   "metadata": {
    "id": "gdjLmraleYX4"
   },
   "outputs": [],
   "source": [
    "# import libraries\n",
    "import numpy as np\n",
    "import os\n",
    "from random import shuffle\n",
    "import matplotlib.pyplot as plt\n",
    "%matplotlib inline"
   ]
  },
  {
   "attachments": {},
   "cell_type": "markdown",
   "metadata": {
    "id": "qiFbZ-1cZpXR"
   },
   "source": [
    "## Simple Ensemble Technique"
   ]
  },
  {
   "attachments": {},
   "cell_type": "markdown",
   "metadata": {},
   "source": [
    "### a. Max Voting\n",
    "This method is also called Majority Voting and generally used for classification problems. \n",
    "\n",
    "For example, we have three models that classifies whether a given input image is `cat` or `dog`. Two of the classifier 'Classifier A' and 'Classifier B' classifid the input to `cat` and one classifier classified to `dog`. The Ensemble will classify the input as `cat` as per the majority voting."
   ]
  },
  {
   "cell_type": "code",
   "execution_count": null,
   "metadata": {
    "id": "W3koX8U6W9iM"
   },
   "outputs": [],
   "source": [
    "# Create three classifiers\n",
    "from sklearn.linear_model import LogisticRegression\n",
    "from sklearn.tree import DecisionTreeClassifier\n",
    "from sklearn.svm import LinearSVC\n",
    "\n",
    "# Build Model\n",
    "model1 = LogisticRegression(random_state = 7)\n",
    "model2 = DecisionTreeClassifier(random_state = 7)\n",
    "model3 = LinearSVC(random_state=42)\n",
    "\n",
    "# Create Voting classifier\n",
    "from sklearn.ensemble import VotingClassifier\n",
    "ensemble_model = VotingClassifier(\n",
    "    estimators = [\n",
    "        ('Logistic', model1),\n",
    "        ('Decision Tree', model2),\n",
    "        ('Linear SVC', model3)\n",
    "    ], voting = \"hard\"\n",
    ")\n",
    "\n",
    "# Fit the model and evaluate the result\n",
    "#model.fit(X_train, y_train)\n",
    "\n",
    "#model.score(X_test, y_tes)"
   ]
  },
  {
   "attachments": {},
   "cell_type": "markdown",
   "metadata": {},
   "source": [
    "### b. Averaging"
   ]
  },
  {
   "cell_type": "code",
   "execution_count": 1,
   "metadata": {
    "ExecuteTime": {
     "end_time": "2023-09-13T15:31:36.881141700Z",
     "start_time": "2023-09-13T15:31:34.856519100Z"
    }
   },
   "outputs": [
    {
     "ename": "TypeError",
     "evalue": "LinearRegression.__init__() got an unexpected keyword argument 'random_state'",
     "output_type": "error",
     "traceback": [
      "\u001B[1;31m---------------------------------------------------------------------------\u001B[0m",
      "\u001B[1;31mTypeError\u001B[0m                                 Traceback (most recent call last)",
      "Cell \u001B[1;32mIn[1], line 9\u001B[0m\n\u001B[0;32m      6\u001B[0m \u001B[38;5;28;01mfrom\u001B[39;00m \u001B[38;5;21;01msklearn\u001B[39;00m\u001B[38;5;21;01m.\u001B[39;00m\u001B[38;5;21;01mmetrics\u001B[39;00m \u001B[38;5;28;01mimport\u001B[39;00m mean_squared_error\n\u001B[0;32m      8\u001B[0m \u001B[38;5;66;03m# Build Model\u001B[39;00m\n\u001B[1;32m----> 9\u001B[0m model1 \u001B[38;5;241m=\u001B[39m LinearRegression(random_state \u001B[38;5;241m=\u001B[39m \u001B[38;5;241m7\u001B[39m)\n\u001B[0;32m     10\u001B[0m model2 \u001B[38;5;241m=\u001B[39m LinearSVR(random_state\u001B[38;5;241m=\u001B[39m\u001B[38;5;241m7\u001B[39m)\n\u001B[0;32m     11\u001B[0m model3 \u001B[38;5;241m=\u001B[39m RandomForestRegressor(random_state\u001B[38;5;241m=\u001B[39m\u001B[38;5;241m7\u001B[39m)\n",
      "\u001B[1;31mTypeError\u001B[0m: LinearRegression.__init__() got an unexpected keyword argument 'random_state'"
     ]
    }
   ],
   "source": [
    "# Create three regressor\n",
    "from sklearn.linear_model import LinearRegression\n",
    "from sklearn.svm import LinearSVR\n",
    "from sklearn.ensemble import RandomForestRegressor\n",
    "\n",
    "from sklearn.metrics import mean_squared_error\n",
    "\n",
    "# Build Model\n",
    "model1 = LinearRegression(random_state = 7)\n",
    "model2 = LinearSVR(random_state=7)\n",
    "model3 = RandomForestRegressor(random_state=7)\n",
    "\n",
    "# train the model\n",
    "model1.fit(X_train, y_train)\n",
    "model2.fit(X_train, y_train)\n",
    "model3.fit(X_train, y_train)\n",
    "\n",
    "# evaluate the model\n",
    "y_pred_1 = model1.predict(X_test)\n",
    "y_pred_2 = model2.predict(X_test)\n",
    "y_pred_3 = model3.predict(X_test)\n",
    "\n",
    "y_pred = (y_pred_1 + y_pred_2 + y_pred_3) / 3.0\n",
    "\n",
    "# compute mean squared error\n",
    "mse = mean_squared_error(y_test, y_pred)\n",
    "print(mse)"
   ]
  },
  {
   "attachments": {},
   "cell_type": "markdown",
   "metadata": {},
   "source": [
    "### 3. Weighted Averaging"
   ]
  },
  {
   "cell_type": "code",
   "execution_count": null,
   "metadata": {
    "ExecuteTime": {
     "start_time": "2023-09-13T15:31:36.881141700Z"
    }
   },
   "outputs": [],
   "source": [
    "# Create three regressor\n",
    "from sklearn.linear_model import LinearRegression\n",
    "from sklearn.svm import LinearSVR\n",
    "from sklearn.ensemble import RandomForestRegressor\n",
    "\n",
    "from sklearn.metrics import mean_squared_error\n",
    "\n",
    "# Build Model\n",
    "model1 = LinearRegression(random_state = 7)\n",
    "model2 = LinearSVR(random_state=7)\n",
    "model3 = RandomForestRegressor(random_state=7)\n",
    "\n",
    "# compute scores\n",
    "scores = []\n",
    "for model in [model1, model2, model3]:\n",
    "    # train the model\n",
    "    model.fit(X_train, y_train)\n",
    "    \n",
    "    # evaluate the model\n",
    "    y_pred = model.predict(X_test)\n",
    "\n",
    "    # compute mean squared error\n",
    "    mse = mean_squared_error(y_test, y_pred)\n",
    "\n",
    "    # Append mse to scores\n",
    "    scores.append(mse)\n",
    "\n",
    "# Create Averaging evaluator\n",
    "from sklearn.ensemble import VotingRegressor\n",
    "ensemble = VotingRegressor(\n",
    "    estimators= [\n",
    "    ('Linear', model1),\n",
    "    ('Linear SVR', model2),\n",
    "    ('Random Forest',model3)\n",
    "    ], weights= scores\n",
    ")\n",
    "\n",
    "# fit the ensemble model\n",
    "ensemble.fit(X_train, y_train)\n",
    "\n",
    "# predict the output\n",
    "y_pred = ensemble.predict(X_test)\n",
    "\n",
    "# Evaluate\n",
    "mse = mean_squared_error(y_test, y_pred)\n",
    "print(mse)"
   ]
  },
  {
   "cell_type": "code",
   "execution_count": null,
   "outputs": [],
   "source": [],
   "metadata": {
    "collapsed": false
   }
  }
 ],
 "metadata": {
  "colab": {
   "authorship_tag": "ABX9TyMzqvRVZUxmcCvYWdPQjFTB",
   "include_colab_link": true,
   "provenance": []
  },
  "kernelspec": {
   "name": "python3",
   "language": "python",
   "display_name": "Python 3 (ipykernel)"
  },
  "language_info": {
   "codemirror_mode": {
    "name": "ipython",
    "version": 3
   },
   "file_extension": ".py",
   "mimetype": "text/x-python",
   "name": "python",
   "nbconvert_exporter": "python",
   "pygments_lexer": "ipython3",
   "version": "3.9.16"
  }
 },
 "nbformat": 4,
 "nbformat_minor": 0
}
