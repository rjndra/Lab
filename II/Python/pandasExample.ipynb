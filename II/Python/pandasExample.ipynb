{
 "cells": [
  {
   "cell_type": "code",
   "execution_count": 4,
   "metadata": {},
   "outputs": [
    {
     "name": "stdout",
     "output_type": "stream",
     "text": [
      "   Second_Score  Third_Score\n",
      "0          30.0          NaN\n",
      "2          56.0         80.0\n"
     ]
    }
   ],
   "source": [
    "import pandas as pd;\n",
    "import numpy as np;\n",
    "\n",
    "data = {'First_Score':[40, 90, np.nan, 95],\n",
    "        'Second_Score': [30, 45, 56, np.nan],\n",
    "        'Third_Score':[np.nan, 40, 80, 98]}\n",
    "df = pd.DataFrame(data)\n",
    "df.fillna(0)\n",
    "df[['Second_Score', 'Third_Score']]\n",
    "df[0:2]\n",
    "\n",
    "df.loc[0:2, 'First_Score':'Second_Score']\n",
    "df.iloc[0:2, 0:1]\n",
    "\n",
    "row = [0, 2]\n",
    "col = ['Second_Score', 'Third_Score']\n",
    "print(df.loc[row, col])"
   ]
  },
  {
   "cell_type": "markdown",
   "metadata": {},
   "source": [
    "Merging of two dataframes"
   ]
  },
  {
   "cell_type": "code",
   "execution_count": 8,
   "metadata": {},
   "outputs": [
    {
     "name": "stdout",
     "output_type": "stream",
     "text": [
      "  Common    Name  Age         Sport        Movie\n",
      "0      A    John   18       Cricket      Jumanji\n",
      "1      B   Alice   19      Football  Black Widow\n",
      "2      C    Emma   20  Table Tennis     End Game\n",
      "3      D  Watson   21     Badminton    Mr. Robot\n",
      "4      E   Harry   15         Chess       Matrix\n",
      "     Name  Age         Sport        Movie\n",
      "A    John   18       Cricket      Jumanji\n",
      "B   Alice   19      Football  Black Widow\n",
      "C    Emma   20  Table Tennis     End Game\n",
      "D  Watson   21     Badminton    Mr. Robot\n",
      "X   Harry   15           NaN          NaN\n"
     ]
    }
   ],
   "source": [
    "df1 = pd.DataFrame({\"Common\": [\"A\", \"B\", \"C\", \"D\", \"E\"],\n",
    "                    \"Name\": [\"John\", \"Alice\", \"Emma\", \"Watson\", \"Harry\"],\n",
    "                    \"Age\": [18, 19, 20, 21, 15]})\n",
    "df2 = pd.DataFrame({\"Common\": [\"A\", \"B\", \"C\", \"D\", \"E\"],\n",
    "                    \"Sport\": [\"Cricket\", \"Football\", \"Table Tennis\", \"Badminton\", \"Chess\"],\n",
    "                    \"Movie\": [\"Jumanji\", \"Black Widow\", \"End Game\", \"Mr. Robot\", \"Matrix\"]})\n",
    "df3 = pd.merge(df1, df2, how = \"left\", on = \"Common\")\n",
    "print(df3)\n",
    "\n",
    "df1 = pd.DataFrame({\"Name\": [\"John\", \"Alice\", \"Emma\", \"Watson\", \"Harry\"],\n",
    "                    \"Age\": [18, 19, 20, 21, 15]},\n",
    "                    index = [\"A\", \"B\", \"C\", \"D\", \"X\"])\n",
    "df2 = pd.DataFrame({\"Sport\": [\"Cricket\", \"Football\", \"Table Tennis\", \"Badminton\", \"Chess\"],\n",
    "                    \"Movie\": [\"Jumanji\", \"Black Widow\", \"End Game\", \"Mr. Robot\", \"Matrix\"]},\n",
    "                    index = [\"A\", \"B\", \"C\", \"D\", \"E\"])\n",
    "df4 = df1.join(df2)\n",
    "print(df4)"
   ]
  }
 ],
 "metadata": {
  "kernelspec": {
   "display_name": "py3.11",
   "language": "python",
   "name": "python3"
  },
  "language_info": {
   "codemirror_mode": {
    "name": "ipython",
    "version": 3
   },
   "file_extension": ".py",
   "mimetype": "text/x-python",
   "name": "python",
   "nbconvert_exporter": "python",
   "pygments_lexer": "ipython3",
   "version": "3.11.4"
  }
 },
 "nbformat": 4,
 "nbformat_minor": 2
}
