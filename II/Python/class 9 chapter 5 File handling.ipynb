{
 "cells": [
  {
   "cell_type": "markdown",
   "metadata": {},
   "source": [
    "File handling"
   ]
  },
  {
   "cell_type": "code",
   "execution_count": 7,
   "metadata": {},
   "outputs": [
    {
     "name": "stdout",
     "output_type": "stream",
     "text": [
      "Chapter 5: File handling\n",
      "\n",
      "We will learn file handling in this Chapter.\n",
      "\n",
      "open() with two params filename and mode.\n",
      "modes:\n",
      "\"r\" : read\n",
      "\"a\": append\n",
      "\"w\": write\n",
      "\"x\" : create . Throws error is already exist.\n",
      "\"+\" : \n",
      "In addition\n",
      "\"t\" : text mode\n",
      "\"b\" : binary mode\n",
      "\n",
      "This file is to opended with file handling.\n"
     ]
    }
   ],
   "source": [
    "f = open('testfile.txt', 'rt') \n",
    "print(f.read())"
   ]
  },
  {
   "cell_type": "code",
   "execution_count": 14,
   "metadata": {},
   "outputs": [
    {
     "name": "stdout",
     "output_type": "stream",
     "text": [
      "16\n"
     ]
    }
   ],
   "source": [
    "f = open('testfile.txt', 'rt')\n",
    "count = 0 \n",
    "for x in f:\n",
    "    count += 1\n",
    "print(count)   \n",
    "f.close()"
   ]
  },
  {
   "cell_type": "code",
   "execution_count": 37,
   "metadata": {},
   "outputs": [
    {
     "name": "stdout",
     "output_type": "stream",
     "text": [
      "[23, 89, 34, 56, 78, 90, 12]\n",
      "Sum = : 382\n",
      "Avergae = : 54.57142857142857\n"
     ]
    }
   ],
   "source": [
    "f = open('numbers.txt', 'rt')\n",
    "count = 0 \n",
    "data = []\n",
    "for x in f:\n",
    "    data.append(int(x))\n",
    "    count += 1\n",
    "print(data)   \n",
    "newSum = sum(data)\n",
    "avg = newSum/count\n",
    "print(\"Sum = :\", newSum)\n",
    "print(\"Avergae = :\", avg)\n",
    "f.close()"
   ]
  },
  {
   "cell_type": "markdown",
   "metadata": {},
   "source": [
    "Delete Files"
   ]
  },
  {
   "cell_type": "code",
   "execution_count": 47,
   "metadata": {},
   "outputs": [
    {
     "name": "stdout",
     "output_type": "stream",
     "text": [
      "File create succesfully.\n",
      "The file removed successfully.\n",
      "The file does not exist.\n"
     ]
    }
   ],
   "source": [
    "f = open('newSumAverage.txt', 'wt')\n",
    "f.write(\"This is fule value.\")\n",
    "f.close()\n",
    "print('File create succesfully.')\n",
    "\n",
    "import os\n",
    "if os.path.exists('newSumAverage.txt'):\n",
    "    os.remove('newSumAverage.txt')\n",
    "    print(\"The file removed successfully.\")\n",
    "else:\n",
    "    print(\"The file does not exist.\")\n",
    "\n",
    "\n",
    "if os.path.exists('newSumAverage.txt'):\n",
    "    os.remove('newSumAverage.txt')\n",
    "    print(\"The file removed successfully.\")\n",
    "else:\n",
    "    print(\"The file does not exist.\")"
   ]
  },
  {
   "cell_type": "code",
   "execution_count": 48,
   "metadata": {},
   "outputs": [
    {
     "data": {
      "text/plain": [
       "['newSumAvegare',\n",
       " 'class 4a chapter3.ipynb',\n",
       " 'numbers.txt',\n",
       " 'class 5b chapter3 sets.ipynb',\n",
       " '.DS_Store',\n",
       " 'class 2 Introduction.py',\n",
       " 'Untitled.ipynb',\n",
       " 'class 3b chapter 2.py',\n",
       " 'class 8 chpater 4 Functions.ipynb',\n",
       " 'matchPractise.ipynb',\n",
       " 'class 5a chapter3.ipynb',\n",
       " 'class 3a chapter 1.py',\n",
       " 'class 3b chapter2 find vowels.py',\n",
       " 'class 6 chapter 3.ipynb',\n",
       " '.ipynb_checkpoints',\n",
       " 'testfile.txt',\n",
       " 'class 9 chapter 5 File handling.ipynb',\n",
       " 'class 3b chapter2 match.py',\n",
       " '34_textFile.txt',\n",
       " 'class 7 Programming Excerise.ipynb']"
      ]
     },
     "execution_count": 48,
     "metadata": {},
     "output_type": "execute_result"
    }
   ],
   "source": [
    "import os\n",
    "os.listdir()"
   ]
  },
  {
   "cell_type": "code",
   "execution_count": 53,
   "metadata": {},
   "outputs": [
    {
     "name": "stdout",
     "output_type": "stream",
     "text": [
      "File create succesfully.\n"
     ]
    }
   ],
   "source": [
    "f = open('newSumAverage.txt', 'wt')\n",
    "f.write(\"This is fule value.\")\n",
    "f.close()\n",
    "print('File create succesfully.')\n",
    "\n",
    "import os\n",
    "os.rename(\"newSumAverage.txt\", \"sa.txt\")\n",
    "\n"
   ]
  },
  {
   "cell_type": "markdown",
   "metadata": {},
   "source": [
    "Some Common functions in OS Module.\n"
   ]
  }
 ],
 "metadata": {
  "kernelspec": {
   "display_name": "py3.11",
   "language": "python",
   "name": "python3"
  },
  "language_info": {
   "codemirror_mode": {
    "name": "ipython",
    "version": 3
   },
   "file_extension": ".py",
   "mimetype": "text/x-python",
   "name": "python",
   "nbconvert_exporter": "python",
   "pygments_lexer": "ipython3",
   "version": "3.11.4"
  },
  "orig_nbformat": 4
 },
 "nbformat": 4,
 "nbformat_minor": 2
}
