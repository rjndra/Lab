{
 "cells": [
  {
   "cell_type": "code",
   "execution_count": 9,
   "metadata": {},
   "outputs": [
    {
     "name": "stdout",
     "output_type": "stream",
     "text": [
      "['apple', 'banan', 'cherry']\n",
      "apple\n",
      "banan\n",
      "cherry\n",
      "0\n",
      "1\n",
      "2\n",
      "\n",
      "\n",
      "1\n",
      "2\n"
     ]
    }
   ],
   "source": [
    "# Range\n",
    "fruits = list(('apple', 'banan', 'cherry'))\n",
    "print(fruits)\n",
    "\n",
    "for x in range(len(fruits)):\n",
    "    print(fruits[x])\n",
    "\n",
    "for x in range(len(fruits)):\n",
    "    print(x)\n",
    "\n",
    "print('\\n')\n",
    "for x in range(1,len(fruits)):\n",
    "    print(x)"
   ]
  },
  {
   "cell_type": "code",
   "execution_count": 3,
   "metadata": {},
   "outputs": [
    {
     "name": "stdout",
     "output_type": "stream",
     "text": [
      "<class 'set'>\n"
     ]
    },
    {
     "data": {
      "text/plain": [
       "{3, 7}"
      ]
     },
     "execution_count": 3,
     "metadata": {},
     "output_type": "execute_result"
    }
   ],
   "source": [
    "a = set((3,7))\n",
    "print(type(a))\n",
    "a"
   ]
  },
  {
   "cell_type": "code",
   "execution_count": 20,
   "metadata": {},
   "outputs": [
    {
     "name": "stdout",
     "output_type": "stream",
     "text": [
      "<class 'dict'>\n",
      "{'1': ('Aaryan', 5), '2': ('Aatiz', 4), '3': ('Aliz', 3), '4': ('Anil', 6)}\n",
      "dict_keys(['1', '2', '3', '4'])\n",
      "dict_values([('Aaryan', 5), ('Aatiz', 4), ('Aliz', 3), ('Anil', 6)])\n",
      "('Aatiz', 4)\n"
     ]
    }
   ],
   "source": [
    "# Dictionary and Ordered for  python >3.6, no duplicates\n",
    "\n",
    "students = {\n",
    "    '1': ('Aaryan', 5),\n",
    "    '2': ('Aatiz', 4),\n",
    "    '3': ('Aliz', 3),\n",
    "    '4': ('Anil', 6)\n",
    "}\n",
    "\n",
    "print(type(students))\n",
    "print(students)\n",
    "print(students.keys())\n",
    "print(students.values())\n",
    "print(students.get('2'))"
   ]
  },
  {
   "cell_type": "code",
   "execution_count": 43,
   "metadata": {},
   "outputs": [
    {
     "name": "stdout",
     "output_type": "stream",
     "text": [
      "<class 'dict'>\n",
      "dict_keys([1, 2, 3, 4])\n",
      "dict_values([('Aaryan', 5), ('Aatiz', 4), ('Aliz', 3), ('Anil', 6)])\n",
      "('Aatiz', 4)\n",
      "<class 'tuple'>\n",
      "<class 'dict'>\n",
      "<class 'list'>\n",
      "dict_items([(1, ('Aaryan', 5)), (2, ('Aatiz', 4)), (3, {'Aliz': 3}), (4, ['Anil', 6])])\n",
      "{1: ('Aaryan', 5), 2: ('Aatiz', 4), 3: {'Aliz': 3}, 4: ['Anil', 6]}\n"
     ]
    }
   ],
   "source": [
    "students1 = {\n",
    "    1: ('Aaryan', 5),\n",
    "    2: ('Aatiz', 4),\n",
    "    3: {'Aliz': 3},\n",
    "    4: ['Anil', 6]\n",
    "}\n",
    "print(type(students1))\n",
    "print(students1.keys())\n",
    "print(students.values())\n",
    "print(students1.get(2))\n",
    "\n",
    "print(type(students1.get(2)))\n",
    "\n",
    "print(type(students1.get(3)))\n",
    "\n",
    "print(type(students1.get(4)))\n",
    "\n",
    "print(students1.items())\n",
    "\n",
    "print(students1)\n",
    "\n"
   ]
  },
  {
   "cell_type": "code",
   "execution_count": 33,
   "metadata": {},
   "outputs": [
    {
     "name": "stdout",
     "output_type": "stream",
     "text": [
      "1\n",
      "2\n",
      "3\n",
      "4\n",
      "('Aaryan', 5)\n",
      "('Aatiz', 4)\n",
      "{'Aliz': 3}\n",
      "['Anil', 6]\n",
      "('Aaryan', 5)\n",
      "('Aatiz', 4)\n",
      "{'Aliz': 3}\n",
      "['Anil', 6]\n"
     ]
    }
   ],
   "source": [
    "for x in students1:\n",
    "    print(x)\n",
    "\n",
    "\n",
    "for x in students1:\n",
    "    print(students1[x])\n",
    "\n",
    "\n",
    "for x in students1:\n",
    "    print(students1.get(x))"
   ]
  },
  {
   "cell_type": "code",
   "execution_count": 32,
   "metadata": {},
   "outputs": [
    {
     "name": "stdout",
     "output_type": "stream",
     "text": [
      "yes\n"
     ]
    }
   ],
   "source": [
    "if 2 in students1: print(\"yes\")"
   ]
  },
  {
   "cell_type": "code",
   "execution_count": 38,
   "metadata": {},
   "outputs": [
    {
     "name": "stdout",
     "output_type": "stream",
     "text": [
      "{1: ('Aaryan', 5), 2: ('Aatiz', 4), 3: {'Aliz': 3}, 4: ['Anil', 6], 5: {2, 'Anish'}}\n"
     ]
    }
   ],
   "source": [
    "students1.update({5:{'Anish', 2}})\n",
    "print(students1)"
   ]
  },
  {
   "cell_type": "code",
   "execution_count": 39,
   "metadata": {},
   "outputs": [
    {
     "name": "stdout",
     "output_type": "stream",
     "text": [
      "{1: ('Aaryan', 5), 2: ('Aatiz', 4), 3: {'Aliz': 3}, 4: ['Anil', 6], 5: {1, 'Bhanu'}}\n"
     ]
    }
   ],
   "source": [
    "students1.update({5: {'Bhanu', 1}})\n",
    "print(students1)"
   ]
  },
  {
   "cell_type": "code",
   "execution_count": 40,
   "metadata": {},
   "outputs": [
    {
     "name": "stdout",
     "output_type": "stream",
     "text": [
      "{1: ('Aaryan', 5), 2: ('Aatiz', 4), 3: {'Aliz': 3}, 4: ['Anil', 6]}\n"
     ]
    }
   ],
   "source": [
    "students1.popitem()\n",
    "print(students1)"
   ]
  },
  {
   "cell_type": "code",
   "execution_count": 44,
   "metadata": {},
   "outputs": [
    {
     "ename": "KeyError",
     "evalue": "5",
     "output_type": "error",
     "traceback": [
      "\u001b[0;31m---------------------------------------------------------------------------\u001b[0m",
      "\u001b[0;31mKeyError\u001b[0m                                  Traceback (most recent call last)",
      "Cell \u001b[0;32mIn[44], line 1\u001b[0m\n\u001b[0;32m----> 1\u001b[0m students1\u001b[39m.\u001b[39;49mpop(\u001b[39m5\u001b[39;49m)\n\u001b[1;32m      2\u001b[0m \u001b[39mprint\u001b[39m(students1)\n",
      "\u001b[0;31mKeyError\u001b[0m: 5"
     ]
    }
   ],
   "source": [
    "students1.pop(5)\n",
    "print(students1)"
   ]
  },
  {
   "cell_type": "code",
   "execution_count": 46,
   "metadata": {},
   "outputs": [
    {
     "name": "stdout",
     "output_type": "stream",
     "text": [
      "('Aaryan', 5)\n",
      "('Aatiz', 4)\n",
      "{'Aliz': 3}\n",
      "['Anil', 6]\n"
     ]
    }
   ],
   "source": [
    "for x in students1.values():\n",
    "    print(x)"
   ]
  },
  {
   "cell_type": "code",
   "execution_count": 49,
   "metadata": {},
   "outputs": [
    {
     "name": "stdout",
     "output_type": "stream",
     "text": [
      "{1: ('Aaryan', 5), 2: ('Aatiz', 4), 3: {'Aliz': 3}, 4: ['Anil', 6]}\n",
      "4624697600\n",
      "4551502912\n",
      "4551502912\n"
     ]
    }
   ],
   "source": [
    "students2 = students1.copy()    # Deep Copy\n",
    "students3 = students1           # Shallow Copy\n",
    "print(students2)\n",
    "\n",
    "print(id(students2))\n",
    "print(id(students1))\n",
    "print(id(students3))"
   ]
  },
  {
   "cell_type": "code",
   "execution_count": 51,
   "metadata": {},
   "outputs": [
    {
     "name": "stdout",
     "output_type": "stream",
     "text": [
      "{1: 'ram', 2: 'shyam'}\n",
      "<class 'dict'>\n"
     ]
    }
   ],
   "source": [
    "dict1 = dict({1:\"ram\", 2:\"shyam\"})\n",
    "print(dict1)\n",
    "print(type(dict1))"
   ]
  },
  {
   "cell_type": "code",
   "execution_count": 60,
   "metadata": {},
   "outputs": [
    {
     "name": "stdout",
     "output_type": "stream",
     "text": [
      "{1: 'ram', 2: 'shyam'}\n",
      "<class 'dict'>\n",
      "<class 'dict'>\n",
      "{1: 'ram', 2: 'shyam'}\n",
      "{'name': 'John', 'age': 36, 'country': 'Norway'}\n",
      "<class 'dict'>\n"
     ]
    }
   ],
   "source": [
    "# using constructor function\n",
    "\n",
    "dict1 = dict({(1,\"ram\"), (2,\"shyam\")}) #  dict1 = dict([(1,\"ram\"), (2,\"shyam\")]) . OR dict1 = dict(((1,\"ram\"), (2,\"shyam\")))\n",
    "print(dict1)\n",
    "print(type(dict1))"
   ]
  },
  {
   "cell_type": "code",
   "execution_count": 61,
   "metadata": {},
   "outputs": [
    {
     "name": "stdout",
     "output_type": "stream",
     "text": [
      "<class 'dict'>\n",
      "{1: 'ram', 2: 'shyam'}\n"
     ]
    }
   ],
   "source": [
    "dict2 = dict(([1,\"ram\"], [2,\"shyam\"]))\n",
    "print(type(dict2))\n",
    "print(dict2)"
   ]
  },
  {
   "cell_type": "code",
   "execution_count": 67,
   "metadata": {},
   "outputs": [
    {
     "name": "stdout",
     "output_type": "stream",
     "text": [
      "{'a1': 'John', 'b2': '36', 'c3': 'Norway'}\n",
      "<class 'dict'>\n"
     ]
    }
   ],
   "source": [
    "dict3 = dict(a1 = \"John\", b2 = '36', c3 = \"Norway\")\n",
    "print(dict3)\n",
    "print(type(dict3))"
   ]
  }
 ],
 "metadata": {
  "kernelspec": {
   "display_name": "py3.11",
   "language": "python",
   "name": "python3"
  },
  "language_info": {
   "codemirror_mode": {
    "name": "ipython",
    "version": 3
   },
   "file_extension": ".py",
   "mimetype": "text/x-python",
   "name": "python",
   "nbconvert_exporter": "python",
   "pygments_lexer": "ipython3",
   "version": "3.11.4"
  },
  "orig_nbformat": 4
 },
 "nbformat": 4,
 "nbformat_minor": 2
}
