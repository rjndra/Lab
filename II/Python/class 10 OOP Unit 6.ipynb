{
 "cells": [
  {
   "cell_type": "markdown",
   "metadata": {},
   "source": [
    "Object Oriente Programming."
   ]
  },
  {
   "cell_type": "code",
   "execution_count": 35,
   "metadata": {},
   "outputs": [],
   "source": [
    "class Student:\n",
    "\n",
    "    institution = \"SMS TU\"\n",
    "\n",
    "    def __init__(self, n, r): # its magic method acts as constructor\n",
    "        self.name = n\n",
    "        self.roll_number = r\n",
    "\n",
    "    def set_marks(self, m): \n",
    "        self._marks = m\n",
    "\n",
    "    def percentage(self):\n",
    "        total = sum(self._marks)\n",
    "        percentage = total/5\n",
    "        return percentage\n",
    "    \n",
    "    @classmethod\n",
    "    def change_instituion(cls, new):\n",
    "        cls.institution = new"
   ]
  },
  {
   "cell_type": "code",
   "execution_count": null,
   "metadata": {},
   "outputs": [],
   "source": [
    "# Class Varibale\n",
    "Student.institution = \"School Of Mathemnatics\""
   ]
  },
  {
   "cell_type": "code",
   "execution_count": 36,
   "metadata": {},
   "outputs": [
    {
     "name": "stdout",
     "output_type": "stream",
     "text": [
      "Percentage =  72.4\n",
      "Kathmandu\n",
      "SMS TU\n",
      "SMS TU\n",
      "Hari\n"
     ]
    },
    {
     "ename": "AttributeError",
     "evalue": "'Student' object has no attribute 'name'",
     "output_type": "error",
     "traceback": [
      "\u001b[0;31m---------------------------------------------------------------------------\u001b[0m",
      "\u001b[0;31mAttributeError\u001b[0m                            Traceback (most recent call last)",
      "\u001b[1;32m/Users/rajendrakarki/Workspace/Lab/II/Python/class 10 OOP Unit 6.ipynb Cell 3\u001b[0m line \u001b[0;36m1\n\u001b[1;32m     <a href='vscode-notebook-cell:/Users/rajendrakarki/Workspace/Lab/II/Python/class%2010%20OOP%20Unit%206.ipynb#W2sZmlsZQ%3D%3D?line=10'>11</a>\u001b[0m \u001b[39mprint\u001b[39m(s2\u001b[39m.\u001b[39minstitution)\n\u001b[1;32m     <a href='vscode-notebook-cell:/Users/rajendrakarki/Workspace/Lab/II/Python/class%2010%20OOP%20Unit%206.ipynb#W2sZmlsZQ%3D%3D?line=11'>12</a>\u001b[0m \u001b[39mprint\u001b[39m(s2\u001b[39m.\u001b[39mname)\n\u001b[0;32m---> <a href='vscode-notebook-cell:/Users/rajendrakarki/Workspace/Lab/II/Python/class%2010%20OOP%20Unit%206.ipynb#W2sZmlsZQ%3D%3D?line=12'>13</a>\u001b[0m \u001b[39mprint\u001b[39m(s1\u001b[39m.\u001b[39;49mname)\n",
      "\u001b[0;31mAttributeError\u001b[0m: 'Student' object has no attribute 'name'"
     ]
    }
   ],
   "source": [
    "s1 = Student('Ram', 1)\n",
    "s1.set_marks([47, 90, 67, 78, 80])\n",
    "print(\"Percentage = \", s1.percentage())\n",
    "# s1._marks\n",
    "s1.address = 'Kathmandu'\n",
    "print(s1.address)\n",
    "del s1.name\n",
    "s2 = Student('Hari', 2)\n",
    "\n",
    "print(s1.institution)\n",
    "print(s2.institution)\n",
    "print(s2.name)\n",
    "print(s1.name)"
   ]
  },
  {
   "cell_type": "code",
   "execution_count": 21,
   "metadata": {},
   "outputs": [],
   "source": [
    "class Students:\n",
    "    def set_values(self, n, r, m):\n",
    "        self.name = n\n",
    "        self.roll_number = r\n",
    "        self.marks = m\n",
    "\n",
    "    def percentage(self):\n",
    "        total = sum(self.marks)\n",
    "        percentage = total/5\n",
    "        return percentage"
   ]
  },
  {
   "cell_type": "code",
   "execution_count": 22,
   "metadata": {},
   "outputs": [
    {
     "name": "stdout",
     "output_type": "stream",
     "text": [
      "Percentage =  56.8\n"
     ]
    }
   ],
   "source": [
    "s2 = Students()\n",
    "s2.set_values('Ram',1, [47, 90, 67, 80])\n",
    "print(\"Percentage = \", s2.percentage())"
   ]
  },
  {
   "cell_type": "code",
   "execution_count": null,
   "metadata": {},
   "outputs": [],
   "source": []
  }
 ],
 "metadata": {
  "kernelspec": {
   "display_name": "py3.11",
   "language": "python",
   "name": "python3"
  },
  "language_info": {
   "codemirror_mode": {
    "name": "ipython",
    "version": 3
   },
   "file_extension": ".py",
   "mimetype": "text/x-python",
   "name": "python",
   "nbconvert_exporter": "python",
   "pygments_lexer": "ipython3",
   "version": "3.11.4"
  },
  "orig_nbformat": 4
 },
 "nbformat": 4,
 "nbformat_minor": 2
}
