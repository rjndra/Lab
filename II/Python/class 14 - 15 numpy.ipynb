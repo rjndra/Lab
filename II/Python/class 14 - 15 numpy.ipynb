{
 "cells": [
  {
   "cell_type": "code",
   "execution_count": 1,
   "metadata": {},
   "outputs": [],
   "source": [
    "import numpy as np"
   ]
  },
  {
   "cell_type": "code",
   "execution_count": 3,
   "metadata": {},
   "outputs": [
    {
     "name": "stdout",
     "output_type": "stream",
     "text": [
      "<class 'numpy.ndarray'>\n",
      "[1 2 4]\n"
     ]
    }
   ],
   "source": [
    "arr = np.array([1,2,4])\n",
    "print(type(arr))\n",
    "print(arr)"
   ]
  },
  {
   "cell_type": "code",
   "execution_count": 4,
   "metadata": {},
   "outputs": [
    {
     "name": "stdout",
     "output_type": "stream",
     "text": [
      "[1 2 4 5]\n"
     ]
    }
   ],
   "source": [
    "from numpy import array\n",
    "\n",
    "arr2 = array([1,2,4,5])\n",
    "print(arr2)"
   ]
  },
  {
   "cell_type": "code",
   "execution_count": 2,
   "metadata": {},
   "outputs": [
    {
     "name": "stdout",
     "output_type": "stream",
     "text": [
      "0\n",
      "1\n",
      "2\n",
      "3\n"
     ]
    }
   ],
   "source": [
    "a = np.array(42)\n",
    "b = np.array([1, 2, 3, 4, 5])\n",
    "c = np.array([[1, 2, 3], [4, 5, 6]])\n",
    "d = np.array([[[1, 2, 3], [4, 5, 6]], [[1, 2, 3], [4, 5, 6]]])\n",
    "print(a.ndim)\n",
    "print(b.ndim)\n",
    "print(c.ndim)\n",
    "print(d.ndim)"
   ]
  },
  {
   "cell_type": "code",
   "execution_count": 3,
   "metadata": {},
   "outputs": [
    {
     "name": "stdout",
     "output_type": "stream",
     "text": [
      "6\n"
     ]
    }
   ],
   "source": [
    "c = np.array([[1,2,3],[4,5,6]])\n",
    "print(c.size)"
   ]
  },
  {
   "cell_type": "code",
   "execution_count": 6,
   "metadata": {},
   "outputs": [
    {
     "name": "stdout",
     "output_type": "stream",
     "text": [
      "[[ 1  2  3]\n",
      " [ 4  5  6]\n",
      " [ 7  8  9]\n",
      " [10 11 12]]\n"
     ]
    }
   ],
   "source": [
    "arr = np.array([1, 2, 3, 4, 5, 6, 7, 8, 9, 10, 11, 12])\n",
    "newarr = arr.reshape(4, 3)\n",
    "print(newarr)"
   ]
  },
  {
   "cell_type": "code",
   "execution_count": 7,
   "metadata": {},
   "outputs": [
    {
     "name": "stdout",
     "output_type": "stream",
     "text": [
      "[1 2 3 4 5 6 7 8]\n"
     ]
    }
   ],
   "source": [
    "arr = np.array([[[1, 2], [3, 4]], [[5, 6], [7, 8]]])\n",
    "newarr = arr.reshape(-1)\n",
    "print(newarr)"
   ]
  },
  {
   "cell_type": "code",
   "execution_count": 8,
   "metadata": {},
   "outputs": [
    {
     "name": "stdout",
     "output_type": "stream",
     "text": [
      "2\n"
     ]
    }
   ],
   "source": [
    "arr = np.array([[1,2,3,4,5], [6,7,8,9,10]])\n",
    "print(arr[0, 1])"
   ]
  },
  {
   "cell_type": "code",
   "execution_count": 9,
   "metadata": {},
   "outputs": [
    {
     "name": "stdout",
     "output_type": "stream",
     "text": [
      "[5 6]\n"
     ]
    }
   ],
   "source": [
    "arr = np.array([1, 2, 3, 4, 5, 6, 7])\n",
    "print(arr[-3:-1])"
   ]
  },
  {
   "cell_type": "markdown",
   "metadata": {},
   "source": [
    "### Class 15 Numpy continue"
   ]
  },
  {
   "cell_type": "code",
   "execution_count": 5,
   "metadata": {},
   "outputs": [
    {
     "name": "stdout",
     "output_type": "stream",
     "text": [
      "234\n",
      "1\n"
     ]
    },
    {
     "data": {
      "text/plain": [
       "array([[164797,   3299],\n",
       "       [  3299,     71]])"
      ]
     },
     "execution_count": 5,
     "metadata": {},
     "output_type": "execute_result"
    }
   ],
   "source": [
    "arr3 = np.array([[23, 234, 234, 234], [1, 3,5 ,6 ]])\n",
    "\n",
    "print(arr3[0,1])\n",
    "arr3T = arr3.T\n",
    "print(arr3T[0,1])\n",
    "np.dot(arr3, arr3T)\n",
    "\n",
    "arr3.dot(arr3T)"
   ]
  },
  {
   "cell_type": "code",
   "execution_count": 6,
   "metadata": {},
   "outputs": [
    {
     "name": "stdout",
     "output_type": "stream",
     "text": [
      "2\n",
      "1\n"
     ]
    }
   ],
   "source": [
    "print(arr3.ndim)\n",
    "print(arr2.ndim)"
   ]
  },
  {
   "cell_type": "code",
   "execution_count": 8,
   "metadata": {},
   "outputs": [
    {
     "name": "stdout",
     "output_type": "stream",
     "text": [
      "[[1 5]\n",
      " [4 8]]\n"
     ]
    }
   ],
   "source": [
    "arr4 = np.array([[1,5], [4,8]])\n",
    "print(arr4)"
   ]
  },
  {
   "cell_type": "code",
   "execution_count": 12,
   "metadata": {},
   "outputs": [
    {
     "name": "stdout",
     "output_type": "stream",
     "text": [
      "[[[1. 1. 1. 1. 1. 1. 1.]\n",
      "  [1. 1. 1. 1. 1. 1. 1.]\n",
      "  [1. 1. 1. 1. 1. 1. 1.]]\n",
      "\n",
      " [[1. 1. 1. 1. 1. 1. 1.]\n",
      "  [1. 1. 1. 1. 1. 1. 1.]\n",
      "  [1. 1. 1. 1. 1. 1. 1.]]]\n",
      "[[[0. 0. 0. 0. 0. 0. 0.]\n",
      "  [0. 0. 0. 0. 0. 0. 0.]\n",
      "  [0. 0. 0. 0. 0. 0. 0.]]\n",
      "\n",
      " [[0. 0. 0. 0. 0. 0. 0.]\n",
      "  [0. 0. 0. 0. 0. 0. 0.]\n",
      "  [0. 0. 0. 0. 0. 0. 0.]]]\n",
      "[1.96113716 2.37439468 6.97204015]\n"
     ]
    }
   ],
   "source": [
    "arr5 = np.ones((2, 3, 7))\n",
    "print(arr5)\n",
    "\n",
    "arr6 = np.zeros((2, 3, 7))\n",
    "print(arr6)\n",
    "\n",
    "\n",
    "arr7 = np.random.normal((2, 3, 7))\n",
    "print(arr7)"
   ]
  },
  {
   "cell_type": "code",
   "execution_count": 13,
   "metadata": {},
   "outputs": [
    {
     "name": "stdout",
     "output_type": "stream",
     "text": [
      "3\n",
      "(2, 3, 5)\n",
      "30\n"
     ]
    },
    {
     "data": {
      "text/plain": [
       "array([[[0.60880528, 0.65362481, 0.97350127, 0.19143223, 0.22899657],\n",
       "        [0.29549562, 0.22570652, 0.58549267, 0.68298819, 0.43142345],\n",
       "        [0.78174513, 0.47344909, 0.09002881, 0.77587305, 0.88491915]],\n",
       "\n",
       "       [[0.72468023, 0.66929085, 0.0140326 , 0.41686563, 0.39308361],\n",
       "        [0.65203456, 0.46192679, 0.11329841, 0.21798222, 0.78150174],\n",
       "        [0.28495226, 0.84141801, 0.21895488, 0.29930463, 0.39365279]]])"
      ]
     },
     "execution_count": 13,
     "metadata": {},
     "output_type": "execute_result"
    }
   ],
   "source": [
    "arr3d = np.random.random((2,3,5))\n",
    "print(arr3d.ndim)\n",
    "print(arr3d.shape)\n",
    "print(arr3d.size)\n",
    "arr3d"
   ]
  },
  {
   "cell_type": "code",
   "execution_count": 17,
   "metadata": {},
   "outputs": [
    {
     "name": "stdout",
     "output_type": "stream",
     "text": [
      "1\n",
      "[[0.60880528 0.65362481 0.97350127 0.19143223 0.22899657 0.29549562]\n",
      " [0.22570652 0.58549267 0.68298819 0.43142345 0.78174513 0.47344909]\n",
      " [0.09002881 0.77587305 0.88491915 0.72468023 0.66929085 0.0140326 ]\n",
      " [0.41686563 0.39308361 0.65203456 0.46192679 0.11329841 0.21798222]\n",
      " [0.78150174 0.28495226 0.84141801 0.21895488 0.29930463 0.39365279]]\n"
     ]
    }
   ],
   "source": [
    "arr3dr = arr3d.reshape(-1)\n",
    "print(arr3dr.ndim)\n",
    "arr3drr = arr3d.reshape(5,6)\n",
    "print(arr3drr)"
   ]
  },
  {
   "cell_type": "code",
   "execution_count": 30,
   "metadata": {},
   "outputs": [
    {
     "name": "stdout",
     "output_type": "stream",
     "text": [
      "[[1 2 3 4]\n",
      " [5 6 7 8]]\n",
      "3\n",
      "[2 4]\n",
      "[6 7]\n",
      "[6 7 8]\n",
      "[3 7]\n"
     ]
    }
   ],
   "source": [
    "arr8 = np.array([[1,2,3,4], [5,6,7,8]])\n",
    "print(arr8)\n",
    "print(arr8[0,-2])\n",
    "\n",
    "arr9 = np.array([1,2,3,4,5,6,7,8])\n",
    "print(arr9[1:5:2])\n",
    "print(arr9[-3:-1])\n",
    "\n",
    "print(arr8[1,1:4])\n",
    "\n",
    "print(arr8[0:2, 2])"
   ]
  },
  {
   "cell_type": "code",
   "execution_count": 10,
   "metadata": {},
   "outputs": [
    {
     "name": "stdout",
     "output_type": "stream",
     "text": [
      "None\n",
      "[1 2 3 4 5]\n"
     ]
    }
   ],
   "source": [
    "arr = np.array([1, 2, 3, 4, 5])\n",
    "x = arr.copy()\n",
    "y = arr.view()\n",
    "print(x.base)\n",
    "print(y.base)"
   ]
  },
  {
   "cell_type": "code",
   "execution_count": 31,
   "metadata": {},
   "outputs": [
    {
     "name": "stdout",
     "output_type": "stream",
     "text": [
      "55\n"
     ]
    }
   ],
   "source": [
    "# write a program to find sum and average of 10 numbers stored in numpy array.\n",
    "\n",
    "nparray = np.array([1,2,3,4,5,6,7,8,9,10])\n",
    "sumarr = nparray.sum()\n",
    "print(sumarr)"
   ]
  },
  {
   "cell_type": "code",
   "execution_count": 43,
   "metadata": {},
   "outputs": [
    {
     "name": "stdout",
     "output_type": "stream",
     "text": [
      "[ 2  4  6  8 10 12 14 16 18 20]\n",
      "[ 2  4  6  8 10 12 14 16 18 20]\n"
     ]
    }
   ],
   "source": [
    "# write a program to find sum of two matrices.\n",
    "\n",
    "nparray1 = np.array([1,2,3,4,5,6,7,8,9,10])\n",
    "nparray2 = np.array([1,2,3,4,5,6,7,8,9,10])\n",
    "\n",
    "sumA = np.array([0,0,0,0,0,0,0,0,0,0], ndmin=1)\n",
    "for (index, value) in enumerate(nparray1):\n",
    "    sumB = nparray1[index]+nparray2[index]\n",
    "    sumA[index] = sumB\n",
    "print(sumA)\n",
    "\n",
    "print(np.add(nparray1, nparray2))"
   ]
  },
  {
   "cell_type": "code",
   "execution_count": 16,
   "metadata": {},
   "outputs": [
    {
     "name": "stdout",
     "output_type": "stream",
     "text": [
      "1\n",
      "4\n",
      "5\n",
      "8\n"
     ]
    }
   ],
   "source": [
    "arr = np.array([[1, 2, 3, 4], [5, 6, 7, 8], [9, 10, 11, 12]])\n",
    "for x in np.nditer(arr[0:2, 0::3]):\n",
    "    print(x)"
   ]
  }
 ],
 "metadata": {
  "kernelspec": {
   "display_name": "py3.11",
   "language": "python",
   "name": "python3"
  },
  "language_info": {
   "codemirror_mode": {
    "name": "ipython",
    "version": 3
   },
   "file_extension": ".py",
   "mimetype": "text/x-python",
   "name": "python",
   "nbconvert_exporter": "python",
   "pygments_lexer": "ipython3",
   "version": "3.11.4"
  },
  "orig_nbformat": 4
 },
 "nbformat": 4,
 "nbformat_minor": 2
}
