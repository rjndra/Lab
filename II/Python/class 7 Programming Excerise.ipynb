{
 "cells": [
  {
   "cell_type": "markdown",
   "metadata": {},
   "source": [
    "1. Write a program to print \"hello World.\""
   ]
  },
  {
   "cell_type": "code",
   "execution_count": null,
   "metadata": {},
   "outputs": [],
   "source": [
    "print('Hello World!!!')"
   ]
  },
  {
   "cell_type": "markdown",
   "metadata": {},
   "source": [
    "2. Write a program to find sum of two numbers. Use input() function to take input from the user."
   ]
  },
  {
   "cell_type": "code",
   "execution_count": 3,
   "metadata": {},
   "outputs": [
    {
     "name": "stdout",
     "output_type": "stream",
     "text": [
      "Sum of 1.0 and 3.0 = 4.0\n"
     ]
    }
   ],
   "source": [
    "a = float(input('Enter a:'))\n",
    "b = float(input('Enter b:'))\n",
    "\n",
    "sum = a + b\n",
    "print(f'Sum of {a} and {b} = {sum}')"
   ]
  },
  {
   "cell_type": "markdown",
   "metadata": {},
   "source": [
    "3. Write a program to calculate discount on the basis of following assumption:\n",
    "   a) If purchased amount is greater than or equal to 1000, discount is 5%"
   ]
  },
  {
   "cell_type": "code",
   "execution_count": 4,
   "metadata": {},
   "outputs": [
    {
     "name": "stdout",
     "output_type": "stream",
     "text": [
      "Purchase Amount: 5000.0\n",
      "Discount Amount: 250.0\n",
      "Final Amount: 4750.0\n"
     ]
    }
   ],
   "source": [
    "pa = float(input('Enter purchase amount:'))\n",
    "\n",
    "discount = 0\n",
    "if pa >= 1000:\n",
    "    discount = 5\n",
    "\n",
    "discountAmount = pa*discount/100\n",
    "\n",
    "discountedPrice = pa - discountAmount\n",
    "print(f'Purchase Amount: {pa}')\n",
    "print(f'Discount Amount: {discountAmount}')\n",
    "print(f'Final Amount: {discountedPrice}')"
   ]
  },
  {
   "cell_type": "markdown",
   "metadata": {},
   "source": [
    "4. Write a program to calculate discount on the basis of following assumption:\n",
    "   a) If purchased amount is greater than or equal to 1000, discount is 5%\n",
    "   b) If purchased amount is less than 1000, discount is 3%"
   ]
  },
  {
   "cell_type": "code",
   "execution_count": 5,
   "metadata": {},
   "outputs": [
    {
     "name": "stdout",
     "output_type": "stream",
     "text": [
      "Purchase Amount: 500.0\n",
      "Discount Amount: 15.0\n",
      "Final Amount: 485.0\n"
     ]
    }
   ],
   "source": [
    "pa = float(input('Enter purchase amount:'))\n",
    "\n",
    "discount = 0\n",
    "if pa >= 1000:\n",
    "    discount = 5\n",
    "else:\n",
    "    discount = 3\n",
    "\n",
    "discountAmount = pa*discount/100\n",
    "\n",
    "discountedPrice = pa - discountAmount\n",
    "print(f'Purchase Amount: {pa}')\n",
    "print(f'Discount Amount: {discountAmount}')\n",
    "print(f'Final Amount: {discountedPrice}')"
   ]
  },
  {
   "cell_type": "markdown",
   "metadata": {},
   "source": [
    "5. Write a program to calculate discount on the basis of following assumption:\n",
    "a) If purchased amount is greater than or equal to 5000, discount is 10%\n",
    "b) If purchased amount is greater than or equal to 4000 and less than 5000, discount is 7%\n",
    "c) If purchased amount is greater than or equal to 3000 and less than 4000, discount is 5%\n",
    "d) If purchased amount is greater than or equal to 2000 and less than 3000, discount is 3%\n",
    "e) If purchased amount is less than 2000, discount is 2%"
   ]
  },
  {
   "cell_type": "code",
   "execution_count": 6,
   "metadata": {},
   "outputs": [
    {
     "name": "stdout",
     "output_type": "stream",
     "text": [
      "Purchase Amount: 8000.0\n",
      "Discount Amount: 800.0\n",
      "Final Amount: 7200.0\n"
     ]
    }
   ],
   "source": [
    "pa = float(input('Enter purchase amount:'))\n",
    "\n",
    "discount = 0\n",
    "if pa >= 5000:\n",
    "    discount = 10\n",
    "elif pa >= 4000:\n",
    "    discount = 7\n",
    "elif pa >= 3000:\n",
    "    discount = 5\n",
    "elif pa >= 3000:\n",
    "    discount = 3\n",
    "else:\n",
    "    discount = 2\n",
    "\n",
    "discountAmount = pa*discount/100\n",
    "\n",
    "discountedPrice = pa - discountAmount\n",
    "print(f'Purchase Amount: {pa}')\n",
    "print(f'Discount Amount: {discountAmount}')\n",
    "print(f'Final Amount: {discountedPrice}')"
   ]
  },
  {
   "cell_type": "markdown",
   "metadata": {},
   "source": [
    "6. Write a program to calculate the simple interest on the basis of following assumption:\n",
    "a) If balance is greater than 99999, interest is 7 %\n",
    "b) If balance is greater than or equal to 50000 and less than 100000 interest is 5 %\n",
    "c) If balance is less than 50000, interest is 3%"
   ]
  },
  {
   "cell_type": "code",
   "execution_count": 7,
   "metadata": {},
   "outputs": [
    {
     "name": "stdout",
     "output_type": "stream",
     "text": [
      "Rate is 7%\n",
      "7000.0\n"
     ]
    }
   ],
   "source": [
    "a = int(input(\"Enter any amount to get simple interest\"))\n",
    "time = 1\n",
    "rate = 1\n",
    "if a > 99999:\n",
    "    rate = 7\n",
    "elif a >= 50000 and a < 100000:\n",
    "    rate = 5\n",
    "elif a < 50000:\n",
    "    rate = 3\n",
    "print(f'Rate is {rate}%')\n",
    "interest = a * time * rate /100\n",
    "print(interest)"
   ]
  },
  {
   "cell_type": "markdown",
   "metadata": {},
   "source": [
    "7. Write a program to test whether a number is even or odd."
   ]
  },
  {
   "cell_type": "code",
   "execution_count": 7,
   "metadata": {},
   "outputs": [
    {
     "name": "stdout",
     "output_type": "stream",
     "text": [
      "3 is odd\n"
     ]
    }
   ],
   "source": [
    "a = int(input('Enter a number:'))\n",
    "if a % 2 == 0 : print(f'{a} is even')\n",
    "else: print(f'{a} is odd')"
   ]
  },
  {
   "cell_type": "markdown",
   "metadata": {},
   "source": [
    "8. Admission to a professional course is subject to the following conditions:\n",
    "a) Marks in mathematics >=60\n",
    "b) Marks in physics >=50\n",
    "c) Marks in chemistry >=40\n",
    "d) Total in all three subjects >=200\n",
    "Or\n",
    "Total in mathematics and physics >=150\n",
    "Given the marks in three subjects, write a program to process the applications to list eligible candidates."
   ]
  },
  {
   "cell_type": "code",
   "execution_count": 8,
   "metadata": {},
   "outputs": [
    {
     "name": "stdout",
     "output_type": "stream",
     "text": [
      "The candidate is elligible for admissionin professional course\n"
     ]
    }
   ],
   "source": [
    "math = int(input(\"Enter marks in math: \"))\n",
    "physics = int(input(\"Enter marks in math: \"))\n",
    "chemistry = int(input(\"Enter marks in math: \"))\n",
    "getadmission = False\n",
    "if math >= 60:\n",
    "     getadmission = True\n",
    "elif physics >= 50:\n",
    "     getadmission = True\n",
    "elif chemistry >= 40:\n",
    "     getadmission = True\n",
    "elif (math+physics+chemistry) >= 200 or (math+physics) >= 150:\n",
    "     getadmission = True\n",
    "if getadmission:\n",
    "     print(\"The candidate is elligible for admissionin professional course\")\n",
    "else:\n",
    "     print(\"The candidate is not elligible for admissionin professional course\")"
   ]
  },
  {
   "cell_type": "markdown",
   "metadata": {},
   "source": [
    "9. The rates of tax on gross salary are as shown below:\n",
    "Income Tax\n",
    "Less than 10,000 Nill\n",
    "Rs. 10,000 to 19,999 10%\n",
    "Rs. 20,000 to 39,999 15%\n",
    "Rs. 40,000 to above 20%\n",
    "Write a program to compute the net salary after deducting the tax for the given information and print the same."
   ]
  },
  {
   "cell_type": "code",
   "execution_count": null,
   "metadata": {},
   "outputs": [],
   "source": []
  },
  {
   "cell_type": "markdown",
   "metadata": {},
   "source": [
    "10. Write a program to check whether a year entered is leap or not.\n",
    "Alogrithm:\n",
    "1. Divisible by 4\n",
    "2. Divis"
   ]
  },
  {
   "cell_type": "code",
   "execution_count": 12,
   "metadata": {},
   "outputs": [
    {
     "name": "stdout",
     "output_type": "stream",
     "text": [
      "2100 is not a leap year.\n"
     ]
    }
   ],
   "source": [
    "y = int(input('Enter year:'))\n",
    "\n",
    "if (y % 4 == 0) and ((y % 400 == 0) or ( y % 100 != 0)):\n",
    "    print(f'{y} is a Leap year.')\n",
    "else: \n",
    "    print(f'{y} is not a leap year.')"
   ]
  },
  {
   "cell_type": "markdown",
   "metadata": {},
   "source": [
    "\n",
    "11. Write a program to display “MDS” 10 times."
   ]
  },
  {
   "cell_type": "code",
   "execution_count": 13,
   "metadata": {},
   "outputs": [
    {
     "name": "stdout",
     "output_type": "stream",
     "text": [
      "MDS\n",
      "MDS\n",
      "MDS\n",
      "MDS\n",
      "MDS\n",
      "MDS\n",
      "MDS\n",
      "MDS\n",
      "MDS\n",
      "MDS\n"
     ]
    }
   ],
   "source": [
    "for i in range(10):\n",
    "    print(\"MDS\")"
   ]
  },
  {
   "cell_type": "markdown",
   "metadata": {},
   "source": [
    "\n",
    "12. Write a program to find sum and average of 10 numbers stored in a list. "
   ]
  },
  {
   "cell_type": "code",
   "execution_count": 18,
   "metadata": {},
   "outputs": [
    {
     "name": "stdout",
     "output_type": "stream",
     "text": [
      "0. Number: 23\n",
      "1. Number: 23\n",
      "2. Number: 234\n",
      "3. Number: 234\n",
      "4. Number: 234\n",
      "5. Number: 234\n",
      "6. Number: 23423\n",
      "7. Number: 234\n",
      "8. Number: 23\n",
      "9. Number: 3\n",
      "Sum of [23, 23, 234, 234, 234, 234, 23423, 234, 23, 3] = 24665\n",
      "Avergate of [23, 23, 234, 234, 234, 234, 23423, 234, 23, 3] = 2466.5\n"
     ]
    }
   ],
   "source": [
    "# myList = [1,45,634,345,23,23,23,523,234,12]\n",
    "myList = []\n",
    "for i in range(10):\n",
    "    number = int(input(f\"Enter {i+1}th number:\"))\n",
    "    print(f'Number {i+1}: {number}')\n",
    "    myList.append(number)\n",
    "\n",
    "mySum = sum(myList)\n",
    "averagevalue = mySum/len(myList)\n",
    "print(f'Sum of {myList} = {mySum}')\n",
    "print(f'Avergate of {myList} = {averagevalue}')"
   ]
  },
  {
   "cell_type": "markdown",
   "metadata": {},
   "source": [
    "13. Write a program to check whether a number is prime or not."
   ]
  },
  {
   "cell_type": "code",
   "execution_count": 27,
   "metadata": {},
   "outputs": [
    {
     "name": "stdout",
     "output_type": "stream",
     "text": [
      "5 is a Prime Number.\n"
     ]
    }
   ],
   "source": [
    "num = int(input('Enter a number:'))\n",
    "for x in range(2,int(num/2)+1):\n",
    "    if num % x == 0:\n",
    "        print(f'{num} is not a prime number.')\n",
    "        break\n",
    "else:\n",
    "    print(f'{num} is a Prime Number.')"
   ]
  },
  {
   "cell_type": "markdown",
   "metadata": {},
   "source": [
    "\n",
    "14. Write a program to display prime numbers up to 100. "
   ]
  },
  {
   "cell_type": "code",
   "execution_count": 26,
   "metadata": {},
   "outputs": [
    {
     "name": "stdout",
     "output_type": "stream",
     "text": [
      "Prime number form 1 to 100:\n",
      "1 2 3 5 7 11 13 17 19 23 29 31 37 41 43 47 53 59 61 67 71 73 79 83 89 97 "
     ]
    }
   ],
   "source": [
    "def checkPrime(num):\n",
    "    for x in range(2,int(num/2)+1):\n",
    "        if num % x == 0:\n",
    "            # print('Not a prime number.')\n",
    "            break\n",
    "    else:\n",
    "        print(f'{num}', end=\" \")\n",
    "        # print('Prime Number.')\n",
    "\n",
    "print('Prime number form 1 to 100:')\n",
    "for i in range(1,100):\n",
    "    checkPrime(i)"
   ]
  },
  {
   "cell_type": "markdown",
   "metadata": {},
   "source": [
    "\n",
    "15. Write a program to find sum of digits of a number."
   ]
  },
  {
   "cell_type": "code",
   "execution_count": 33,
   "metadata": {},
   "outputs": [
    {
     "name": "stdout",
     "output_type": "stream",
     "text": [
      "Sum of digits of 456 = 15\n"
     ]
    }
   ],
   "source": [
    "number = int(input('Enter a number:'))\n",
    "mySum = 0\n",
    "list_of_digits = [int(i) for i in str(number)]\n",
    "for i in list_of_digits:\n",
    "    mySum += i\n",
    "\n",
    "print(f'Sum of digits of {number} = {mySum}')"
   ]
  },
  {
   "cell_type": "markdown",
   "metadata": {},
   "source": [
    "\n",
    "15. Write a program to check whether a number is palindrome or not."
   ]
  },
  {
   "cell_type": "code",
   "execution_count": 18,
   "metadata": {},
   "outputs": [
    {
     "name": "stdout",
     "output_type": "stream",
     "text": [
      "131\n",
      "The number is pallindrome\n"
     ]
    }
   ],
   "source": [
    "number = int(input('Enter a number'))\n",
    "\n",
    "orginal = number\n",
    "reversed = 0\n",
    "while (number != 0):\n",
    "    remainder = number % 10\n",
    "    reversed = reversed * 10 + remainder\n",
    "    number = int(number/10)\n",
    "print(reversed)\n",
    "if reversed == orginal:\n",
    "    print(\"The number is pallindrome\")\n",
    "else:\n",
    "    print(\"The numebr is not pallindrome\")\n"
   ]
  },
  {
   "cell_type": "code",
   "execution_count": null,
   "metadata": {},
   "outputs": [],
   "source": [
    "# Python program to determine whether\n",
    "# the number is Armstrong number or not\n",
    "\n",
    "# Function to calculate x raised to \n",
    "# the power y\n",
    "def power(x, y):\n",
    "\t\n",
    "\tif y == 0:\n",
    "\t\treturn 1\n",
    "\tif y % 2 == 0:\n",
    "\t\treturn power(x, y // 2) * power(x, y // 2)\n",
    "\t\t\n",
    "\treturn x * power(x, y // 2) * power(x, y // 2)\n",
    "\n",
    "# Function to calculate order of the number\n",
    "def order(x):\n",
    "\n",
    "\t# Variable to store of the number\n",
    "\tn = 0\n",
    "\twhile (x != 0):\n",
    "\t\tn = n + 1\n",
    "\t\tx = x // 10\n",
    "\t\t\n",
    "\treturn n\n",
    "\n",
    "# Function to check whether the given \n",
    "# number is Armstrong number or not\n",
    "def isArmstrong(x):\n",
    "\t\n",
    "\tn = order(x)\n",
    "\ttemp = x\n",
    "\tsum1 = 0\n",
    "\t\n",
    "\twhile (temp != 0):\n",
    "\t\tr = temp % 10\n",
    "\t\tsum1 = sum1 + power(r, n)\n",
    "\t\ttemp = temp // 10\n",
    "\n",
    "\t# If condition satisfies\n",
    "\treturn (sum1 == x)\n",
    "\n",
    "# Driver code\n",
    "x = 153\n",
    "print(isArmstrong(x))\n",
    "\n",
    "x = 1253\n",
    "print(isArmstrong(x))\n"
   ]
  },
  {
   "cell_type": "markdown",
   "metadata": {},
   "source": [
    "\n",
    "16. Write a program to check if a number is Armstrong Number or not."
   ]
  },
  {
   "cell_type": "markdown",
   "metadata": {},
   "source": [
    "\n",
    "17. Write a program to count number of vowels in a string."
   ]
  },
  {
   "cell_type": "markdown",
   "metadata": {},
   "source": [
    "18. Write a program to find smallest and largest number among 10 numbers stored in a list."
   ]
  },
  {
   "cell_type": "markdown",
   "metadata": {},
   "source": [
    "19. Write a program to count even numbers and odd numbers stored in a list."
   ]
  },
  {
   "cell_type": "markdown",
   "metadata": {},
   "source": [
    "20. Write a program to find sum of two matrices."
   ]
  },
  {
   "cell_type": "code",
   "execution_count": 33,
   "metadata": {},
   "outputs": [
    {
     "name": "stdout",
     "output_type": "stream",
     "text": [
      "[10, 13, 10, 8]\n",
      "[10, 10, 10]\n",
      "[10, 10, 10]\n"
     ]
    }
   ],
   "source": [
    "# Program to add two matrices using nested loop\n",
    "\n",
    "X = [[1,5,3,4],\n",
    "\t[4 ,5,6],\n",
    "\t[7 ,8,9]]\n",
    "\n",
    "Y = [[9,8,7,4],\n",
    "\t[6,5,4],\n",
    "\t[3,2,1]]\n",
    "\n",
    "\n",
    "result = [[0,0,0,0],\n",
    "\t\t[0,0,0],\n",
    "\t\t[0,0,0]]\n",
    "\n",
    "# iterate through rows\n",
    "for i in range(len(X)): \n",
    "# iterate through columns\n",
    "\tfor j in range(len(X[i])):\n",
    "\t\tresult[i][j] = X[i][j] + Y[i][j]\n",
    "\n",
    "for r in result:\n",
    "\tprint(r)\n"
   ]
  },
  {
   "cell_type": "markdown",
   "metadata": {},
   "source": [
    "21. Write a program to find product of two matrices."
   ]
  },
  {
   "cell_type": "code",
   "execution_count": 34,
   "metadata": {},
   "outputs": [
    {
     "name": "stdout",
     "output_type": "stream",
     "text": [
      "[9, 40, 21, 16]\n",
      "[24, 25, 24]\n",
      "[21, 16, 9]\n"
     ]
    }
   ],
   "source": [
    "X = [[1,5,3,4],\n",
    "\t[4 ,5,6],\n",
    "\t[7 ,8,9]]\n",
    "\n",
    "Y = [[9,8,7,4],\n",
    "\t[6,5,4],\n",
    "\t[3,2,1]]\n",
    "\n",
    "\n",
    "result = [[0,0,0,0],\n",
    "\t\t[0,0,0],\n",
    "\t\t[0,0,0]]\n",
    "\n",
    "# iterate through rows\n",
    "for i in range(len(X)): \n",
    "# iterate through columns\n",
    "\tfor j in range(len(X[i])):\n",
    "\t\tresult[i][j] = X[i][j] * Y[i][j]\n",
    "\n",
    "for r in result:\n",
    "\tprint(r)"
   ]
  },
  {
   "cell_type": "code",
   "execution_count": 35,
   "metadata": {},
   "outputs": [
    {
     "name": "stdout",
     "output_type": "stream",
     "text": [
      "[<map object at 0x10fdb9e10>, <map object at 0x10fdb9bd0>, <map object at 0x10fdbb820>]\n"
     ]
    }
   ],
   "source": [
    "# Program to add two matrices\n",
    "# using zip()\n",
    "\n",
    "X = [[1,2,3],\n",
    "\t[4 ,5,6],\n",
    "\t[7 ,8,9]]\n",
    "\n",
    "Y = [[9,8,7],\n",
    "\t[6,5,4],\n",
    "\t[3,2,1]]\n",
    "\n",
    "result = [map(sum, zip(*t)) for t in zip(X, Y)]\n",
    "\n",
    "print(result)\n"
   ]
  },
  {
   "cell_type": "markdown",
   "metadata": {},
   "source": [
    "22. Write a program using list comprehension to find sum of only even numbers."
   ]
  },
  {
   "cell_type": "markdown",
   "metadata": {},
   "source": [
    "23. Write a program using function with return type to find sum of two numbers."
   ]
  },
  {
   "cell_type": "markdown",
   "metadata": {},
   "source": [
    "24. Write a program using recursive function to find factorial of a number."
   ]
  },
  {
   "cell_type": "markdown",
   "metadata": {},
   "source": [
    "25. Write a program using recursive function to find nth Fibonacci number."
   ]
  },
  {
   "cell_type": "markdown",
   "metadata": {},
   "source": [
    "26. Create a class Rectangle containing instance variables length and breadth. The class also contains two instance methods area() and perimeter() to find area and perimeter of rectangles respectively. Use this class to find area and perimeter of two different rectangles."
   ]
  },
  {
   "cell_type": "code",
   "execution_count": 6,
   "metadata": {},
   "outputs": [
    {
     "name": "stdout",
     "output_type": "stream",
     "text": [
      "Aread of e1:  336\n",
      "Perimeter of e1:  76\n",
      "Aread of e2:  200\n",
      "Perimeter of e2:  60\n"
     ]
    }
   ],
   "source": [
    "class Rectangle:\n",
    "    def __init__(self, length, breadth):\n",
    "        self.length = length\n",
    "        self.breadth = breadth\n",
    "\n",
    "    def area(self):\n",
    "        area = self.length*self.breadth\n",
    "        return area\n",
    "    \n",
    "    def perimeter(self):\n",
    "        p = 2*(self.length+self.breadth)\n",
    "        return p\n",
    "    \n",
    "\n",
    "e1 = Rectangle(\n",
    "    length=14,\n",
    "    breadth=24\n",
    ")\n",
    "area1 = e1.area()\n",
    "print(\"Aread of e1: \", area1)\n",
    "\n",
    "print(\"Perimeter of e1: \", e1.perimeter())\n",
    "\n",
    "\n",
    "e2 = Rectangle(\n",
    "    length=10,\n",
    "    breadth=20\n",
    ")\n",
    "area2 = e2.area()\n",
    "print(\"Aread of e2: \", area2)\n",
    "\n",
    "print(\"Perimeter of e2: \", e2.perimeter())"
   ]
  },
  {
   "cell_type": "markdown",
   "metadata": {},
   "source": [
    "27. Create a class Circle containing an instance variable radius. The class also contains two instance methods area() and circumference() to find area and circumference of circles respectively. Use this class to find area and circumference of two different circles. Use PI as a class variable."
   ]
  },
  {
   "cell_type": "code",
   "execution_count": 3,
   "metadata": {},
   "outputs": [
    {
     "name": "stdout",
     "output_type": "stream",
     "text": [
      "Area of circle:  78.5\n",
      "Circumference of circle:  31.400000000000002\n"
     ]
    }
   ],
   "source": [
    "class Circle:\n",
    "\n",
    "    PI = 3.14\n",
    "\n",
    "    def __init__(self, radius):\n",
    "        self.radius = radius\n",
    "\n",
    "    def area(self):\n",
    "        area = self.PI * self.radius*self.radius\n",
    "        return area\n",
    "    \n",
    "    def circumference(self):\n",
    "        p = 2*self.PI*self.radius\n",
    "        return p\n",
    "    \n",
    "\n",
    "e1 = Circle(radius=5)\n",
    "area1 = e1.area()\n",
    "print(\"Area of circle: \", area1)\n",
    "\n",
    "\n",
    "c1 = e1.circumference()\n",
    "print(\"Circumference of circle: \", c1)\n"
   ]
  },
  {
   "cell_type": "markdown",
   "metadata": {},
   "source": [
    "28. Create a class Box with instance variables width, height and depth. The class also contains instance methods volume() and surface_area() to find volume and surface area of boxes respectively. Use this class to find volume and surface area of two different boxes."
   ]
  },
  {
   "cell_type": "markdown",
   "metadata": {},
   "source": [
    "29. Create a class Time with three instance variables hours, minutes, and seconds. Add instance methods display() to display the time in hh:mm:ss format and add() to add two time objects. Use this class to add and display two different time objects."
   ]
  },
  {
   "cell_type": "markdown",
   "metadata": {},
   "source": [
    "30. Create a class Distance containing instance variables feet and inches. The class also contains instance methods add() and compare() to add and compare two distance objects respectively. Use this class to create two different distance objects and add and compare these two distance objects."
   ]
  },
  {
   "cell_type": "markdown",
   "metadata": {},
   "source": [
    "31. Create a class Student with instance variables name, roll_number, and marks in five subjects. Add three instance methods in this class to calculate total(), percentage(), and division() of the marks obtained by the students. Use this class to find total marks obtained, percentage, and division of five students."
   ]
  },
  {
   "cell_type": "markdown",
   "metadata": {},
   "source": [
    "\n",
    "32. Create a parent class Bonus with instance variables sales_id and sales_amount. Add get_bonus method that calculates a salesperson’s bonus using the foumula bonus = sales * 0.05. Create a child class named PremiumBonus from Bonus. The child class’s get_premium_bonus() method should calculate the bonus using the formula bonus = sales * 0.05 + (sales – 2500) * 0.01. Now, create an object of PremiumBonus class and use this object to find both bonus and premium bonus."
   ]
  },
  {
   "cell_type": "markdown",
   "metadata": {},
   "source": [
    "33. Overload + operator in Q.N.25 to add two distance objects."
   ]
  },
  {
   "cell_type": "markdown",
   "metadata": {},
   "source": [
    "34. Write a program that reads a text file and displays the following:\n",
    "a. Number of characters b. Number of vowels\n",
    "c. Number of consonants d. Number of words\n",
    "e. Number of lines"
   ]
  },
  {
   "cell_type": "code",
   "execution_count": 16,
   "metadata": {},
   "outputs": [
    {
     "name": "stdout",
     "output_type": "stream",
     "text": [
      "Length:  55\n",
      "Vowels:  15\n",
      "Number of words:  10\n",
      "Number of lines:  0\n"
     ]
    }
   ],
   "source": [
    "f = open('34_textFile.txt', 'rt')\n",
    "s = f.read()\n",
    "\n",
    "# number of characters:\n",
    "print('Length: ', len(s))\n",
    "\n",
    "# number of vowels:\n",
    "vcount = 0\n",
    "for x in s:\n",
    "    if x.lower() in {'a', 'e', 'i' , 'o', 'u'}:\n",
    "        vcount += 1\n",
    "print('Vowels: ', vcount)\n",
    "\n",
    "# number of words:\n",
    "numOfWords = len(s.split())\n",
    "print(\"Number of words: \", numOfWords)\n",
    "\n",
    "# number of lines:\n",
    "lines = 0 \n",
    "for x in f.read():\n",
    "    lines += 1\n",
    "print('Number of lines: ', lines)\n",
    "\n",
    "f.close()"
   ]
  },
  {
   "cell_type": "markdown",
   "metadata": {},
   "source": [
    "35. Write a program that reads a text file and writes its output in another text file. The output\n",
    "should contain\n",
    "a. Number of letters\n",
    "b. Number of digits, and"
   ]
  },
  {
   "cell_type": "code",
   "execution_count": null,
   "metadata": {},
   "outputs": [],
   "source": []
  },
  {
   "cell_type": "markdown",
   "metadata": {},
   "source": [
    "39. Write a program to find sum and average of numbers stored in file. Create a separate fule to write output."
   ]
  },
  {
   "cell_type": "code",
   "execution_count": 20,
   "metadata": {},
   "outputs": [
    {
     "name": "stdout",
     "output_type": "stream",
     "text": [
      "[23, 89, 34, 56, 78, 90, 12]\n"
     ]
    }
   ],
   "source": [
    "f = open('numbers.txt', 'rt')\n",
    "count = 0 \n",
    "data = []\n",
    "for x in f:\n",
    "    data.append(int(x))\n",
    "    count += 1\n",
    "print(data)   \n",
    "newSum = sum(data)\n",
    "avg = newSum/count\n",
    "f.close()\n",
    "\n",
    "f = open('newSumAverage.txt', 'wt')\n",
    "f.write(f\"Sum = {newSum} \\n Avergae = {avg}\")\n",
    "f.close()"
   ]
  },
  {
   "cell_type": "code",
   "execution_count": 22,
   "metadata": {},
   "outputs": [
    {
     "data": {
      "text/plain": [
       "8"
      ]
     },
     "execution_count": 22,
     "metadata": {},
     "output_type": "execute_result"
    }
   ],
   "source": []
  }
 ],
 "metadata": {
  "kernelspec": {
   "display_name": "py3.11",
   "language": "python",
   "name": "python3"
  },
  "language_info": {
   "codemirror_mode": {
    "name": "ipython",
    "version": 3
   },
   "file_extension": ".py",
   "mimetype": "text/x-python",
   "name": "python",
   "nbconvert_exporter": "python",
   "pygments_lexer": "ipython3",
   "version": "3.11.4"
  },
  "orig_nbformat": 4
 },
 "nbformat": 4,
 "nbformat_minor": 2
}
