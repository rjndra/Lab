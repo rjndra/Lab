{
 "cells": [
  {
   "cell_type": "code",
   "execution_count": 12,
   "metadata": {},
   "outputs": [
    {
     "name": "stdout",
     "output_type": "stream",
     "text": [
      "{'banana', 'apple', 'cherry'}\n"
     ]
    }
   ],
   "source": [
    "fruits = {'banana', 'cherry', 'apple'}\n",
    "print(fruits)"
   ]
  },
  {
   "cell_type": "code",
   "execution_count": 11,
   "metadata": {},
   "outputs": [
    {
     "name": "stdout",
     "output_type": "stream",
     "text": [
      "{'cherry', 'apple', 'banana'}\n"
     ]
    }
   ],
   "source": [
    "fruits = {'apple', 'cherry', 'banana'}\n",
    "print(fruits)"
   ]
  },
  {
   "cell_type": "code",
   "execution_count": 19,
   "metadata": {},
   "outputs": [
    {
     "name": "stdout",
     "output_type": "stream",
     "text": [
      "{'cherry', 'papaya', 'mango', 'banana', 'apple', 'pineapple'}\n",
      "{'apple', 'pineapple', 'cherry', 'papaya', 'mango', 'banana'}\n",
      "{'cherry'}\n",
      "{'cherry'}\n"
     ]
    }
   ],
   "source": [
    "fruits1 = {'apple', 'cherry', 'banana'}\n",
    "fruits2 = {'pineapple', 'mango', 'papaya'}\n",
    "fruits1.update(fruits2) # updates origin set\n",
    "set3 = fruits1.union(fruits2) # doesnot update original set\n",
    "print(set3)\n",
    "print(fruits1)\n",
    "\n",
    "fruits1 = {'apple', 'cherry', 'banana'}\n",
    "fruits2 = {'pineapple', 'cherry', 'papaya'}\n",
    "fruits1.intersection_update(fruits2) # updates origin set\n",
    "set4 = fruits1.intersection(fruits2) # doesnot update original set\n",
    "print(set4)\n",
    "print(fruits1)"
   ]
  },
  {
   "cell_type": "code",
   "execution_count": 23,
   "metadata": {},
   "outputs": [
    {
     "name": "stdout",
     "output_type": "stream",
     "text": [
      "frozenset({'ram', 'shyam'})\n",
      "frozenset({'ram', 'shyam'})\n",
      "<class 'frozenset'>\n"
     ]
    }
   ],
   "source": [
    "fset = frozenset(['ram', 'shyam'])\n",
    "fset2 = frozenset(['ram', 'shyam', 'ram'])\n",
    "print(fset2)\n",
    "print(fset)\n",
    "print(type(fset))"
   ]
  }
 ],
 "metadata": {
  "kernelspec": {
   "display_name": "py3.11",
   "language": "python",
   "name": "python3"
  },
  "language_info": {
   "codemirror_mode": {
    "name": "ipython",
    "version": 3
   },
   "file_extension": ".py",
   "mimetype": "text/x-python",
   "name": "python",
   "nbconvert_exporter": "python",
   "pygments_lexer": "ipython3",
   "version": "3.11.4"
  },
  "orig_nbformat": 4
 },
 "nbformat": 4,
 "nbformat_minor": 2
}
