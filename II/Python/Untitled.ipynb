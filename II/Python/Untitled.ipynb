{
 "cells": [
  {
   "cell_type": "code",
   "execution_count": 1,
   "id": "c91c2f0f",
   "metadata": {},
   "outputs": [
    {
     "name": "stdout",
     "output_type": "stream",
     "text": [
      "Wrong Operator \n"
     ]
    }
   ],
   "source": [
    "a = int(input(\"Enter a: \"))\n",
    "b = int(input(\"Enter b:\"))\n",
    "op = input(\"Enter and operator:\")\n",
    "\n",
    "match op:\n",
    "    case \"+\":\n",
    "        print(a+b)\n",
    "    case \"-\":\n",
    "        print(a-b)\n",
    "    case \"*\":\n",
    "        print(a*b)\n",
    "    case \"/\":\n",
    "        print(a/b)\n",
    "    case _:\n",
    "        print(\"Wrong Operator\", op)"
   ]
  },
  {
   "cell_type": "code",
   "execution_count": null,
   "id": "51540526",
   "metadata": {},
   "outputs": [],
   "source": []
  }
 ],
 "metadata": {
  "kernelspec": {
   "display_name": "Python 3 (ipykernel)",
   "language": "python",
   "name": "python3"
  },
  "language_info": {
   "codemirror_mode": {
    "name": "ipython",
    "version": 3
   },
   "file_extension": ".py",
   "mimetype": "text/x-python",
   "name": "python",
   "nbconvert_exporter": "python",
   "pygments_lexer": "ipython3",
   "version": "3.11.4"
  }
 },
 "nbformat": 4,
 "nbformat_minor": 5
}
