{
 "cells": [
  {
   "cell_type": "code",
   "execution_count": 1,
   "metadata": {},
   "outputs": [
    {
     "name": "stdout",
     "output_type": "stream",
     "text": [
      "Ram is 34  years old.\n",
      "Shyam is 39  years old.\n"
     ]
    }
   ],
   "source": [
    "class Student:\n",
    "    def __init__(self, n ,a):\n",
    "        self.name = n\n",
    "        self.age = a\n",
    "\n",
    "    def display(self):\n",
    "        print(self.name, 'is', self.age, ' years old.')\n",
    "\n",
    "s1 = Student(\n",
    "    'Ram',\n",
    "    34\n",
    ")\n",
    "s2 = Student(\n",
    "    'Shyam',\n",
    "    39\n",
    ")\n",
    "s1.display()\n",
    "s2.display()"
   ]
  },
  {
   "cell_type": "code",
   "execution_count": 11,
   "metadata": {},
   "outputs": [
    {
     "name": "stdout",
     "output_type": "stream",
     "text": [
      "Collecting multipledispatch\n",
      "  Obtaining dependency information for multipledispatch from https://files.pythonhosted.org/packages/51/c0/00c9809d8b9346eb238a6bbd5f83e846a4ce4503da94a4c08cb7284c325b/multipledispatch-1.0.0-py3-none-any.whl.metadata\n",
      "  Downloading multipledispatch-1.0.0-py3-none-any.whl.metadata (3.8 kB)\n",
      "Downloading multipledispatch-1.0.0-py3-none-any.whl (12 kB)\n",
      "Installing collected packages: multipledispatch\n",
      "Successfully installed multipledispatch-1.0.0\n",
      "Note: you may need to restart the kernel to use updated packages.\n"
     ]
    }
   ],
   "source": [
    "pip install multipledispatch"
   ]
  },
  {
   "cell_type": "code",
   "execution_count": 13,
   "metadata": {},
   "outputs": [
    {
     "name": "stdout",
     "output_type": "stream",
     "text": [
      "Sum =  5\n",
      "Sum =  7\n",
      "Sum =  7.8999999999999995\n"
     ]
    }
   ],
   "source": [
    "from multipledispatch import dispatch\n",
    "\n",
    "@dispatch(int, int)\n",
    "def add(a,b):\n",
    "    return a +b\n",
    "\n",
    "@dispatch(int, int, int)\n",
    "def add(a, b, c):\n",
    "    return a + b + c\n",
    "\n",
    "@dispatch(float, float, float)\n",
    "def add(a, b, c):\n",
    "    return a + b + c\n",
    "\n",
    "\n",
    "print(\"Sum = \", add(2, 3))\n",
    "print(\"Sum = \", add(2, 3, 2))\n",
    "print(\"Sum = \", add(2.2, 3.4, 2.3))\n"
   ]
  },
  {
   "cell_type": "code",
   "execution_count": null,
   "metadata": {},
   "outputs": [],
   "source": []
  }
 ],
 "metadata": {
  "kernelspec": {
   "display_name": "py3.11",
   "language": "python",
   "name": "python3"
  },
  "language_info": {
   "codemirror_mode": {
    "name": "ipython",
    "version": 3
   },
   "file_extension": ".py",
   "mimetype": "text/x-python",
   "name": "python",
   "nbconvert_exporter": "python",
   "pygments_lexer": "ipython3",
   "version": "3.11.4"
  },
  "orig_nbformat": 4
 },
 "nbformat": 4,
 "nbformat_minor": 2
}
