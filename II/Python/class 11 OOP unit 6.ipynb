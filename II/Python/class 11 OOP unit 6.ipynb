{
 "cells": [
  {
   "cell_type": "code",
   "execution_count": 2,
   "metadata": {},
   "outputs": [],
   "source": [
    "class Person:\n",
    "    def __init__(self, fname, lname) -> None:\n",
    "        self.firstname = fname\n",
    "        self.lastname = lname\n",
    "    \n",
    "    def printname(self):\n",
    "        print(self.firstname, self.lastname)\n",
    "\n",
    "\n",
    "class Student(Person):\n",
    "    def __init__(self, fname, lname,year) -> None:\n",
    "        super().__init__(fname, lname) # Person.__init__(self, fname, lname)\n",
    "        self.graduationyear = year\n",
    "\n",
    "    def welcome(self):\n",
    "        print(\"Welcome \", self.firstname, self.lastname, \"to the class of \", self.graduationyear)\n"
   ]
  },
  {
   "cell_type": "code",
   "execution_count": 3,
   "metadata": {},
   "outputs": [
    {
     "name": "stdout",
     "output_type": "stream",
     "text": [
      "Welcome  Mike Olsen to the class of  2019\n",
      "Mike Olsen\n",
      "Mike\n"
     ]
    }
   ],
   "source": [
    "s = Student(\n",
    "    \"Mike\",\n",
    "    \"Olsen\",\n",
    "    2019\n",
    ")\n",
    "\n",
    "s.welcome()\n",
    "s.printname()\n",
    "print(s.firstname)"
   ]
  },
  {
   "cell_type": "code",
   "execution_count": null,
   "metadata": {},
   "outputs": [],
   "source": [
    "class Employee:\n",
    "\n",
    "    def __init__(self) -> None:\n",
    "        pass\n",
    "\n",
    "class SalesEmployee(Employee):\n",
    "    def __init__(self) -> None:\n",
    "        super().__init__()"
   ]
  },
  {
   "cell_type": "code",
   "execution_count": 10,
   "metadata": {},
   "outputs": [
    {
     "name": "stdout",
     "output_type": "stream",
     "text": [
      "Ram\n",
      "25\n"
     ]
    }
   ],
   "source": [
    "class Student:\n",
    "    def __init__(self, n, a) -> None:\n",
    "        self.__name = n # private by convention\n",
    "        self._age = a\n",
    "\n",
    "s = Student(\"Ram\", 25)\n",
    "# print(s.__name) # cannot access this property since private\n",
    "# How to access? Answer below\n",
    "print(s._Student__name) # name mangling to access private property in python \n",
    "print(s._age)"
   ]
  },
  {
   "cell_type": "code",
   "execution_count": 11,
   "metadata": {},
   "outputs": [],
   "source": [
    "from abc import ABC, abstractmethod\n",
    "\n",
    "class Person(ABC):\n",
    "\n",
    "    def __init__(self, fname, lname) -> None:\n",
    "        super().__init__()\n",
    "        self.firstname = fname\n",
    "        self.lastname = lname\n",
    "\n",
    "    @abstractmethod\n",
    "    def display(self):\n",
    "        pass\n",
    "\n",
    "class Student(Person):\n",
    "    def __init__(self, fname, lname, year) -> None:\n",
    "        super().__init__(fname, lname)\n",
    "        self.graduationyear = year\n"
   ]
  },
  {
   "cell_type": "code",
   "execution_count": 12,
   "metadata": {},
   "outputs": [
    {
     "ename": "TypeError",
     "evalue": "Can't instantiate abstract class Student with abstract method display",
     "output_type": "error",
     "traceback": [
      "\u001b[0;31m---------------------------------------------------------------------------\u001b[0m",
      "\u001b[0;31mTypeError\u001b[0m                                 Traceback (most recent call last)",
      "\u001b[1;32m/Users/rajendrakarki/Workspace/Lab/II/Python/class 11 OOP unit 6.ipynb Cell 6\u001b[0m line \u001b[0;36m1\n\u001b[0;32m----> <a href='vscode-notebook-cell:/Users/rajendrakarki/Workspace/Lab/II/Python/class%2011%20OOP%20unit%206.ipynb#W5sZmlsZQ%3D%3D?line=0'>1</a>\u001b[0m s \u001b[39m=\u001b[39m Student(\u001b[39m\"\u001b[39;49m\u001b[39mMike\u001b[39;49m\u001b[39m\"\u001b[39;49m, \u001b[39m\"\u001b[39;49m\u001b[39mOslen\u001b[39;49m\u001b[39m\"\u001b[39;49m, \u001b[39m2019\u001b[39;49m)\n",
      "\u001b[0;31mTypeError\u001b[0m: Can't instantiate abstract class Student with abstract method display"
     ]
    }
   ],
   "source": [
    "s = Student(\"Mike\", \"Oslen\", 2019)\n"
   ]
  }
 ],
 "metadata": {
  "kernelspec": {
   "display_name": "py3.11",
   "language": "python",
   "name": "python3"
  },
  "language_info": {
   "codemirror_mode": {
    "name": "ipython",
    "version": 3
   },
   "file_extension": ".py",
   "mimetype": "text/x-python",
   "name": "python",
   "nbconvert_exporter": "python",
   "pygments_lexer": "ipython3",
   "version": "3.11.4"
  },
  "orig_nbformat": 4
 },
 "nbformat": 4,
 "nbformat_minor": 2
}
