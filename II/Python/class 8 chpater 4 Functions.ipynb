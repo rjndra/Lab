{
 "cells": [
  {
   "cell_type": "code",
   "execution_count": 1,
   "metadata": {},
   "outputs": [
    {
     "name": "stdout",
     "output_type": "stream",
     "text": [
      "3\n",
      "7\n"
     ]
    }
   ],
   "source": [
    "def add(a, b):\n",
    "    return a + b\n",
    "\n",
    "print(add(1,2))\n",
    "print(add(3,4))"
   ]
  },
  {
   "cell_type": "code",
   "execution_count": 25,
   "metadata": {},
   "outputs": [
    {
     "name": "stdout",
     "output_type": "stream",
     "text": [
      "(1, 2)\n",
      "None\n",
      "(3, 4)\n",
      "None\n"
     ]
    }
   ],
   "source": [
    "def adda(a):\n",
    "    print(a)\n",
    "\n",
    "print(adda((1,2)))\n",
    "print(adda((3,4)))"
   ]
  },
  {
   "cell_type": "code",
   "execution_count": 13,
   "metadata": {},
   "outputs": [
    {
     "name": "stdout",
     "output_type": "stream",
     "text": [
      "(2, 6, 8, 9)\n",
      "(2, 6)\n"
     ]
    }
   ],
   "source": [
    "def add1(*a): # * any number of argument passed as tuple\n",
    "    print(a)\n",
    "add1(2,6,8,9)\n",
    "add1(2,6)"
   ]
  },
  {
   "cell_type": "code",
   "execution_count": 15,
   "metadata": {},
   "outputs": [
    {
     "name": "stdout",
     "output_type": "stream",
     "text": [
      "Sum =  25\n",
      "Sum =  8\n"
     ]
    }
   ],
   "source": [
    "def add1(*a): # * any number of argument passed as tuple\n",
    "    s = 0\n",
    "    for x in a:\n",
    "        s = s + x\n",
    "    return s\n",
    "print(\"Sum = \", add1(2,6,8,9))\n",
    "print('Sum = ', add1(2,6))"
   ]
  },
  {
   "cell_type": "code",
   "execution_count": 19,
   "metadata": {},
   "outputs": [
    {
     "name": "stdout",
     "output_type": "stream",
     "text": [
      "{'a1': 2, 'a2': 6, 'a3': 8, 'a4': 9}\n",
      "Sum =  None\n"
     ]
    }
   ],
   "source": [
    "def add1(**a): # ** any number of argument passed as dictionary\n",
    "    print(a)\n",
    "print(\"Sum = \", add1(a1 = 2, a2 = 6, a3 = 8, a4 = 9))"
   ]
  },
  {
   "cell_type": "code",
   "execution_count": 21,
   "metadata": {},
   "outputs": [
    {
     "name": "stdout",
     "output_type": "stream",
     "text": [
      "Sum =  25\n"
     ]
    }
   ],
   "source": [
    "def add1(**a): # ** any number of argument passed as dictionary\n",
    "    s = 0\n",
    "    for x in a.values():\n",
    "        s = s + x\n",
    "    return s\n",
    "print(\"Sum = \", add1(a1 = 2, a2 = 6, a3 = 8, a4 = 9))"
   ]
  },
  {
   "cell_type": "code",
   "execution_count": 26,
   "metadata": {},
   "outputs": [
    {
     "name": "stdout",
     "output_type": "stream",
     "text": [
      "9\n"
     ]
    }
   ],
   "source": [
    "def mul(a,b):\n",
    "    print(a)\n",
    "mul(b = 7, a = 9)"
   ]
  },
  {
   "cell_type": "code",
   "execution_count": 3,
   "metadata": {},
   "outputs": [
    {
     "name": "stdout",
     "output_type": "stream",
     "text": [
      "31\n",
      "28\n"
     ]
    }
   ],
   "source": [
    "def mul(a = 8, b = 5):\n",
    "    return a+b\n",
    "print(mul(b=23))\n",
    "print(mul(a=23))"
   ]
  },
  {
   "cell_type": "code",
   "execution_count": 6,
   "metadata": {},
   "outputs": [
    {
     "name": "stdout",
     "output_type": "stream",
     "text": [
      "1\n",
      "2\n",
      "3\n",
      "4\n",
      "5\n"
     ]
    },
    {
     "ename": "TypeError",
     "evalue": "'int' object is not iterable",
     "output_type": "error",
     "traceback": [
      "\u001b[0;31m---------------------------------------------------------------------------\u001b[0m",
      "\u001b[0;31mTypeError\u001b[0m                                 Traceback (most recent call last)",
      "Cell \u001b[0;32mIn[6], line 6\u001b[0m\n\u001b[1;32m      4\u001b[0m val \u001b[39m=\u001b[39m [\u001b[39m1\u001b[39m,\u001b[39m2\u001b[39m,\u001b[39m3\u001b[39m,\u001b[39m4\u001b[39m,\u001b[39m5\u001b[39m]\n\u001b[1;32m      5\u001b[0m display(val)\n\u001b[0;32m----> 6\u001b[0m display(\u001b[39m1\u001b[39;49m)\n",
      "Cell \u001b[0;32mIn[6], line 2\u001b[0m, in \u001b[0;36mdisplay\u001b[0;34m(v)\u001b[0m\n\u001b[1;32m      1\u001b[0m \u001b[39mdef\u001b[39;00m \u001b[39mdisplay\u001b[39m(v):\n\u001b[0;32m----> 2\u001b[0m     \u001b[39mfor\u001b[39;00m x \u001b[39min\u001b[39;00m v:\n\u001b[1;32m      3\u001b[0m         \u001b[39mprint\u001b[39m(x)\n",
      "\u001b[0;31mTypeError\u001b[0m: 'int' object is not iterable"
     ]
    }
   ],
   "source": [
    "def display(v):\n",
    "    for x in v:\n",
    "        print(x)\n",
    "val = [1,2,3,4,5]\n",
    "display(val)\n",
    "display(1)"
   ]
  },
  {
   "cell_type": "code",
   "execution_count": 8,
   "metadata": {},
   "outputs": [
    {
     "name": "stdout",
     "output_type": "stream",
     "text": [
      "Recursive 7! = 5040\n",
      "Iterative 7! = 5040\n"
     ]
    }
   ],
   "source": [
    "def facto(n): # Recursive function\n",
    "    if n == 0:\n",
    "        return 1\n",
    "    else:\n",
    "        return n * facto(n-1)\n",
    "    \n",
    "def factoi(n): # Iterative function\n",
    "    f = 1\n",
    "    for i in range(1, n+1):\n",
    "        f *= i\n",
    "    return f\n",
    "\n",
    "n = int(input(\"Enter n: \"))\n",
    "print(f'Recursive {n}! = {facto(n)}')\n",
    "print(f'Iterative {n}! = {factoi(n)}')"
   ]
  },
  {
   "cell_type": "code",
   "execution_count": 16,
   "metadata": {},
   "outputs": [
    {
     "data": {
      "text/plain": [
       "14"
      ]
     },
     "execution_count": 16,
     "metadata": {},
     "output_type": "execute_result"
    }
   ],
   "source": [
    "# lamda function can have any number of argument but only one expression\n",
    "# the expression is evaluted and return\n",
    "a = (lambda a, b : a+b)(6,8)\n",
    "a"
   ]
  },
  {
   "cell_type": "code",
   "execution_count": 12,
   "metadata": {},
   "outputs": [
    {
     "data": {
      "text/plain": [
       "14"
      ]
     },
     "execution_count": 12,
     "metadata": {},
     "output_type": "execute_result"
    }
   ],
   "source": [
    "addad = lambda a, b : a+b\n",
    "addad(6,8)"
   ]
  },
  {
   "cell_type": "code",
   "execution_count": 17,
   "metadata": {},
   "outputs": [
    {
     "name": "stdout",
     "output_type": "stream",
     "text": [
      "<function myfunc.<locals>.<lambda> at 0x111d672e0>\n"
     ]
    }
   ],
   "source": [
    "def myfunc(n):\n",
    "    return lambda a : a * n \n",
    "\n",
    "mydoubler = myfunc(2)\n",
    "print(mydoubler)"
   ]
  }
 ],
 "metadata": {
  "kernelspec": {
   "display_name": "py3.11",
   "language": "python",
   "name": "python3"
  },
  "language_info": {
   "codemirror_mode": {
    "name": "ipython",
    "version": 3
   },
   "file_extension": ".py",
   "mimetype": "text/x-python",
   "name": "python",
   "nbconvert_exporter": "python",
   "pygments_lexer": "ipython3",
   "version": "3.11.4"
  },
  "orig_nbformat": 4
 },
 "nbformat": 4,
 "nbformat_minor": 2
}
