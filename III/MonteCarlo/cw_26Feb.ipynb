{
 "cells": [
  {
   "cell_type": "code",
   "execution_count": 5,
   "metadata": {},
   "outputs": [
    {
     "name": "stdout",
     "output_type": "stream",
     "text": [
      "Integral estimate: 1.583537842498114\n"
     ]
    }
   ],
   "source": [
    "import numpy as np\n",
    "import matplotlib.pyplot as plt\n",
    "\n",
    "# Define the function\n",
    "def f1(x):\n",
    "    return x**2\n",
    "\n",
    "def f2(x):\n",
    "    return pow(np.cos(x),2)\n",
    "\n",
    "def f(x):\n",
    "    return 1/ (f1(x) + f2(x))\n",
    "\n",
    "\n",
    "# Generate x values\n",
    "# Define the limits of integration\n",
    "a = 0\n",
    "b = np.pi\n",
    "\n",
    "# Number of samples\n",
    "N = 100000\n",
    "\n",
    "# Generate random samples within the limits of integration\n",
    "samples = np.random.uniform(a, b, N)\n",
    "\n",
    "# Evaluate the function at each sample point\n",
    "values = f(samples)\n",
    "\n",
    "# Estimate the integral\n",
    "integral_estimate = (b - a) * np.mean(values)\n",
    "\n",
    "print(\"Integral estimate:\", integral_estimate)\n"
   ]
  },
  {
   "cell_type": "code",
   "execution_count": 6,
   "metadata": {},
   "outputs": [
    {
     "name": "stdout",
     "output_type": "stream",
     "text": [
      "Integral estimate: 1.5776043832379452\n"
     ]
    }
   ],
   "source": [
    "# Simple Sampling\n",
    "\n",
    "import numpy as np\n",
    "\n",
    "# Define the limits of integration\n",
    "a = 0\n",
    "b = np.pi\n",
    "\n",
    "# Number of samples\n",
    "N = 100000\n",
    "\n",
    "# Generate random samples within the limits of integration\n",
    "samples = np.random.uniform(a, b, N)\n",
    "\n",
    "# Evaluate the function at each sample point\n",
    "values = f(samples)\n",
    "\n",
    "# Estimate the integral\n",
    "integral_estimate = (b - a) * np.mean(values)\n",
    "\n",
    "print(\"Integral estimate:\", integral_estimate)"
   ]
  },
  {
   "cell_type": "code",
   "execution_count": null,
   "metadata": {},
   "outputs": [],
   "source": [
    "\n",
    " "
   ]
  },
  {
   "cell_type": "code",
   "execution_count": 8,
   "metadata": {},
   "outputs": [
    {
     "name": "stdout",
     "output_type": "stream",
     "text": [
      "Integral estimate using importance sampling: nan\n"
     ]
    },
    {
     "name": "stderr",
     "output_type": "stream",
     "text": [
      "/var/folders/dw/6724ln6d2q90v9g8cw4gbcp00000gn/T/ipykernel_84742/3743889481.py:10: RuntimeWarning: invalid value encountered in log\n",
      "  return -np.log(1 - u)\n"
     ]
    }
   ],
   "source": [
    "# Importance Sampling\n",
    "import numpy as np\n",
    "\n",
    "i = 0\n",
    "sum = 0\n",
    "summ = 0\n",
    "\n",
    "def epi():\n",
    "    return np.exp^(np.pi)\n",
    "\n",
    "def y(x):\n",
    "    return epi()/(epi()-1) * (1 - np.exp(-x))\n",
    "\n",
    "\n",
    "while i < N:\n",
    "    samples = np.random.uniform(a, b)\n",
    "\n",
    "print(\"Integral estimate using importance sampling:\", integral_estimate)\n",
    "\n"
   ]
  }
 ],
 "metadata": {
  "kernelspec": {
   "display_name": "py3.11",
   "language": "python",
   "name": "python3"
  },
  "language_info": {
   "codemirror_mode": {
    "name": "ipython",
    "version": 3
   },
   "file_extension": ".py",
   "mimetype": "text/x-python",
   "name": "python",
   "nbconvert_exporter": "python",
   "pygments_lexer": "ipython3",
   "version": "3.11.4"
  }
 },
 "nbformat": 4,
 "nbformat_minor": 2
}
