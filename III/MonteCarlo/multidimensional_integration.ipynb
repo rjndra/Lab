{
 "cells": [
  {
   "cell_type": "code",
   "execution_count": 11,
   "metadata": {},
   "outputs": [
    {
     "name": "stdout",
     "output_type": "stream",
     "text": [
      "Integral estimate: 0.00012017808515226107\n"
     ]
    }
   ],
   "source": [
    "# Simple Sampling\n",
    "\n",
    "import numpy as np\n",
    "\n",
    "# Define the limits of integration\n",
    "a = -5\n",
    "b = 5\n",
    "\n",
    "# Number of samples\n",
    "N = 100000\n",
    "\n",
    "np.random.seed(12313)\n",
    "\n",
    "# Generate random samples within the limits of integration\n",
    "x1 = np.random.uniform(a, b, N)\n",
    "x2 = np.random.uniform(a, b, N)\n",
    "x3 = np.random.uniform(a, b, N)\n",
    "y1 = np.random.uniform(a, b, N)\n",
    "y2 = np.random.uniform(a, b, N)\n",
    "y3 = np.random.uniform(a, b, N)\n",
    "\n",
    "# def g(x,y):\n",
    "#     return np.exp(-x**2-y**2-((x-y)**2)/2)\n",
    "\n",
    "def f(x1,x2, x3, y1,y2, y3):\n",
    "    return np.exp(-3/2*(x1**2+x2**2+x3**2+y1**2+y2**2+y3**2)+(x1*y1+x2*y2+x3*y3))\n",
    "\n",
    "# Evaluate the function at each sample point\n",
    "i = f(x1,x2,x3,y1,y2,y3)\n",
    "\n",
    "# Estimate the integral\n",
    "integral_estimate = (b - a) * np.mean(i)\n",
    "\n",
    "print(\"Integral estimate:\", integral_estimate)\n"
   ]
  },
  {
   "cell_type": "code",
   "execution_count": 9,
   "metadata": {},
   "outputs": [
    {
     "name": "stdout",
     "output_type": "stream",
     "text": [
      "The value calculated by monte carlo integration is 1.723916147504703\n"
     ]
    }
   ],
   "source": [
    "import random\n",
    "import numpy as np\n",
    "import math\n",
    "a = 0.\n",
    "b = 1.\n",
    "integral = 0.0\n",
    "i=0\n",
    "N = 1000\n",
    "while i<N:\n",
    "    x=random.random()\n",
    "    integral += math.exp(x)\n",
    "    i=i+1\n",
    "ans=integral*(b-a)/float(N)\n",
    "print(f\"The value calculated by monte carlo integration is {ans}\")"
   ]
  },
  {
   "cell_type": "code",
   "execution_count": 94,
   "metadata": {},
   "outputs": [
    {
     "name": "stdout",
     "output_type": "stream",
     "text": [
      "3.14152\n"
     ]
    }
   ],
   "source": [
    "no_of_iterations = 100000\n",
    "circle_points = 0\n",
    "square_points = 0\n",
    "\n",
    "random.seed(25)\n",
    "increment = 0\n",
    "while increment<no_of_iterations:\n",
    "    x = random.random()\n",
    "    y = random.random()\n",
    "    d = x*x+y*y\n",
    "    if d <= 1:\n",
    "        circle_points += 1\n",
    "    square_points += 1\n",
    "    increment += 1\n",
    "\n",
    "pi = 4*(circle_points/square_points)\n",
    "print(pi)"
   ]
  }
 ],
 "metadata": {
  "kernelspec": {
   "display_name": "py3.11",
   "language": "python",
   "name": "python3"
  },
  "language_info": {
   "codemirror_mode": {
    "name": "ipython",
    "version": 3
   },
   "file_extension": ".py",
   "mimetype": "text/x-python",
   "name": "python",
   "nbconvert_exporter": "python",
   "pygments_lexer": "ipython3",
   "version": "3.11.7"
  }
 },
 "nbformat": 4,
 "nbformat_minor": 2
}
