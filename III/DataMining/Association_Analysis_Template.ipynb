{
  "cells": [
    {
      "cell_type": "markdown",
      "metadata": {
        "id": "iExrdQ01qfhB"
      },
      "source": [
        "# Association Rule Mining\n",
        "\n",
        "Apriori Algorithm  Implementation"
      ]
    },
    {
      "cell_type": "code",
      "execution_count": 23,
      "metadata": {
        "id": "CMXq72jJqoFI"
      },
      "outputs": [],
      "source": [
        "# parameters for pruning\n",
        "min_support = 2\n",
        "min_conf    = 0.6 # 60% of confidance score"
      ]
    },
    {
      "cell_type": "code",
      "execution_count": 24,
      "metadata": {
        "id": "DMz-iFpyp23E"
      },
      "outputs": [],
      "source": [
        "# transactions - array of array\n",
        "# items - list\n",
        "# itemset - dict\n",
        "items = [1,2,3,4,5]\n",
        "\n",
        "# dataset\n",
        "transactions = [\n",
        "    [1,3,4],    # transaction data R1\n",
        "    [2,3,5],    # transaction data R2 ...\n",
        "    [1,2,3,5],\n",
        "    [2,5],\n",
        "    [1,3,5]\n",
        "]\n",
        "\n",
        "# list required for processing the data\n",
        "frequent_itemsets   = []\n",
        "supports            = []\n",
        "discarded           = []"
      ]
    },
    {
      "cell_type": "markdown",
      "metadata": {
        "id": "x8NjUo0rq6LZ"
      },
      "source": [
        "### Helper Functions\n"
      ]
    },
    {
      "cell_type": "code",
      "execution_count": 25,
      "metadata": {
        "id": "1ggEqSmHq713"
      },
      "outputs": [],
      "source": [
        "def print_table(col1, col2):\n",
        "    for i in range(len(col1)):\n",
        "        print(f\"{str(col1[i]).ljust(7)} {col2[i]}\")"
      ]
    },
    {
      "cell_type": "code",
      "execution_count": 26,
      "metadata": {
        "id": "KF_RPxBirAYg"
      },
      "outputs": [],
      "source": [
        "def get_superset(_set):\n",
        "    subsets = [set([])]\n",
        "    for nth in _set:\n",
        "        subsets.extend([s | {nth} for s in subsets])\n",
        "    return subsets"
      ]
    },
    {
      "cell_type": "code",
      "execution_count": null,
      "metadata": {},
      "outputs": [],
      "source": [
        "def get_superset(_set, _n = 0):\n",
        "\n",
        "    subsets = []\n",
        "    if _n == 1:\n",
        "        subsets = [{s} for s in _set]\n",
        "    elif _n > 1:\n",
        "        combs = combinations(_set, _n)\n",
        "        for comb in combs:\n",
        "            subsets.append(set(comb))\n",
        "    else:\n",
        "        for r in range(len(_set)):\n",
        "            combs = combinations(_setm r)\n",
        "            for comb in combs:\n",
        "                subsets.append(set(comb))\n",
        "    print(f\"get_superset(_n) :\" {subsets})\n",
        "    return subsets"
      ]
    },
    {
      "cell_type": "code",
      "execution_count": 27,
      "metadata": {
        "id": "ZH7tz5rvrC7a"
      },
      "outputs": [],
      "source": [
        "# calculate support\n",
        "def calculate_support(item):\n",
        "    _support = 0\n",
        "    # print(f\"calculate_support(item) = {item}\")\n",
        "\n",
        "    # iterate over dataset and count occurance `item`\n",
        "    for i in range(len(transactions)):\n",
        "        # if set(transactions[i]).issubset(set(item)):\n",
        "        if set(item).issubset(set(transactions[i])):\n",
        "            # print(f\"Found {set(item)} in {set(transactions[i])}\")\n",
        "            _support += 1\n",
        "    return _support"
      ]
    },
    {
      "cell_type": "code",
      "execution_count": 28,
      "metadata": {
        "id": "l6vsr3BbrHK_"
      },
      "outputs": [],
      "source": [
        "# find items in itemset\n",
        "def get_items(_itemset):\n",
        "    items_in_itemset = []\n",
        "    for _items in _itemset:\n",
        "        for _item in list(_items):\n",
        "            if _item not in items_in_itemset:\n",
        "                items_in_itemset.append(_item)\n",
        "    return items_in_itemset\n"
      ]
    },
    {
      "cell_type": "markdown",
      "metadata": {
        "id": "kHte7ZgMsFD7"
      },
      "source": [
        "### generate the frequent itemsets"
      ]
    },
    {
      "cell_type": "code",
      "execution_count": null,
      "metadata": {},
      "outputs": [],
      "source": []
    },
    {
      "cell_type": "code",
      "execution_count": 29,
      "metadata": {
        "id": "t0iaxkTkrKRo"
      },
      "outputs": [],
      "source": [
        "def get_itemsetset(n):\n",
        "    frequent_itemsets.append([])\n",
        "    supports.append([])\n",
        "    items_in_itemset = get_items(frequent_itemsets[n-1])\n",
        "\n",
        "    print(f\"Items in n-1={n-1} FrequentItemSet {items_in_itemset}\")\n",
        "\n",
        "    # get the superset\n",
        "    sets = get_superset(items_in_itemset)\n",
        "\n",
        "    # filter the itemset less than sn'th size\n",
        "    _itemsets = []\n",
        "    # purning\n",
        "    for s in sets:\n",
        "        if len(s) == n and s not in discarded:\n",
        "            _itemsets.append(s)\n",
        "\n",
        "    # without purning\n",
        "    # _itemsets = [s for s in sets if len(s) == n]\n",
        "\n",
        "    # calculate support and check the threshold\n",
        "    # update the exclude list\n",
        "    for _item in _itemsets:\n",
        "        support_count = calculate_support(_item)\n",
        "        if support_count >= min_support:\n",
        "            frequent_itemsets[n].append(_item)\n",
        "            supports[n].append(support_count)\n",
        "        else: #exclude\n",
        "            discarded.append(_item)\n",
        "    print_table(frequent_itemsets[n], supports[n])\n",
        "\n",
        "    return frequent_itemsets[n]"
      ]
    },
    {
      "cell_type": "code",
      "execution_count": 30,
      "metadata": {
        "id": "8jsSTgXArSRo"
      },
      "outputs": [],
      "source": [
        "def generate_frequent_itemset():\n",
        "    n = 1\n",
        "    while (True):\n",
        "        print(f\" ======== n = {n} =========\")\n",
        "        _itemsets = get_itemsetset(n)\n",
        "        if(len(_itemsets) > 1): n += 1\n",
        "        else: break\n",
        "    # return max frequent itemset\n",
        "    return n-1"
      ]
    },
    {
      "cell_type": "markdown",
      "metadata": {
        "id": "il5A4bQDrpCE"
      },
      "source": [
        "### Init the Datastructures"
      ]
    },
    {
      "cell_type": "code",
      "execution_count": 31,
      "metadata": {
        "id": "W7Gy5IAJrOfv"
      },
      "outputs": [],
      "source": [
        "# initialize the itemset and support\n",
        "#    we used 0th index to reduce the condition\n",
        "#     check due to 0-based index\n",
        "def init():\n",
        "    # get 1 itemset and calculate support\n",
        "    frequent_itemsets.append([])\n",
        "    supports.append([])\n",
        "    # dummy init\n",
        "    for item in items:\n",
        "        frequent_itemsets[0].append({item})\n",
        "        supports[0].append(0)\n"
      ]
    },
    {
      "cell_type": "markdown",
      "metadata": {
        "id": "ICKbC2W0ruE_"
      },
      "source": [
        "### Step 1: Most Frequent Item set generation"
      ]
    },
    {
      "cell_type": "code",
      "execution_count": 32,
      "metadata": {
        "colab": {
          "base_uri": "https://localhost:8080/"
        },
        "id": "jKP2d7XbrVZ-",
        "outputId": "bdb6612f-0da0-4026-8590-da579b16e086"
      },
      "outputs": [
        {
          "name": "stdout",
          "output_type": "stream",
          "text": [
            " ======== n = 1 =========\n",
            "Items in n-1=0 FrequentItemSet [1, 2, 3, 4, 5]\n",
            "{1}     3\n",
            "{2}     3\n",
            "{3}     4\n",
            "{5}     4\n",
            " ======== n = 2 =========\n",
            "Items in n-1=1 FrequentItemSet [1, 2, 3, 5]\n",
            "{1, 3}  3\n",
            "{2, 3}  2\n",
            "{1, 5}  2\n",
            "{2, 5}  3\n",
            "{3, 5}  3\n",
            " ======== n = 3 =========\n",
            "Items in n-1=2 FrequentItemSet [1, 3, 2, 5]\n",
            "{1, 3, 5} 2\n",
            "{2, 3, 5} 2\n",
            " ======== n = 4 =========\n",
            "Items in n-1=3 FrequentItemSet [1, 3, 5, 2]\n"
          ]
        }
      ],
      "source": [
        "# init the lists\n",
        "init()\n",
        "# Step 1: most frequent items\n",
        "max_itemset_number = generate_frequent_itemset()"
      ]
    },
    {
      "cell_type": "markdown",
      "metadata": {
        "id": "JyF78OoBr58A"
      },
      "source": [
        "### Step 2: formulation of rules"
      ]
    },
    {
      "cell_type": "code",
      "execution_count": 33,
      "metadata": {
        "colab": {
          "base_uri": "https://localhost:8080/"
        },
        "id": "o2wNYaL-r4GK",
        "outputId": "aeff736d-00b0-4b43-885d-0cced094b8ac"
      },
      "outputs": [
        {
          "name": "stdout",
          "output_type": "stream",
          "text": [
            "==============================\n",
            "Subsets of I {1, 3, 5} = [set(), {1}, {3}, {1, 3}, {5}, {1, 5}, {3, 5}, {1, 3, 5}]\n",
            "set() -> {1, 3, 5} with Confidance: 0.4 REJECTED\n",
            "{1} -> {3, 5} with Confidance: 0.6666666666666666 SELECTED\n",
            "{3} -> {1, 5} with Confidance: 0.5 REJECTED\n",
            "{1, 3} -> {5} with Confidance: 0.6666666666666666 SELECTED\n",
            "{5} -> {1, 3} with Confidance: 0.5 REJECTED\n",
            "{1, 5} -> {3} with Confidance: 1.0 SELECTED\n",
            "{3, 5} -> {1} with Confidance: 0.6666666666666666 SELECTED\n",
            "==============================\n",
            "Subsets of I {2, 3, 5} = [set(), {2}, {3}, {2, 3}, {5}, {2, 5}, {3, 5}, {2, 3, 5}]\n",
            "set() -> {2, 3, 5} with Confidance: 0.4 REJECTED\n",
            "{2} -> {3, 5} with Confidance: 0.6666666666666666 SELECTED\n",
            "{3} -> {2, 5} with Confidance: 0.5 REJECTED\n",
            "{2, 3} -> {5} with Confidance: 1.0 SELECTED\n",
            "{5} -> {2, 3} with Confidance: 0.5 REJECTED\n",
            "{2, 5} -> {3} with Confidance: 0.6666666666666666 SELECTED\n",
            "{3, 5} -> {2} with Confidance: 0.6666666666666666 SELECTED\n"
          ]
        }
      ],
      "source": [
        "#       get all the item sets of max frequent set\n",
        "#       get the superset of frequent itemset\n",
        "#           S -> (I - S) i.e. => S recommends (I-S)\n",
        "#       if support(I)/support(S) >= min_conf value\n",
        "for I in frequent_itemsets[max_itemset_number]:\n",
        "    print('='*30)\n",
        "    subsets = get_superset(I)\n",
        "    print(f\"Subsets of I {I} = {subsets}\")\n",
        "    # S -> (I - S) i.e. => S recommends (I-S)\n",
        "    for S in subsets:\n",
        "        I_S = I - S\n",
        "        if len(I_S) <= 0: continue\n",
        "        I_support = calculate_support(I)\n",
        "        S_support = calculate_support(S)\n",
        "        conf_score = I_support / S_support\n",
        "        is_selected = 'SELECTED' if conf_score >= min_conf else 'REJECTED'\n",
        "        print(f\"{S} -> {I_S} with Confidance: {conf_score} {is_selected}\")"
      ]
    },
    {
      "cell_type": "markdown",
      "metadata": {
        "id": "mF4oZMlPtaca"
      },
      "source": [
        "# Working on Real dataset\n",
        "\n",
        "The csv contains the Shopping cart entries"
      ]
    },
    {
      "cell_type": "markdown",
      "metadata": {
        "id": "xI5OqGfQtp2a"
      },
      "source": [
        "## Task 1: Data Collect and Extract"
      ]
    },
    {
      "cell_type": "code",
      "execution_count": 34,
      "metadata": {
        "id": "IXSzawIsRQRs"
      },
      "outputs": [
        {
          "data": {
            "text/html": [
              "<div>\n",
              "<style scoped>\n",
              "    .dataframe tbody tr th:only-of-type {\n",
              "        vertical-align: middle;\n",
              "    }\n",
              "\n",
              "    .dataframe tbody tr th {\n",
              "        vertical-align: top;\n",
              "    }\n",
              "\n",
              "    .dataframe thead th {\n",
              "        text-align: right;\n",
              "    }\n",
              "</style>\n",
              "<table border=\"1\" class=\"dataframe\">\n",
              "  <thead>\n",
              "    <tr style=\"text-align: right;\">\n",
              "      <th></th>\n",
              "      <th>shrimp</th>\n",
              "      <th>almonds</th>\n",
              "      <th>avocado</th>\n",
              "      <th>vegetables mix</th>\n",
              "      <th>green grapes</th>\n",
              "      <th>whole weat flour</th>\n",
              "      <th>yams</th>\n",
              "      <th>cottage cheese</th>\n",
              "      <th>energy drink</th>\n",
              "      <th>tomato juice</th>\n",
              "      <th>low fat yogurt</th>\n",
              "      <th>green tea</th>\n",
              "      <th>honey</th>\n",
              "      <th>salad</th>\n",
              "      <th>mineral water</th>\n",
              "      <th>salmon</th>\n",
              "      <th>antioxydant juice</th>\n",
              "      <th>frozen smoothie</th>\n",
              "      <th>spinach</th>\n",
              "      <th>olive oil</th>\n",
              "    </tr>\n",
              "  </thead>\n",
              "  <tbody>\n",
              "    <tr>\n",
              "      <th>0</th>\n",
              "      <td>burgers</td>\n",
              "      <td>meatballs</td>\n",
              "      <td>eggs</td>\n",
              "      <td>NaN</td>\n",
              "      <td>NaN</td>\n",
              "      <td>NaN</td>\n",
              "      <td>NaN</td>\n",
              "      <td>NaN</td>\n",
              "      <td>NaN</td>\n",
              "      <td>NaN</td>\n",
              "      <td>NaN</td>\n",
              "      <td>NaN</td>\n",
              "      <td>NaN</td>\n",
              "      <td>NaN</td>\n",
              "      <td>NaN</td>\n",
              "      <td>NaN</td>\n",
              "      <td>NaN</td>\n",
              "      <td>NaN</td>\n",
              "      <td>NaN</td>\n",
              "      <td>NaN</td>\n",
              "    </tr>\n",
              "    <tr>\n",
              "      <th>1</th>\n",
              "      <td>chutney</td>\n",
              "      <td>NaN</td>\n",
              "      <td>NaN</td>\n",
              "      <td>NaN</td>\n",
              "      <td>NaN</td>\n",
              "      <td>NaN</td>\n",
              "      <td>NaN</td>\n",
              "      <td>NaN</td>\n",
              "      <td>NaN</td>\n",
              "      <td>NaN</td>\n",
              "      <td>NaN</td>\n",
              "      <td>NaN</td>\n",
              "      <td>NaN</td>\n",
              "      <td>NaN</td>\n",
              "      <td>NaN</td>\n",
              "      <td>NaN</td>\n",
              "      <td>NaN</td>\n",
              "      <td>NaN</td>\n",
              "      <td>NaN</td>\n",
              "      <td>NaN</td>\n",
              "    </tr>\n",
              "    <tr>\n",
              "      <th>2</th>\n",
              "      <td>turkey</td>\n",
              "      <td>avocado</td>\n",
              "      <td>NaN</td>\n",
              "      <td>NaN</td>\n",
              "      <td>NaN</td>\n",
              "      <td>NaN</td>\n",
              "      <td>NaN</td>\n",
              "      <td>NaN</td>\n",
              "      <td>NaN</td>\n",
              "      <td>NaN</td>\n",
              "      <td>NaN</td>\n",
              "      <td>NaN</td>\n",
              "      <td>NaN</td>\n",
              "      <td>NaN</td>\n",
              "      <td>NaN</td>\n",
              "      <td>NaN</td>\n",
              "      <td>NaN</td>\n",
              "      <td>NaN</td>\n",
              "      <td>NaN</td>\n",
              "      <td>NaN</td>\n",
              "    </tr>\n",
              "    <tr>\n",
              "      <th>3</th>\n",
              "      <td>mineral water</td>\n",
              "      <td>milk</td>\n",
              "      <td>energy bar</td>\n",
              "      <td>whole wheat rice</td>\n",
              "      <td>green tea</td>\n",
              "      <td>NaN</td>\n",
              "      <td>NaN</td>\n",
              "      <td>NaN</td>\n",
              "      <td>NaN</td>\n",
              "      <td>NaN</td>\n",
              "      <td>NaN</td>\n",
              "      <td>NaN</td>\n",
              "      <td>NaN</td>\n",
              "      <td>NaN</td>\n",
              "      <td>NaN</td>\n",
              "      <td>NaN</td>\n",
              "      <td>NaN</td>\n",
              "      <td>NaN</td>\n",
              "      <td>NaN</td>\n",
              "      <td>NaN</td>\n",
              "    </tr>\n",
              "    <tr>\n",
              "      <th>4</th>\n",
              "      <td>low fat yogurt</td>\n",
              "      <td>NaN</td>\n",
              "      <td>NaN</td>\n",
              "      <td>NaN</td>\n",
              "      <td>NaN</td>\n",
              "      <td>NaN</td>\n",
              "      <td>NaN</td>\n",
              "      <td>NaN</td>\n",
              "      <td>NaN</td>\n",
              "      <td>NaN</td>\n",
              "      <td>NaN</td>\n",
              "      <td>NaN</td>\n",
              "      <td>NaN</td>\n",
              "      <td>NaN</td>\n",
              "      <td>NaN</td>\n",
              "      <td>NaN</td>\n",
              "      <td>NaN</td>\n",
              "      <td>NaN</td>\n",
              "      <td>NaN</td>\n",
              "      <td>NaN</td>\n",
              "    </tr>\n",
              "  </tbody>\n",
              "</table>\n",
              "</div>"
            ],
            "text/plain": [
              "           shrimp    almonds     avocado    vegetables mix green grapes  \\\n",
              "0         burgers  meatballs        eggs               NaN          NaN   \n",
              "1         chutney        NaN         NaN               NaN          NaN   \n",
              "2          turkey    avocado         NaN               NaN          NaN   \n",
              "3   mineral water       milk  energy bar  whole wheat rice    green tea   \n",
              "4  low fat yogurt        NaN         NaN               NaN          NaN   \n",
              "\n",
              "  whole weat flour yams cottage cheese energy drink tomato juice  \\\n",
              "0              NaN  NaN            NaN          NaN          NaN   \n",
              "1              NaN  NaN            NaN          NaN          NaN   \n",
              "2              NaN  NaN            NaN          NaN          NaN   \n",
              "3              NaN  NaN            NaN          NaN          NaN   \n",
              "4              NaN  NaN            NaN          NaN          NaN   \n",
              "\n",
              "  low fat yogurt green tea honey salad mineral water salmon antioxydant juice  \\\n",
              "0            NaN       NaN   NaN   NaN           NaN    NaN               NaN   \n",
              "1            NaN       NaN   NaN   NaN           NaN    NaN               NaN   \n",
              "2            NaN       NaN   NaN   NaN           NaN    NaN               NaN   \n",
              "3            NaN       NaN   NaN   NaN           NaN    NaN               NaN   \n",
              "4            NaN       NaN   NaN   NaN           NaN    NaN               NaN   \n",
              "\n",
              "  frozen smoothie spinach  olive oil  \n",
              "0             NaN     NaN        NaN  \n",
              "1             NaN     NaN        NaN  \n",
              "2             NaN     NaN        NaN  \n",
              "3             NaN     NaN        NaN  \n",
              "4             NaN     NaN        NaN  "
            ]
          },
          "execution_count": 34,
          "metadata": {},
          "output_type": "execute_result"
        }
      ],
      "source": [
        "import pandas as pd\n",
        "\n",
        "df = pd.read_csv(\"basket_data.csv\")\n",
        "df.head()"
      ]
    },
    {
      "cell_type": "code",
      "execution_count": 35,
      "metadata": {},
      "outputs": [
        {
          "data": {
            "text/plain": [
              "['burgers', 'meatballs', 'eggs']"
            ]
          },
          "execution_count": 35,
          "metadata": {},
          "output_type": "execute_result"
        }
      ],
      "source": [
        "import csv\n",
        "\n",
        "rows = []\n",
        "\n",
        "with open(\"basket_data.csv\", 'r') as file:\n",
        "    csvreader = csv.reader(file)\n",
        "    for row in csvreader:\n",
        "        while ('' in row):\n",
        "            row.remove('')\n",
        "        rows.append(row)\n",
        "        # newset = set(row)\n",
        "        # rows.append(list(newset))\n",
        "\n",
        "len(rows)\n",
        "\n",
        "rows[1]"
      ]
    },
    {
      "cell_type": "markdown",
      "metadata": {
        "id": "SSPUyBwbtvY5"
      },
      "source": [
        "## Task 2: Transform (Coding)"
      ]
    },
    {
      "cell_type": "code",
      "execution_count": 36,
      "metadata": {
        "id": "-jpL-kFXRQs1"
      },
      "outputs": [
        {
          "name": "stdout",
          "output_type": "stream",
          "text": [
            "120\n"
          ]
        }
      ],
      "source": [
        "items_name_list = set(item for sublist in rows for item in sublist)\n",
        "\n",
        "print(len(items_name_list))"
      ]
    },
    {
      "cell_type": "code",
      "execution_count": 37,
      "metadata": {},
      "outputs": [
        {
          "data": {
            "text/plain": [
              "{1: 'parmesan cheese',\n",
              " 2: 'escalope',\n",
              " 3: 'flax seed',\n",
              " 4: 'frozen smoothie',\n",
              " 5: 'cookies',\n",
              " 6: 'almonds',\n",
              " 7: 'chicken',\n",
              " 8: 'ketchup',\n",
              " 9: 'babies food',\n",
              " 10: 'cooking oil',\n",
              " 11: 'shampoo',\n",
              " 12: 'burgers',\n",
              " 13: 'protein bar',\n",
              " 14: 'fresh tuna',\n",
              " 15: 'mashed potato',\n",
              " 16: 'chutney',\n",
              " 17: 'chocolate bread',\n",
              " 18: 'vegetables mix',\n",
              " 19: 'burger sauce',\n",
              " 20: 'cereals',\n",
              " 21: 'spaghetti',\n",
              " 22: 'whole weat flour',\n",
              " 23: 'gluten free bar',\n",
              " 24: 'water spray',\n",
              " 25: 'eggs',\n",
              " 26: 'barbecue sauce',\n",
              " 27: 'bacon',\n",
              " 28: 'gums',\n",
              " 29: 'milk',\n",
              " 30: 'soup',\n",
              " 31: 'whole wheat rice',\n",
              " 32: 'light cream',\n",
              " 33: 'tomato juice',\n",
              " 34: 'honey',\n",
              " 35: 'pasta',\n",
              " 36: 'turkey',\n",
              " 37: 'brownies',\n",
              " 38: 'mayonnaise',\n",
              " 39: 'salmon',\n",
              " 40: 'shrimp',\n",
              " 41: 'grated cheese',\n",
              " 42: 'energy drink',\n",
              " 43: 'mineral water',\n",
              " 44: 'hand protein bar',\n",
              " 45: 'energy bar',\n",
              " 46: 'mint green tea',\n",
              " 47: 'blueberries',\n",
              " 48: 'dessert wine',\n",
              " 49: 'nonfat milk',\n",
              " 50: 'bramble',\n",
              " 51: 'corn',\n",
              " 52: 'candy bars',\n",
              " 53: 'mint',\n",
              " 54: 'yogurt cake',\n",
              " 55: 'soda',\n",
              " 56: 'red wine',\n",
              " 57: 'oil',\n",
              " 58: 'melons',\n",
              " 59: 'meatballs',\n",
              " 60: 'napkins',\n",
              " 61: 'cottage cheese',\n",
              " 62: 'cider',\n",
              " 63: 'body spray',\n",
              " 64: 'extra dark chocolate',\n",
              " 65: 'tomato sauce',\n",
              " 66: 'champagne',\n",
              " 67: 'low fat yogurt',\n",
              " 68: 'frozen vegetables',\n",
              " 69: 'pepper',\n",
              " 70: 'pancakes',\n",
              " 71: 'salt',\n",
              " 72: 'french fries',\n",
              " 73: 'avocado',\n",
              " 74: 'cream',\n",
              " 75: 'oatmeal',\n",
              " 76: ' asparagus',\n",
              " 77: 'cauliflower',\n",
              " 78: 'butter',\n",
              " 79: 'eggplant',\n",
              " 80: 'ground beef',\n",
              " 81: 'green grapes',\n",
              " 82: 'bug spray',\n",
              " 83: 'white wine',\n",
              " 84: 'muffins',\n",
              " 85: 'zucchini',\n",
              " 86: 'chocolate',\n",
              " 87: 'clothes accessories',\n",
              " 88: 'fromage blanc',\n",
              " 89: 'ham',\n",
              " 90: 'tea',\n",
              " 91: 'sparkling water',\n",
              " 92: 'black tea',\n",
              " 93: 'strong cheese',\n",
              " 94: 'strawberries',\n",
              " 95: 'carrots',\n",
              " 96: 'sandwich',\n",
              " 97: 'light mayo',\n",
              " 98: 'rice',\n",
              " 99: 'chili',\n",
              " 100: 'pickles',\n",
              " 101: 'whole wheat pasta',\n",
              " 102: 'magazines',\n",
              " 103: 'spinach',\n",
              " 104: 'herb & pepper',\n",
              " 105: 'fresh bread',\n",
              " 106: 'antioxydant juice',\n",
              " 107: 'olive oil',\n",
              " 108: 'yams',\n",
              " 109: 'french wine',\n",
              " 110: 'mushroom cream sauce',\n",
              " 111: 'asparagus',\n",
              " 112: 'tomatoes',\n",
              " 113: 'salad',\n",
              " 114: 'cake',\n",
              " 115: 'toothpaste',\n",
              " 116: 'shallot',\n",
              " 117: 'green tea',\n",
              " 118: 'pet food',\n",
              " 119: 'hot dogs',\n",
              " 120: 'green beans'}"
            ]
          },
          "execution_count": 37,
          "metadata": {},
          "output_type": "execute_result"
        }
      ],
      "source": [
        "original_items = {i+1:item for i, item in enumerate(items_name_list)}\n",
        "\n",
        "original_items_reveresed = {item: i+1 for i, item in enumerate(items_name_list)}\n",
        "\n",
        "original_items"
      ]
    },
    {
      "cell_type": "code",
      "execution_count": null,
      "metadata": {},
      "outputs": [],
      "source": [
        "#prepare dataset suitable for algorithms\n",
        "items = [key for key in original_items]\n",
        "\n",
        "transaction_all = [[original_items_reveresed[key] for key in sublist] for sublist in items ]"
      ]
    },
    {
      "cell_type": "markdown",
      "metadata": {
        "id": "AQ_rXbMItzx4"
      },
      "source": [
        "## Task3: Run Algoritm"
      ]
    },
    {
      "cell_type": "code",
      "execution_count": null,
      "metadata": {
        "id": "IDOZ03Zlt5u7"
      },
      "outputs": [],
      "source": [
        "# parameters for pruning\n",
        "min_support = 50\n",
        "min_conf    = 0.5 # 60% of confidance score\n",
        "\n",
        "# list required for processing the data\n",
        "frequent_itemsets   = []\n",
        "supports            = []\n",
        "discarded           = []"
      ]
    },
    {
      "cell_type": "markdown",
      "metadata": {
        "id": "SMOE0PqTt7fP"
      },
      "source": [
        "## Task 4: Interprate\n",
        "\n",
        "Decode the values and interprate the result"
      ]
    },
    {
      "cell_type": "code",
      "execution_count": null,
      "metadata": {
        "id": "B4L0-XHyuDvh"
      },
      "outputs": [],
      "source": [
        "# init the lists\n",
        "init()\n",
        "\n",
        "# Step 1: most frequent items\n",
        "max_itemset_number = generate_frequent_itemset()"
      ]
    }
  ],
  "metadata": {
    "colab": {
      "provenance": []
    },
    "kernelspec": {
      "display_name": "Python 3",
      "name": "python3"
    },
    "language_info": {
      "codemirror_mode": {
        "name": "ipython",
        "version": 3
      },
      "file_extension": ".py",
      "mimetype": "text/x-python",
      "name": "python",
      "nbconvert_exporter": "python",
      "pygments_lexer": "ipython3",
      "version": "3.11.4"
    }
  },
  "nbformat": 4,
  "nbformat_minor": 0
}
