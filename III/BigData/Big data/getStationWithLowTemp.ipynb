{
 "cells": [
  {
   "cell_type": "markdown",
   "metadata": {},
   "source": [
    "Fine the minimum temperature of each station with type TMIN in file 1800.csv"
   ]
  },
  {
   "cell_type": "code",
   "execution_count": 13,
   "metadata": {},
   "outputs": [
    {
     "name": "stdout",
     "output_type": "stream",
     "text": [
      "Overwriting bigdata.py\n"
     ]
    }
   ],
   "source": [
    "%%writefile bigdata.py\n",
    "from mrjob.job import MRJob\n",
    "\n",
    "class BigData(MRJob):\n",
    "\n",
    "    def mapper(self, key, value) : # collect required data, tranformation and filtering \n",
    "        (id,timestamp,type,temp,x,y,z,cat) = value.split(\",\")\n",
    "        if type == \"TMIN\":\n",
    "            yield id, temp\n",
    "\n",
    "    def reducer(self, key, value): # reduce values ma matra huncha # sort and group\n",
    "        yield key, min(value)\n",
    "\n",
    "if __name__ == \"__main__\":\n",
    "    BigData.run()\n"
   ]
  },
  {
   "cell_type": "code",
   "execution_count": 14,
   "metadata": {},
   "outputs": [
    {
     "name": "stdout",
     "output_type": "stream",
     "text": [
      "No configs found; falling back on auto-configuration\n",
      "No configs specified for inline runner\n",
      "Creating temp directory /var/folders/dw/6724ln6d2q90v9g8cw4gbcp00000gn/T/bigdata.rajendrakarki.20240206.020928.425305\n",
      "Running step 1 of 1...\n",
      "job output is in /var/folders/dw/6724ln6d2q90v9g8cw4gbcp00000gn/T/bigdata.rajendrakarki.20240206.020928.425305/output\n",
      "Streaming final output from /var/folders/dw/6724ln6d2q90v9g8cw4gbcp00000gn/T/bigdata.rajendrakarki.20240206.020928.425305/output...\n",
      "\"ITE00100554\"\t\"-10\"\n",
      "\"EZE00100082\"\t\"-102\"\n",
      "Removing temp directory /var/folders/dw/6724ln6d2q90v9g8cw4gbcp00000gn/T/bigdata.rajendrakarki.20240206.020928.425305...\n"
     ]
    }
   ],
   "source": [
    "!python bigdata.py 1800.csv"
   ]
  }
 ],
 "metadata": {
  "kernelspec": {
   "display_name": "Python 3",
   "language": "python",
   "name": "python3"
  },
  "language_info": {
   "codemirror_mode": {
    "name": "ipython",
    "version": 3
   },
   "file_extension": ".py",
   "mimetype": "text/x-python",
   "name": "python",
   "nbconvert_exporter": "python",
   "pygments_lexer": "ipython3",
   "version": "3.11.4"
  }
 },
 "nbformat": 4,
 "nbformat_minor": 2
}
